{
 "cells": [
  {
   "cell_type": "code",
   "execution_count": 1,
   "id": "7004223c",
   "metadata": {},
   "outputs": [],
   "source": [
    "\"\"\"This file contains the pipeline for training and evaluating the GCN on the data.\"\"\"\n",
    "import os\n",
    "import sys\n",
    "import random\n",
    "import numpy as np\n",
    "import pandas as pd\n",
    "import datetime\n",
    "from typeguard import typechecked\n",
    "import pickle\n",
    "import matplotlib.pyplot as plt\n",
    "\n",
    "import networkx\n",
    "import torch\n",
    "from torch_geometric.data import Data, DataLoader, Batch\n",
    "from torch_geometric.utils.convert import from_networkx\n",
    "from torch.optim.lr_scheduler import StepLR,ReduceLROnPlateau\n",
    "from torch_geometric.loader import DataLoader, ClusterLoader, NeighborLoader\n",
    "from tqdm import tqdm\n",
    "\n",
    "sys.path.append(\"/home/jovyan/20230406_ArticleClassifier/ArticleClassifier\")\n",
    "\n",
    "import src.general.global_variables as gv\n",
    "\n",
    "sys.path.append(\n",
    "    os.path.abspath(os.path.join(os.path.dirname('data_loader.py'), os.path.pardir)))\n",
    "from src.data.data_loader import DataLoader\n",
    "from src.data.data_processing import standardise_embeddings, convert_networkx_to_torch, get_mask, gather_set_indices, drop_keyword_edges\n",
    "from src.visualization.visualize import tsne, plot_metrics_during_training, plot_label_count_in_datasets, plot_performance_per_label\n",
    "from src.general.utils import cc_path\n",
    "from src.models.evaluation import Metrics\n",
    "\n",
    "\n",
    "import matplotlib.pyplot as plt\n",
    "\n",
    "from src.models.graph_network_models.single_stream_gat import GAT\n",
    "from src.models.graph_network_models.single_stream_gat_label_emb import GAT_label\n",
    "from src.models.graph_network_models.single_stream_gin import GIN\n",
    "from src.models.graph_network_models.single_stream_gcn import GCN\n",
    "from src.models.graph_network_models.single_stream_graphtransformer import GraphTransformer\n",
    "from src.models.graph_network_models.single_stream_sage import SAGE\n",
    "\n",
    "\n",
    "from src.models.graph_network_models.dual_stream_gcn import dualGCN\n",
    "from src.models.graph_network_models.dual_stream_gat import dualGAT\n",
    "\n",
    "from src.models.graph_training import evaluate_metrics, construct_metric_storage, retrieve_and_store_metrics,train_model,train_batch, train \n",
    "\n",
    "device = torch.device(\"cuda:0\") if torch.cuda.is_available() else torch.device(\"cpu\")\n",
    "\n",
    "\n",
    "def get_optimizer(graph_optimizer, args, params):\n",
    "    \"\"\"\n",
    "    Initialise the specified optimizer.\n",
    "    Args:\n",
    "        graph_optimizer (str): name of desired optimizer \n",
    "        args (dict): settings for optimizer \n",
    "        params (): model parameters \n",
    "\n",
    "    Returns:\n",
    "        initialised optimiser\n",
    "    \"\"\"\n",
    "    if graph_optimizer == 'adam':\n",
    "        optimizer = torch.optim.Adam(params, lr=args['graph_lr'], weight_decay=args['graph_weight_decay'])\n",
    "    elif graph_optimizer == 'noamopt':\n",
    "        total_params = sum(\n",
    "            param.numel() for param in params\n",
    "        )\n",
    "\n",
    "        optimizer = NoamOpt(total_params, 500,\n",
    "                torch.optim.Adam(params, lr=0, betas=(0.9, 0.98), eps=1e-9))\n",
    "    else:\n",
    "        assert False, f'Graph optimizer {graph_optimizer} not recognised, use one of [adam, noamopt]'\n",
    "        \n",
    "    return optimizer\n",
    "\n",
    "def get_loss_fn(graph_loss, args):\n",
    "    \"\"\"\n",
    "    Initialise the specified loss function.\n",
    "    \n",
    "    Args:\n",
    "        graph_loss (str): name of desired loss function \n",
    "        args (dict): settings for loss function \n",
    "\n",
    "    Returns:\n",
    "        initialised loss function\n",
    "    \"\"\"\n",
    "    if graph_loss == 'BCELoss':\n",
    "        criterion = torch.nn.BCELoss()\n",
    "    elif graph_loss == 'FocalLoss':\n",
    "        criterion = FocalLoss(gamma=args['graph_fl_gamma'], alpha=args['graph_fl_alpha'])\n",
    "    else:\n",
    "        assert False, f'Loss function {graph_loss} not recognised, use one of [BCELoss, FocalLoss]'\n",
    "    \n",
    "    return criterion\n",
    "        \n",
    "\n",
    "def initiate_model(gnn_type, model_parameters, num_features, num_labels):\n",
    "    if gnn_type == 'GCN':\n",
    "        model = GCN(hidden_channels=model_parameters['hidden_channels'], num_features=num_features,\n",
    "                    num_labels=num_labels)\n",
    "    elif gnn_type == 'GAT':\n",
    "        model = GAT(hidden_channels=model_parameters['hidden_channels'], num_features=num_features,\n",
    "                    num_labels=num_labels, num_conv_layers=model_parameters['num_conv_layers'],\n",
    "                    heads=model_parameters['heads'], embedding_size=model_parameters['embedding_size'],\n",
    "                    dropout=model_parameters['dropout'])\n",
    "    elif gnn_type == 'GAT_label':\n",
    "        model = GAT_label(hidden_channels=model_parameters['hidden_channels'], num_features=num_features,\n",
    "                    num_labels=num_labels, num_conv_layers=model_parameters['num_conv_layers'],\n",
    "                    heads=model_parameters['heads'], embedding_size=model_parameters['embedding_size'],\n",
    "                    dropout=model_parameters['dropout'])\n",
    "    elif gnn_type == 'GIN':\n",
    "        model = GIN(hidden_channels=model_parameters['hidden_channels'], num_features=num_features,\n",
    "                    num_labels=num_labels, num_conv_layers=model_parameters['num_conv_layers'],\n",
    "                    embedding_size=model_parameters['embedding_size'])\n",
    "    elif gnn_type == 'dualGCN':\n",
    "        model = dualGCN(hidden_channels=model_parameters['hidden_channels'], num_features=num_features,\n",
    "                        num_labels=num_labels)\n",
    "    elif gnn_type == 'dualGAT':\n",
    "        model = dualGAT(hidden_channels=model_parameters['hidden_channels'], num_features=num_features,\n",
    "                        num_labels=num_labels, num_conv_layers=model_parameters['num_conv_layers'],\n",
    "                        heads=model_parameters['heads'], embedding_size=model_parameters['embedding_size'],\n",
    "                        dropout=model_parameters['dropout'])\n",
    "    elif gnn_type == 'SAGE':\n",
    "        model = SAGE(hidden_channels=model_parameters['hidden_channels'], num_features=num_features,\n",
    "            num_labels=num_labels)\n",
    "    elif gnn_type == 'GraphTransformer':\n",
    "        model = GraphTransformer(hidden_channels=model_parameters['hidden_channels'], num_features=num_features,\n",
    "                    num_labels=num_labels,\n",
    "                    heads=model_parameters['heads'])    \n",
    "    \n",
    "    else:\n",
    "        assert False, f'Model type: {gnn_type} not recognised, must be in: [\"GCN\", \"GAT\", \"GAT_label\", \"GIN\", \"dualGCN\", \"dualGAT\", \"SAGE\", \"GraphTransformer\"]'\n",
    "\n",
    "    return model.to(device)"
   ]
  },
  {
   "cell_type": "markdown",
   "id": "a43f0fe8",
   "metadata": {},
   "source": [
    "## Set model parameters"
   ]
  },
  {
   "cell_type": "code",
   "execution_count": 2,
   "id": "8f7f90ff",
   "metadata": {},
   "outputs": [],
   "source": [
    "# current models to choose from: [\"GCN\", \"GAT\", 'SAGE', 'GraphTransformer', \"dualGCN\", \"dualGAT\"]\n",
    "# current embedding_types to choose from: [\"general\", \"label_specific\", 'scibert']\n",
    "\n",
    "now = datetime.datetime.now()\n",
    "run_id = datetime.datetime.now().strftime('%Y%m%d%H%M%S')\n",
    "today = datetime.date.today()\n",
    "time = now.strftime(\"%H-%M-%S\")\n",
    "\n",
    "\n",
    "gnn_type = 'GAT'\n",
    "subsample_size = 56337\n",
    "total_dataset_size = 56337\n",
    "data_type_to_use = ['keyword']\n",
    "embedding_type = 'scibert'\n",
    "edge_weight_threshold = 1/10\n",
    "\n",
    "# just for setting them if no pretraining happens\n",
    "pretrain_lr = None\n",
    "pretrain_weight_decay = None\n",
    "pretrain_optimizer = None\n",
    "pretrain_loss = None\n",
    "pretrain_epochs = None\n",
    "\n",
    "all_model_parameters = {\n",
    "    \"GAT\": {\n",
    "        'embedding_size': 128,\n",
    "        'hidden_channels': 128,\n",
    "        'heads': 8,\n",
    "        'num_conv_layers': 3,\n",
    "        'dropout': 0.3\n",
    "    },\n",
    "    \"GAT_label\": {\n",
    "        'embedding_size': 128,\n",
    "        'hidden_channels': 64,\n",
    "        'heads': 8,\n",
    "        'num_conv_layers': 3,\n",
    "        'dropout': 0.3\n",
    "    },\n",
    "    \"GraphTransformer\": {\n",
    "        'hidden_channels': 32,\n",
    "        'heads': 8\n",
    "    },\n",
    "    \"GCN\": {\n",
    "        'hidden_channels': 64\n",
    "    },\n",
    "    \"SAGE\": {\n",
    "        'hidden_channels': 32,\n",
    "        'heads': 4\n",
    "    },\n",
    "    \"dualGAT\": {\n",
    "        'hidden_channels': 64,\n",
    "        'heads': 4,\n",
    "        'embedding_size': 128,\n",
    "        'num_conv_layers': 3,\n",
    "        'dropout': 0.3\n",
    "    },\n",
    "    \"dualGCN\": {\n",
    "        'hidden_channels': 32\n",
    "    },\n",
    "    \"GIN\": {\n",
    "        'embedding_size': 128,\n",
    "        'hidden_channels': 64,\n",
    "        'num_conv_layers': 3\n",
    "    }\n",
    "}"
   ]
  },
  {
   "cell_type": "markdown",
   "id": "4f1ba76f",
   "metadata": {},
   "source": [
    "## Load and process the data"
   ]
  },
  {
   "cell_type": "code",
   "execution_count": 3,
   "id": "774aff27",
   "metadata": {},
   "outputs": [
    {
     "name": "stdout",
     "output_type": "stream",
     "text": [
      "Start loading data...\n"
     ]
    }
   ],
   "source": [
    "# load all the data\n",
    "print('Start loading data...')\n",
    "loc_dict = {\n",
    "    'processed_csv': cc_path('data/processed/canary/articles_cleaned.csv'),\n",
    "    'abstract_embeddings': cc_path('data/processed/canary/embeddings_fasttext_20230410.csv'),\n",
    "    'scibert_embeddings': cc_path('data/processed/canary/embeddings_scibert_finetuned_20230425.csv'),\n",
    "    'keyword_network': cc_path('data/processed/canary/keyword_network_weighted.pickle'),\n",
    "    'xml_embeddings': cc_path('data/processed/canary/embeddings_xml.ftr'),\n",
    "    'author_network': cc_path('data/processed/canary/author_network.pickle'), \n",
    "    'label_network': cc_path('data/processed/canary/label_network_weighted.pickle')\n",
    "}\n",
    "data_loader = DataLoader(loc_dict)\n",
    "processed_df = data_loader.load_processed_csv()\n",
    "author_networkx = data_loader.load_author_network()\n",
    "keyword_network = data_loader.load_keyword_network()\n",
    "label_network = data_loader.load_label_network()\n",
    "\n",
    "label_data = from_networkx(label_network)\n",
    "\n",
    "all_data = {\n",
    "    'author': author_networkx,\n",
    "    'keyword': keyword_network,\n",
    "    'label': label_data\n",
    "}"
   ]
  },
  {
   "cell_type": "code",
   "execution_count": 4,
   "id": "ff6169a9",
   "metadata": {},
   "outputs": [
    {
     "name": "stdout",
     "output_type": "stream",
     "text": [
      "Start processing data...\n",
      "Standardising embeddings...\n"
     ]
    }
   ],
   "source": [
    "# process all data\n",
    "if embedding_type == 'general':\n",
    "    embedding_df = data_loader.load_embeddings_csv()\n",
    "    embedding_df = standardise_embeddings(embedding_df)\n",
    "elif embedding_type == 'scibert':\n",
    "    embedding_df = data_loader.load_scibert_embeddings_csv()\n",
    "    embedding_df = standardise_embeddings(embedding_df)\n",
    "elif embedding_type == 'label_specific':\n",
    "    embedding_df = data_loader.load_xml_embeddings()\n",
    "\n",
    "# process the labels we want to select now\n",
    "label_columns = processed_df.loc[:, ~processed_df.columns.isin(\n",
    "    ['file_name', 'title', 'keywords', 'abstract', 'abstract_2', 'authors', 'organization', 'chemicals',\n",
    "     'num_refs', 'date-delivered', 'labels_m', 'labels_a'])]\n",
    "label_columns.loc[:, label_columns.columns.difference(['pui'])] = label_columns.loc[\n",
    "    :, label_columns.columns.difference(['pui'])].astype(str)\n"
   ]
  },
  {
   "cell_type": "markdown",
   "id": "9553aae4",
   "metadata": {},
   "source": [
    "## visualise the effect of an edge weight threshold"
   ]
  },
  {
   "cell_type": "code",
   "execution_count": 5,
   "id": "1717b935",
   "metadata": {},
   "outputs": [
    {
     "data": {
      "image/png": "[encoded data removed]",
      "text/plain": [
       "<Figure size 640x480 with 1 Axes>"
      ]
     },
     "metadata": {},
     "output_type": "display_data"
    }
   ],
   "source": [
    "plot_threshold_effect_on_edges(keyword_network, cc_path(f'reports/figures/remaining_edges_for_thresholds.png'))"
   ]
  },
  {
   "cell_type": "code",
   "execution_count": 5,
   "id": "595f5326",
   "metadata": {
    "tags": []
   },
   "outputs": [],
   "source": [
    "keyword_network = drop_keyword_edges(keyword_network, edge_weight_threshold)"
   ]
  },
  {
   "cell_type": "code",
   "execution_count": 6,
   "id": "438a31d5",
   "metadata": {},
   "outputs": [
    {
     "name": "stdout",
     "output_type": "stream",
     "text": [
      "Number of nodes in sampled author network: 56337\n",
      "Number of nodes in sampled keyword network: 56337\n"
     ]
    }
   ],
   "source": [
    "# get down-sampled networks\n",
    "available_nodes = list(set(author_networkx.nodes) & set(keyword_network.nodes) & set(embedding_df.pui.to_list()))\n",
    "sampled_nodes = random.sample(available_nodes, subsample_size)\n",
    "sampled_author = author_networkx.subgraph(sampled_nodes).copy()\n",
    "sampled_keyword = keyword_network.subgraph(sampled_nodes).copy()\n",
    "\n",
    "# nodes can only have incremental integers as labels, so we create a mapping to remember which pui is which idx\n",
    "print(f'Number of nodes in sampled author network: {len(sampled_author.nodes)}')\n",
    "print(f'Number of nodes in sampled keyword network: {len(sampled_keyword.nodes)}')"
   ]
  },
  {
   "cell_type": "code",
   "execution_count": 7,
   "id": "f5df8313",
   "metadata": {
    "tags": []
   },
   "outputs": [],
   "source": [
    "train_indices, val_indices, test_indices, node_label_mapping = gather_set_indices(subsample_size, total_dataset_size, sampled_author)"
   ]
  },
  {
   "cell_type": "markdown",
   "id": "6075066a",
   "metadata": {},
   "source": [
    "## Visualise the label occurrence distribution"
   ]
  },
  {
   "cell_type": "code",
   "execution_count": 18,
   "id": "30717699",
   "metadata": {},
   "outputs": [
    {
     "data": {
      "image/png": "[encoded data removed]",
      "text/plain": [
       "<Figure size 1500x500 with 1 Axes>"
      ]
     },
     "metadata": {},
     "output_type": "display_data"
    }
   ],
   "source": [
    "# plot_label_count_in_datasets(label_columns, train_puis, val_puis, test_puis, \n",
    "#                              cc_path(f'reports/figures/data_split_label_occurrences/label_distribution.png'))"
   ]
  },
  {
   "cell_type": "code",
   "execution_count": 8,
   "id": "e4981517",
   "metadata": {},
   "outputs": [
    {
     "name": "stdout",
     "output_type": "stream",
     "text": [
      "Creating torch datasets...\n"
     ]
    },
    {
     "data": {
      "text/plain": [
       "Data(x=[56337, 768], edge_index=[2, 119992], y=[56337, 52], train_mask=[56337], val_mask=[56337], test_mask=[56337], edge_weight=[31870])"
      ]
     },
     "execution_count": 8,
     "metadata": {},
     "output_type": "execute_result"
    }
   ],
   "source": [
    "# create train and test split\n",
    "print('Creating torch datasets...')\n",
    "\n",
    "train_mask = get_mask(train_indices, len(sampled_author))\n",
    "val_mask = get_mask(val_indices, len(sampled_author))\n",
    "test_mask = get_mask(test_indices, len(sampled_author))\n",
    "author_data = convert_networkx_to_torch(sampled_author, embedding_df, label_columns, train_mask, val_mask, test_mask,\n",
    "                                 node_label_mapping, embedding_type)\n",
    "keyword_data = convert_networkx_to_torch(sampled_keyword, embedding_df, label_columns, train_mask, val_mask, test_mask,\n",
    "                                  node_label_mapping, embedding_type)\n",
    "\n",
    "author_data.to(device)\n",
    "keyword_data.to(device)"
   ]
  },
  {
   "cell_type": "markdown",
   "id": "e596cb17",
   "metadata": {},
   "source": [
    "## Easy testing of model classes"
   ]
  },
  {
   "cell_type": "markdown",
   "id": "d1c24ea0",
   "metadata": {},
   "source": [
    "# Modelling"
   ]
  },
  {
   "cell_type": "markdown",
   "id": "a44573f8",
   "metadata": {},
   "source": [
    "## Initiate Model"
   ]
  },
  {
   "cell_type": "code",
   "execution_count": 9,
   "id": "3a9f17e9",
   "metadata": {},
   "outputs": [
    {
     "data": {
      "text/plain": [
       "GAT(\n",
       "  (convs): ModuleList(\n",
       "    (0): GATv2Conv(768, 128, heads=8)\n",
       "    (1-2): 2 x GATv2Conv(1024, 128, heads=8)\n",
       "  )\n",
       "  (linear_final_end): Linear(in_features=1024, out_features=52, bias=True)\n",
       ")"
      ]
     },
     "execution_count": 9,
     "metadata": {},
     "output_type": "execute_result"
    }
   ],
   "source": [
    "# initiate the model\n",
    "model = initiate_model(\n",
    "    gnn_type,\n",
    "    all_model_parameters[gnn_type],\n",
    "    num_features=author_data.x.shape[1],\n",
    "    num_labels=len(label_columns.columns) - 1\n",
    ")\n",
    "model.to(device)"
   ]
  },
  {
   "cell_type": "markdown",
   "id": "bb62c74c",
   "metadata": {
    "tags": []
   },
   "source": [
    "## pretrain Model"
   ]
  },
  {
   "cell_type": "code",
   "execution_count": 26,
   "id": "42a6dff9",
   "metadata": {},
   "outputs": [],
   "source": [
    "from src.models.pretraining import NegativeEdge, BatchAE, train_pretrain, DataLoaderAE\n",
    "\n",
    "\n",
    "transform =  NegativeEdge()\n",
    "transformed_author_data = transform(keyword_data)\n",
    "pretrain_lr = 0.001\n",
    "pretrain_weight_decay = 0.00001\n",
    "pretrain_optimizer = 'adam'\n",
    "pretrain_loss = 'BCEWithLogits'\n",
    "\n",
    "#set up optimizer and criterion\n",
    "if pretrain_optimizer == 'adam':\n",
    "    optimizer = torch.optim.Adam(model.parameters(), lr=pretrain_lr, weight_decay=pretrain_weight_decay)\n",
    "\n",
    "if pretrain_loss == 'BCEWithLogits':\n",
    "    criterion_pretrain = torch.nn.BCEWithLogitsLoss()\n"
   ]
  },
  {
   "cell_type": "code",
   "execution_count": null,
   "id": "7152f4f6",
   "metadata": {},
   "outputs": [],
   "source": [
    "\n",
    "#optimizer = optim.Adam(model.graph_pred_linear.parameters(), lr=args.lr, weight_decay=args.decay)    \n",
    "all_torch_data = {\n",
    "    'author': author_data,\n",
    "    'keyword': keyword_data,\n",
    "    'label': label_data\n",
    "}\n",
    "\n",
    "train_acc = 0\n",
    "pretrain_epochs = 800\n",
    "train_losses = []\n",
    "train_accs = []\n",
    "for epoch in (pbar := tqdm(range(1, pretrain_epochs))):\n",
    "    model, train_acc, train_loss = train_pretrain(model, device, None, optimizer, BatchAE([transformed_author_data]).batch[0], criterion_pretrain, all_torch_data, data_type_to_use)\n",
    "    train_losses.append(train_loss)\n",
    "    train_accs.append(train_acc)\n",
    "    pbar.set_description(f'Train acc: {train_acc}, Train loss: {train_loss}')\n",
    "\n",
    "fig, ax1 = plt.subplots()\n",
    "ax1.plot(np.arange(1, len(train_losses) + 1),train_accs , label='Train accuracy', c='blue')\n",
    "ax1.set_xlabel('Epochs')\n",
    "ax1.set_ylabel('Accuracy')\n",
    "\n",
    "ax2 = ax1.twinx()\n",
    "ax2.set_ylabel('Loss')\n",
    "ax2.plot(np.arange(1, len(train_accs) + 1), train_losses, label='Loss', c='green')\n",
    "\n",
    "plt.title(f'Pretraining - edge prediction')\n",
    "fig.legend(loc='lower right', fontsize='x-large')\n",
    "plt.grid()\n",
    "plt.show()\n",
    "\n",
    "torch.save(model, cc_path(f'models/pretrained_graphs/{run_id}_pretained.pt'))"
   ]
  },
  {
   "cell_type": "markdown",
   "id": "aef6910f",
   "metadata": {},
   "source": [
    "## run test prediction"
   ]
  },
  {
   "cell_type": "code",
   "execution_count": 9,
   "id": "7496c5ac",
   "metadata": {},
   "outputs": [],
   "source": [
    "all_torch_data = {\n",
    "    'author': author_data,\n",
    "    'keyword': keyword_data,\n",
    "    'label': label_data\n",
    "}\n",
    "\n",
    "# get the output of an untrained model\n",
    "data = [all_torch_data[datatype] for datatype in data_type_to_use]\n",
    "data_inputs = [d for data_object in data for d in (data_object.x.float(), data_object.edge_index)]\n",
    "\n",
    "if 'label' in data_type_to_use:\n",
    "    data_inputs.append(all_torch_data['label'].edge_weight.float())"
   ]
  },
  {
   "cell_type": "code",
   "execution_count": 11,
   "id": "78272fc3",
   "metadata": {},
   "outputs": [
    {
     "name": "stdout",
     "output_type": "stream",
     "text": [
      "The predictions of the test set before training:  [[0.49316064 0.51845413 0.47667074 ... 0.37825817 0.5563986  0.49608436]\n",
      " [0.48035443 0.46671227 0.4627159  ... 0.4126556  0.46121705 0.56125635]\n",
      " [0.5768932  0.42601654 0.44792458 ... 0.5446251  0.5287502  0.5126944 ]\n",
      " ...\n",
      " [0.49806762 0.5884627  0.45204613 ... 0.4313255  0.57272595 0.4905581 ]\n",
      " [0.5271426  0.3534239  0.51501244 ... 0.47360107 0.49650776 0.5355409 ]\n",
      " [0.49315327 0.4104459  0.4931575  ... 0.48602495 0.49607298 0.56980056]]\n"
     ]
    }
   ],
   "source": [
    "model.eval()\n",
    "\n",
    "out = model(*data_inputs)\n",
    "print('The predictions of the test set before training: ', out[author_data.test_mask].detach().cpu().numpy())"
   ]
  },
  {
   "cell_type": "markdown",
   "id": "b407c218",
   "metadata": {},
   "source": [
    "### Set model training parameters"
   ]
  },
  {
   "cell_type": "code",
   "execution_count": 12,
   "id": "c7b25638",
   "metadata": {},
   "outputs": [],
   "source": [
    "# set training parameters\n",
    "graph_optimizer = 'adam'\n",
    "graph_lr = 0.00001\n",
    "graph_weight_decay = 1e-4\n",
    "graph_loss = 'BCELoss'\n",
    "graph_fl_gamma = 2.8\n",
    "graph_fl_alpha = 0.25\n",
    "scheduler = None\n",
    "\n",
    "optimizer_args = {\n",
    "    \"graph_lr\": graph_lr,\n",
    "    \"graph_weight_decay\": graph_weight_decay\n",
    "}\n",
    "\n",
    "loss_args = {\n",
    "    'graph_fl_gamma': graph_fl_gamma,\n",
    "    'graph_fl_alpha': graph_fl_alpha\n",
    "}\n",
    "\n",
    "optimizer = get_optimizer(graph_optimizer, optimizer_args, model.parameters())\n",
    "criterion = get_loss_fn(graph_loss, loss_args)\n",
    "\n"
   ]
  },
  {
   "cell_type": "markdown",
   "id": "8bba728e",
   "metadata": {},
   "source": [
    "### Train model"
   ]
  },
  {
   "cell_type": "code",
   "execution_count": 17,
   "id": "c091876b",
   "metadata": {},
   "outputs": [],
   "source": [
    "# def train_model(model, data, graph_num_epochs, optimizer, scheduler, criterion, graph_optimizer, data_type_to_use,\n",
    "#                 all_torch_data, use_batches = True):\n",
    "#     \"\"\"\n",
    "#     Train a model for the full number of epochs.\n",
    "\n",
    "#     Args:\n",
    "#         model (): the Graph model object\n",
    "#         data (): list with torch geometric data object necessary for model\n",
    "#         graph_num_epochs (int): number of epochs to train\n",
    "#         optimizer (): torch optimizer for model\n",
    "#         scheduler (): learning rate scheduler if used\n",
    "#         criterion (): loss criterion\n",
    "#         graph_optimizer (str): name of optimizer\n",
    "#         data_type_to_use (list[list]): data types to use\n",
    "#         all_torch_data (dict): dict with all data to use\n",
    "#         use_batches (bool): whether to use mini-batches\n",
    "\n",
    "#     Returns:\n",
    "#         Best model after training, the metrics over time\n",
    "#     \"\"\"\n",
    "#     # define names of what to store\n",
    "#     dataset_names = ['train', 'val', 'test']\n",
    "#     all_metric_names = evaluate_metrics(model, data, dataset='train').keys()\n",
    "\n",
    "#     # create storage locations\n",
    "#     all_metrics = construct_metric_storage(dataset_names, all_metric_names)\n",
    "#     loss_all = []\n",
    "\n",
    "#     # define loaders if using batches\n",
    "#     if use_batches:\n",
    "#         loaders = [NeighborLoader(d, num_neighbors=[30] * 2, batch_size=128) for d in data]\n",
    "\n",
    "#     # go over each epoch\n",
    "#     best_score = 0\n",
    "#     curr_scores = ''\n",
    "#     for epoch in (pbar := tqdm(range(1, graph_num_epochs), position=0)):\n",
    "\n",
    "#         if use_batches:\n",
    "#             loss = train_batch(model, loaders, optimizer, scheduler, criterion, graph_optimizer, pbar, epoch,\n",
    "#                                curr_scores, data_type_to_use)\n",
    "#         else:\n",
    "#             loss = train(model, data, optimizer, scheduler, criterion, graph_optimizer, data_type_to_use, all_torch_data)\n",
    "\n",
    "#         # gather the metrics for all datasets\n",
    "#         all_metrics = retrieve_and_store_metrics(all_metrics, all_metric_names, dataset_names, model, data,\n",
    "#                                                  data_type_to_use, all_torch_data)\n",
    "#         loss_all.append(loss)\n",
    "\n",
    "#         # define text for progressbar\n",
    "#         curr_scores = f\"Train - F1 {all_metrics['train']['Macro F1 score'][-1]}, \" \\\n",
    "#                       f\"Val - F1 {all_metrics['val']['Macro F1 score'][-1]}\"\n",
    "\n",
    "#         # save the best model if we see improvement\n",
    "#         if all_metrics['val']['Macro F1 score'][-1] > best_score:\n",
    "#             best_model = model\n",
    "\n",
    "#     return best_model, all_metrics"
   ]
  },
  {
   "cell_type": "code",
   "execution_count": 13,
   "id": "b8a5c540",
   "metadata": {
    "scrolled": true,
    "tags": []
   },
   "outputs": [
    {
     "name": "stderr",
     "output_type": "stream",
     "text": [
      "Epoch: 499, Train - F1 0.6029092869894443, Val - F1 0.5674457541217535, Batch: 441/441, Loss: 0.0832: 100%|██████████| 499/499 [44:53<00:00,  5.40s/it]\n"
     ]
    },
    {
     "ename": "NameError",
     "evalue": "name 'test_metrics' is not defined",
     "output_type": "error",
     "traceback": [
      "\u001b[0;31m---------------------------------------------------------------------------\u001b[0m",
      "\u001b[0;31mNameError\u001b[0m                                 Traceback (most recent call last)",
      "Input \u001b[0;32mIn [13]\u001b[0m, in \u001b[0;36m<cell line: 8>\u001b[0;34m()\u001b[0m\n\u001b[1;32m      4\u001b[0m best_model \u001b[38;5;241m=\u001b[39m train_model(model, data, graph_num_epochs, optimizer, scheduler, criterion, graph_optimizer, use_batches\u001b[38;5;241m=\u001b[39m\u001b[38;5;28;01mTrue\u001b[39;00m, data_type_to_use\u001b[38;5;241m=\u001b[39mdata_type_to_use, all_torch_data\u001b[38;5;241m=\u001b[39mall_torch_data)\n\u001b[1;32m      6\u001b[0m torch\u001b[38;5;241m.\u001b[39msave(best_model, cc_path(\u001b[38;5;124mf\u001b[39m\u001b[38;5;124m'\u001b[39m\u001b[38;5;124mmodels/supervised_graphs/\u001b[39m\u001b[38;5;132;01m{\u001b[39;00mrun_id\u001b[38;5;132;01m}\u001b[39;00m\u001b[38;5;124m_supervised.pt\u001b[39m\u001b[38;5;124m'\u001b[39m))\n\u001b[0;32m----> 8\u001b[0m \u001b[38;5;28mprint\u001b[39m(\u001b[43mtest_metrics\u001b[49m)\n",
      "\u001b[0;31mNameError\u001b[0m: name 'test_metrics' is not defined"
     ]
    }
   ],
   "source": [
    "# train model\n",
    "graph_num_epochs = 500\n",
    "\n",
    "best_model = train_model(model, data, graph_num_epochs, optimizer, scheduler, criterion, graph_optimizer, use_batches=True, data_type_to_use=data_type_to_use, all_torch_data=all_torch_data)\n",
    "\n",
    "best_model, all_metrics = best_model\n",
    "torch.save(best_model, cc_path(f'models/supervised_graphs/{run_id}_supervised.pt'))\n",
    "    \n"
   ]
  },
  {
   "cell_type": "code",
   "execution_count": 15,
   "id": "f12b4ba5",
   "metadata": {},
   "outputs": [],
   "source": [
    "best_model, all_metrics = best_model\n"
   ]
  },
  {
   "cell_type": "markdown",
   "id": "9b093541",
   "metadata": {},
   "source": [
    "### Model Evaluation"
   ]
  },
  {
   "cell_type": "code",
   "execution_count": 19,
   "id": "42e30485",
   "metadata": {},
   "outputs": [
    {
     "name": "stdout",
     "output_type": "stream",
     "text": [
      "Evaluating model performance...\n",
      "The metrics:  {'Precision': [0.7865085248332098, 0.8810232727714651, 0.7407026311921211, 0.7377049180327869, 0.9002173125679102, 0.855607134131444, 0.7862988075754033, 0.9166666666666666, 0.9492610837438423, 0.8546562228024369, 0.8773240660295395, 0.7195652173913043, 0.8666666666666667, 0.0, 0.7943716560643721, 0.9067629678266579, 0.9180327868852459, 0.7069672131147541, 0.8393574297188755, 0.7639751552795031, 0.9271470774424985, 0.8333333333333334, 0.9721142857142857, 0.8035030103995622, 0.7063492063492064, 0.7747035573122529, 0.7117988394584139, 0.818407960199005, 0.8857287963433215, 0.9102277348515657, 0.7954545454545454, 0.6987212276214834, 0.9324324324324325, 0.7433155080213903, 0.7425373134328358, 0.9329956031351558, 0.75, 0.9346485819975339, 0.42857142857142855, 0.7222222222222222, 0.5, 0.0, 0.9143835616438356, 0.554945054945055, 0.8684444444444445, 0.9484240687679083, 0.9195769798327594, 0.6732673267326733, 0.0, 0.8561525129982669, 0.6440677966101694, 0.7521367521367521], 'Recall': [0.4597053726169844, 0.8728553368249955, 0.670525615435795, 0.6, 0.9267337807606264, 0.8954231654308361, 0.840960240060015, 0.5664451827242525, 0.9008882655446471, 0.7411320754716981, 0.8236541598694943, 0.380897583429229, 0.6262412845975068, 0.0, 0.862580054894785, 0.6925777331995988, 0.4745762711864407, 0.4121863799283154, 0.59375, 0.26004228329809725, 0.9048550687329455, 0.16483516483516483, 0.9678006599158039, 0.719079108498653, 0.3333333333333333, 0.5482517482517483, 0.39913232104121477, 0.5447019867549668, 0.9019134631960007, 0.929940275253181, 0.7894736842105263, 0.29936445321060706, 0.8917288914417002, 0.34363411619283063, 0.28347578347578345, 0.9037126192019257, 0.448207171314741, 0.49445531637312456, 0.05084745762711865, 0.31451612903225806, 0.07142857142857142, 0.0, 0.5609243697478992, 0.16974789915966387, 0.7772474144789181, 0.8481742472773863, 0.7604230221679886, 0.10897435897435898, 0.0, 0.76, 0.11538461538461539, 0.07685589519650655], 'F1 score': [0.5802570412906753, 0.8769202854723599, 0.7038692554826091, 0.6617647058823529, 0.9132831159287157, 0.8750624687656173, 0.8127114548090865, 0.7002053388090349, 0.9244423123051092, 0.793856103476152, 0.8496424063946151, 0.4981188863807374, 0.7270943211087945, 0.0, 0.8270719564883654, 0.7853284048905316, 0.6256983240223464, 0.520754716981132, 0.6955074875207986, 0.38801261829652994, 0.9158654472497982, 0.27522935779816515, 0.9699526768914989, 0.7589504976088924, 0.4529262086513995, 0.6420966420966422, 0.511466296038916, 0.6540755467196818, 0.8937478647078921, 0.9199784211472757, 0.7924528301886792, 0.419146977600491, 0.9116265413975337, 0.4699915469146238, 0.41030927835051545, 0.9181206791139539, 0.5610972568578553, 0.6467576791808873, 0.09090909090909091, 0.4382022471910112, 0.125, 0.0, 0.6953125, 0.25997425997426, 0.82031905961377, 0.8955021981738248, 0.8324613158187687, 0.18758620689655175, 0.0, 0.8052159739201303, 0.19570815450643775, 0.13946117274167988], 'Macro precision': 0.758793863378818, 'Macro recall': 0.5400691140573625, 'Macro F1 score': 0.6032508679339574, 'Micro precision': 0.8784724943442165, 'Micro recall': 0.8110844721875166, 'Micro F1 score': 0.8434345967855208}\n",
      "The metrics:  {'Precision': [0.6946308724832215, 0.843265503875969, 0.7025912838633687, 0.7016574585635359, 0.8661654135338346, 0.8032290615539859, 0.7281648675171737, 0.9, 0.9556840077071291, 0.807909604519774, 0.8582677165354331, 0.6788990825688074, 0.857487922705314, 0.0, 0.7808751478290251, 0.9291338582677166, 0.875, 0.5847457627118644, 0.8461538461538461, 0.6857142857142857, 0.8982942430703624, 0.5625, 0.9678899082568807, 0.7751141552511416, 0.6056338028169014, 0.7705696202531646, 0.5729166666666666, 0.8350515463917526, 0.8771008403361344, 0.878235659556844, 0.7888888888888889, 0.5231388329979879, 0.8963795255930087, 0.6962025316455697, 0.8059701492537313, 0.9163408913213448, 0.6022727272727273, 0.9047619047619048, 1.0, 0.6, 0.5, 0.0, 0.8695652173913043, 0.4, 0.8426966292134831, 0.9357798165137615, 0.9215885947046843, 0.4166666666666667, 0.0, 0.841726618705036, 0.22580645161290322, 0.6842105263157895], 'Recall': [0.36507936507936506, 0.8436742607852642, 0.6386509635974305, 0.5404255319148936, 0.8661654135338346, 0.8343815513626834, 0.7697095435684648, 0.5510204081632653, 0.8732394366197183, 0.6745283018867925, 0.8124223602484472, 0.33183856502242154, 0.6094420600858369, 0.0, 0.8326427670689965, 0.6730038022813688, 0.42424242424242425, 0.3399014778325123, 0.5789473684210527, 0.21052631578947367, 0.8622595169873107, 0.1875, 0.9604005461993628, 0.6716122650840751, 0.3049645390070922, 0.5202991452991453, 0.2570093457943925, 0.5192307692307693, 0.8777154870357393, 0.8853862212943633, 0.7319587628865979, 0.2216538789428815, 0.859880239520958, 0.3089887640449438, 0.32335329341317365, 0.8739746457867263, 0.424, 0.4909560723514212, 0.08333333333333333, 0.1935483870967742, 0.08695652173913043, 0.0, 0.5454545454545454, 0.1076923076923077, 0.7475083056478405, 0.8138297872340425, 0.7624262847514743, 0.06711409395973154, 0.0, 0.7697368421052632, 0.029787234042553193, 0.04498269896193772], 'F1 score': [0.47861271676300576, 0.8434698328083353, 0.6690970274817722, 0.6105769230769231, 0.8661654135338346, 0.8185089974293058, 0.7483610690872416, 0.6835443037974683, 0.9126034958601656, 0.7352185089974292, 0.8347160178685387, 0.44578313253012053, 0.7124937280481686, 0.0, 0.8059285091543156, 0.7805953693495038, 0.5714285714285714, 0.42990654205607476, 0.6875, 0.3221476510067114, 0.8799081035923142, 0.28125, 0.9641306831162897, 0.719660837307896, 0.4056603773584906, 0.6211734693877551, 0.3548387096774194, 0.6403162055335969, 0.8774080560420314, 0.8817964445368542, 0.7593582887700534, 0.31137724550898205, 0.8777506112469436, 0.42801556420233466, 0.46153846153846156, 0.8946564885496184, 0.4976525821596244, 0.6365159128978225, 0.15384615384615385, 0.2926829268292683, 0.14814814814814817, 0.0, 0.6703910614525139, 0.16969696969696973, 0.7922535211267605, 0.8705547652916074, 0.8344859382203781, 0.11560693641618497, 0.0, 0.8041237113402062, 0.052631578947368425, 0.08441558441558442], 'Macro precision': 0.7156707329146716, 'Macro recall': 0.5058337644692718, 'Macro F1 score': 0.5661250605275984, 'Micro precision': 0.8536176532993847, 'Micro recall': 0.778102274485533, 'Micro F1 score': 0.8141125523605237}\n",
      "The metrics:  {'Precision': [0.6675126903553299, 0.8416015625, 0.687847866419295, 0.7015130674002751, 0.8723766307430516, 0.792198049512378, 0.7426686217008798, 0.8879310344827587, 0.9452887537993921, 0.8130841121495327, 0.854978354978355, 0.6754966887417219, 0.8499550763701708, 0.0, 0.7770589028170912, 0.8983402489626556, 0.9, 0.6428571428571429, 0.868421052631579, 0.6808510638297872, 0.8958191706322229, 0.8333333333333334, 0.963623046875, 0.7838070628768303, 0.5813953488372093, 0.7415730337078652, 0.5912408759124088, 0.7870370370370371, 0.8776136046835796, 0.8801896044458973, 0.8260869565217391, 0.49911504424778763, 0.9077669902912622, 0.7627118644067796, 0.7215189873417721, 0.9163869392737259, 0.6494845360824743, 0.9204545454545454, 0.6666666666666666, 0.7222222222222222, 0.75, 0.0, 0.8556701030927835, 0.3333333333333333, 0.8727272727272727, 0.8987068965517241, 0.8975180144115292, 0.6176470588235294, 0.0, 0.8297872340425532, 0.32432432432432434, 0.4864864864864865], 'Recall': [0.37679083094555876, 0.8181127776722992, 0.6313324819071946, 0.5425531914893617, 0.8753557199772339, 0.831496062992126, 0.7703422053231939, 0.5073891625615764, 0.8936781609195402, 0.6675191815856778, 0.811088295687885, 0.36428571428571427, 0.6315086782376502, 0.0, 0.8408693115519253, 0.7006472491909385, 0.4864864864864865, 0.35714285714285715, 0.66, 0.23703703703703705, 0.8614152639320151, 0.16393442622950818, 0.9616274820319162, 0.7092751363990647, 0.3067484662576687, 0.513840830449827, 0.30223880597014924, 0.4521276595744681, 0.8749305169538633, 0.8865656898254857, 0.7808219178082192, 0.19209809264305178, 0.8484573502722323, 0.35294117647058826, 0.25675675675675674, 0.8767883211678832, 0.38650306748466257, 0.47834645669291337, 0.08695652173913043, 0.3023255813953488, 0.10344827586206896, 0.0, 0.5424836601307189, 0.09523809523809523, 0.7365728900255755, 0.8441295546558705, 0.7331589274035317, 0.09502262443438914, 0.0, 0.7536231884057971, 0.03669724770642202, 0.04904632152588556], 'F1 score': [0.4816849816849817, 0.8296909598536633, 0.6583795782463928, 0.6118776244751049, 0.8738636363636364, 0.8113714944295044, 0.7562523329600598, 0.6457680250783701, 0.9187592319054654, 0.7331460674157304, 0.8324552160168599, 0.4733178654292344, 0.724626579854462, 0.0, 0.8077057793345008, 0.7872727272727272, 0.631578947368421, 0.4591836734693878, 0.7500000000000001, 0.3516483516483517, 0.878280429892527, 0.273972602739726, 0.9626242302298641, 0.7446808510638298, 0.40160642570281124, 0.6070516096065406, 0.39999999999999997, 0.5743243243243245, 0.8762700069589423, 0.8833661417322834, 0.8028169014084506, 0.27742252828332514, 0.877110694183865, 0.48257372654155495, 0.3787375415282392, 0.8961504028648164, 0.4846153846153847, 0.6295336787564766, 0.15384615384615383, 0.4262295081967213, 0.18181818181818182, 0.0, 0.664, 0.14814814814814814, 0.7988904299583911, 0.8705636743215032, 0.8070554355651549, 0.16470588235294117, 0.0, 0.789873417721519, 0.06593406593406594, 0.08910891089108912], 'Macro precision': 0.7210428560556785, 'Macro recall': 0.5113029944314877, 'Macro F1 score': 0.5717287377306477, 'Micro precision': 0.8507190330303183, 'Micro recall': 0.776741768823943, 'Micro F1 score': 0.8120490591666333}\n"
     ]
    },
    {
     "ename": "FileNotFoundError",
     "evalue": "[Errno 2] No such file or directory: '/home/jovyan/20230406_ArticleClassifier/ArticleClassifier/reports/figures/classification_results/2023-05-02/15-48-08/20230502154808_GAT_F1 score_label.png'",
     "output_type": "error",
     "traceback": [
      "\u001b[0;31m---------------------------------------------------------------------------\u001b[0m",
      "\u001b[0;31mFileNotFoundError\u001b[0m                         Traceback (most recent call last)",
      "Input \u001b[0;32mIn [19]\u001b[0m, in \u001b[0;36m<cell line: 22>\u001b[0;34m()\u001b[0m\n\u001b[1;32m     22\u001b[0m \u001b[38;5;28;01mfor\u001b[39;00m metric \u001b[38;5;129;01min\u001b[39;00m [\u001b[38;5;124m'\u001b[39m\u001b[38;5;124mF1 score\u001b[39m\u001b[38;5;124m'\u001b[39m, \u001b[38;5;124m\"\u001b[39m\u001b[38;5;124mprecision\u001b[39m\u001b[38;5;124m\"\u001b[39m, \u001b[38;5;124m'\u001b[39m\u001b[38;5;124mrecall\u001b[39m\u001b[38;5;124m'\u001b[39m]:\n\u001b[1;32m     23\u001b[0m     \u001b[38;5;28;01mif\u001b[39;00m \u001b[38;5;129;01mnot\u001b[39;00m \u001b[38;5;124m'\u001b[39m\u001b[38;5;124mMicro\u001b[39m\u001b[38;5;124m'\u001b[39m \u001b[38;5;129;01min\u001b[39;00m metric \u001b[38;5;129;01mand\u001b[39;00m \u001b[38;5;129;01mnot\u001b[39;00m \u001b[38;5;124m'\u001b[39m\u001b[38;5;124mMacro\u001b[39m\u001b[38;5;124m'\u001b[39m \u001b[38;5;129;01min\u001b[39;00m metric:\n\u001b[0;32m---> 24\u001b[0m         \u001b[43mplot_performance_per_label\u001b[49m\u001b[43m(\u001b[49m\u001b[43mmetric\u001b[49m\u001b[43m,\u001b[49m\u001b[43m \u001b[49m\u001b[43mtest_end_metrics\u001b[49m\u001b[43m[\u001b[49m\u001b[43mmetric\u001b[49m\u001b[43m]\u001b[49m\u001b[43m,\u001b[49m\u001b[43m \u001b[49m\u001b[43mlabel_columns\u001b[49m\u001b[38;5;241;43m.\u001b[39;49m\u001b[43mcolumns\u001b[49m\u001b[38;5;241;43m.\u001b[39;49m\u001b[43mdifference\u001b[49m\u001b[43m(\u001b[49m\u001b[43m[\u001b[49m\u001b[38;5;124;43m'\u001b[39;49m\u001b[38;5;124;43mpui\u001b[39;49m\u001b[38;5;124;43m'\u001b[39;49m\u001b[43m]\u001b[49m\u001b[43m)\u001b[49m\u001b[43m,\u001b[49m\u001b[43m \u001b[49m\u001b[43mrun_id\u001b[49m\u001b[43m,\u001b[49m\u001b[43m \u001b[49m\u001b[43mtoday\u001b[49m\u001b[43m,\u001b[49m\u001b[43m \u001b[49m\u001b[43mtime\u001b[49m\u001b[43m,\u001b[49m\u001b[43m \u001b[49m\u001b[43mgnn_type\u001b[49m\u001b[43m)\u001b[49m\n\u001b[1;32m     26\u001b[0m \u001b[38;5;66;03m# visualize(out, color=data.y.argmax(dim=1))\u001b[39;00m\n",
      "File \u001b[0;32m~/20230406_ArticleClassifier/ArticleClassifier/src/visualization/visualize.py:76\u001b[0m, in \u001b[0;36mplot_performance_per_label\u001b[0;34m(metric_name, metric_scores, labels, run_id, today, time, gnn_type)\u001b[0m\n\u001b[1;32m     74\u001b[0m plt\u001b[38;5;241m.\u001b[39mxticks(rotation\u001b[38;5;241m=\u001b[39m\u001b[38;5;241m90\u001b[39m)\n\u001b[1;32m     75\u001b[0m plt\u001b[38;5;241m.\u001b[39mtight_layout()\n\u001b[0;32m---> 76\u001b[0m \u001b[43mplt\u001b[49m\u001b[38;5;241;43m.\u001b[39;49m\u001b[43msavefig\u001b[49m\u001b[43m(\u001b[49m\u001b[43mcc_path\u001b[49m\u001b[43m(\u001b[49m\u001b[38;5;124;43mf\u001b[39;49m\u001b[38;5;124;43m'\u001b[39;49m\u001b[38;5;124;43mreports/figures/classification_results/\u001b[39;49m\u001b[38;5;132;43;01m{\u001b[39;49;00m\u001b[43mtoday\u001b[49m\u001b[38;5;132;43;01m}\u001b[39;49;00m\u001b[38;5;124;43m/\u001b[39;49m\u001b[38;5;132;43;01m{\u001b[39;49;00m\u001b[43mtime\u001b[49m\u001b[38;5;132;43;01m}\u001b[39;49;00m\u001b[38;5;124;43m/\u001b[39;49m\u001b[38;5;132;43;01m{\u001b[39;49;00m\u001b[43mrun_id\u001b[49m\u001b[38;5;132;43;01m}\u001b[39;49;00m\u001b[38;5;124;43m_\u001b[39;49m\u001b[38;5;132;43;01m{\u001b[39;49;00m\u001b[43mgnn_type\u001b[49m\u001b[38;5;132;43;01m}\u001b[39;49;00m\u001b[38;5;124;43m_\u001b[39;49m\u001b[38;5;132;43;01m{\u001b[39;49;00m\u001b[43mmetric_name\u001b[49m\u001b[38;5;132;43;01m}\u001b[39;49;00m\u001b[38;5;124;43m_label.png\u001b[39;49m\u001b[38;5;124;43m'\u001b[39;49m\u001b[43m)\u001b[49m\u001b[43m)\u001b[49m\n\u001b[1;32m     77\u001b[0m plt\u001b[38;5;241m.\u001b[39mshow()\n",
      "File \u001b[0;32m~/.conda/envs/articleclassifier/lib/python3.9/site-packages/matplotlib/pyplot.py:1023\u001b[0m, in \u001b[0;36msavefig\u001b[0;34m(*args, **kwargs)\u001b[0m\n\u001b[1;32m   1020\u001b[0m \u001b[38;5;129m@_copy_docstring_and_deprecators\u001b[39m(Figure\u001b[38;5;241m.\u001b[39msavefig)\n\u001b[1;32m   1021\u001b[0m \u001b[38;5;28;01mdef\u001b[39;00m \u001b[38;5;21msavefig\u001b[39m(\u001b[38;5;241m*\u001b[39margs, \u001b[38;5;241m*\u001b[39m\u001b[38;5;241m*\u001b[39mkwargs):\n\u001b[1;32m   1022\u001b[0m     fig \u001b[38;5;241m=\u001b[39m gcf()\n\u001b[0;32m-> 1023\u001b[0m     res \u001b[38;5;241m=\u001b[39m \u001b[43mfig\u001b[49m\u001b[38;5;241;43m.\u001b[39;49m\u001b[43msavefig\u001b[49m\u001b[43m(\u001b[49m\u001b[38;5;241;43m*\u001b[39;49m\u001b[43margs\u001b[49m\u001b[43m,\u001b[49m\u001b[43m \u001b[49m\u001b[38;5;241;43m*\u001b[39;49m\u001b[38;5;241;43m*\u001b[39;49m\u001b[43mkwargs\u001b[49m\u001b[43m)\u001b[49m\n\u001b[1;32m   1024\u001b[0m     fig\u001b[38;5;241m.\u001b[39mcanvas\u001b[38;5;241m.\u001b[39mdraw_idle()  \u001b[38;5;66;03m# Need this if 'transparent=True', to reset colors.\u001b[39;00m\n\u001b[1;32m   1025\u001b[0m     \u001b[38;5;28;01mreturn\u001b[39;00m res\n",
      "File \u001b[0;32m~/.conda/envs/articleclassifier/lib/python3.9/site-packages/matplotlib/figure.py:3343\u001b[0m, in \u001b[0;36mFigure.savefig\u001b[0;34m(self, fname, transparent, **kwargs)\u001b[0m\n\u001b[1;32m   3339\u001b[0m     \u001b[38;5;28;01mfor\u001b[39;00m ax \u001b[38;5;129;01min\u001b[39;00m \u001b[38;5;28mself\u001b[39m\u001b[38;5;241m.\u001b[39maxes:\n\u001b[1;32m   3340\u001b[0m         stack\u001b[38;5;241m.\u001b[39menter_context(\n\u001b[1;32m   3341\u001b[0m             ax\u001b[38;5;241m.\u001b[39mpatch\u001b[38;5;241m.\u001b[39m_cm_set(facecolor\u001b[38;5;241m=\u001b[39m\u001b[38;5;124m'\u001b[39m\u001b[38;5;124mnone\u001b[39m\u001b[38;5;124m'\u001b[39m, edgecolor\u001b[38;5;241m=\u001b[39m\u001b[38;5;124m'\u001b[39m\u001b[38;5;124mnone\u001b[39m\u001b[38;5;124m'\u001b[39m))\n\u001b[0;32m-> 3343\u001b[0m \u001b[38;5;28;43mself\u001b[39;49m\u001b[38;5;241;43m.\u001b[39;49m\u001b[43mcanvas\u001b[49m\u001b[38;5;241;43m.\u001b[39;49m\u001b[43mprint_figure\u001b[49m\u001b[43m(\u001b[49m\u001b[43mfname\u001b[49m\u001b[43m,\u001b[49m\u001b[43m \u001b[49m\u001b[38;5;241;43m*\u001b[39;49m\u001b[38;5;241;43m*\u001b[39;49m\u001b[43mkwargs\u001b[49m\u001b[43m)\u001b[49m\n",
      "File \u001b[0;32m~/.conda/envs/articleclassifier/lib/python3.9/site-packages/matplotlib/backend_bases.py:2366\u001b[0m, in \u001b[0;36mFigureCanvasBase.print_figure\u001b[0;34m(self, filename, dpi, facecolor, edgecolor, orientation, format, bbox_inches, pad_inches, bbox_extra_artists, backend, **kwargs)\u001b[0m\n\u001b[1;32m   2362\u001b[0m \u001b[38;5;28;01mtry\u001b[39;00m:\n\u001b[1;32m   2363\u001b[0m     \u001b[38;5;66;03m# _get_renderer may change the figure dpi (as vector formats\u001b[39;00m\n\u001b[1;32m   2364\u001b[0m     \u001b[38;5;66;03m# force the figure dpi to 72), so we need to set it again here.\u001b[39;00m\n\u001b[1;32m   2365\u001b[0m     \u001b[38;5;28;01mwith\u001b[39;00m cbook\u001b[38;5;241m.\u001b[39m_setattr_cm(\u001b[38;5;28mself\u001b[39m\u001b[38;5;241m.\u001b[39mfigure, dpi\u001b[38;5;241m=\u001b[39mdpi):\n\u001b[0;32m-> 2366\u001b[0m         result \u001b[38;5;241m=\u001b[39m \u001b[43mprint_method\u001b[49m\u001b[43m(\u001b[49m\n\u001b[1;32m   2367\u001b[0m \u001b[43m            \u001b[49m\u001b[43mfilename\u001b[49m\u001b[43m,\u001b[49m\n\u001b[1;32m   2368\u001b[0m \u001b[43m            \u001b[49m\u001b[43mfacecolor\u001b[49m\u001b[38;5;241;43m=\u001b[39;49m\u001b[43mfacecolor\u001b[49m\u001b[43m,\u001b[49m\n\u001b[1;32m   2369\u001b[0m \u001b[43m            \u001b[49m\u001b[43medgecolor\u001b[49m\u001b[38;5;241;43m=\u001b[39;49m\u001b[43medgecolor\u001b[49m\u001b[43m,\u001b[49m\n\u001b[1;32m   2370\u001b[0m \u001b[43m            \u001b[49m\u001b[43morientation\u001b[49m\u001b[38;5;241;43m=\u001b[39;49m\u001b[43morientation\u001b[49m\u001b[43m,\u001b[49m\n\u001b[1;32m   2371\u001b[0m \u001b[43m            \u001b[49m\u001b[43mbbox_inches_restore\u001b[49m\u001b[38;5;241;43m=\u001b[39;49m\u001b[43m_bbox_inches_restore\u001b[49m\u001b[43m,\u001b[49m\n\u001b[1;32m   2372\u001b[0m \u001b[43m            \u001b[49m\u001b[38;5;241;43m*\u001b[39;49m\u001b[38;5;241;43m*\u001b[39;49m\u001b[43mkwargs\u001b[49m\u001b[43m)\u001b[49m\n\u001b[1;32m   2373\u001b[0m \u001b[38;5;28;01mfinally\u001b[39;00m:\n\u001b[1;32m   2374\u001b[0m     \u001b[38;5;28;01mif\u001b[39;00m bbox_inches \u001b[38;5;129;01mand\u001b[39;00m restore_bbox:\n",
      "File \u001b[0;32m~/.conda/envs/articleclassifier/lib/python3.9/site-packages/matplotlib/backend_bases.py:2232\u001b[0m, in \u001b[0;36mFigureCanvasBase._switch_canvas_and_return_print_method.<locals>.<lambda>\u001b[0;34m(*args, **kwargs)\u001b[0m\n\u001b[1;32m   2228\u001b[0m     optional_kws \u001b[38;5;241m=\u001b[39m {  \u001b[38;5;66;03m# Passed by print_figure for other renderers.\u001b[39;00m\n\u001b[1;32m   2229\u001b[0m         \u001b[38;5;124m\"\u001b[39m\u001b[38;5;124mdpi\u001b[39m\u001b[38;5;124m\"\u001b[39m, \u001b[38;5;124m\"\u001b[39m\u001b[38;5;124mfacecolor\u001b[39m\u001b[38;5;124m\"\u001b[39m, \u001b[38;5;124m\"\u001b[39m\u001b[38;5;124medgecolor\u001b[39m\u001b[38;5;124m\"\u001b[39m, \u001b[38;5;124m\"\u001b[39m\u001b[38;5;124morientation\u001b[39m\u001b[38;5;124m\"\u001b[39m,\n\u001b[1;32m   2230\u001b[0m         \u001b[38;5;124m\"\u001b[39m\u001b[38;5;124mbbox_inches_restore\u001b[39m\u001b[38;5;124m\"\u001b[39m}\n\u001b[1;32m   2231\u001b[0m     skip \u001b[38;5;241m=\u001b[39m optional_kws \u001b[38;5;241m-\u001b[39m {\u001b[38;5;241m*\u001b[39minspect\u001b[38;5;241m.\u001b[39msignature(meth)\u001b[38;5;241m.\u001b[39mparameters}\n\u001b[0;32m-> 2232\u001b[0m     print_method \u001b[38;5;241m=\u001b[39m functools\u001b[38;5;241m.\u001b[39mwraps(meth)(\u001b[38;5;28;01mlambda\u001b[39;00m \u001b[38;5;241m*\u001b[39margs, \u001b[38;5;241m*\u001b[39m\u001b[38;5;241m*\u001b[39mkwargs: \u001b[43mmeth\u001b[49m\u001b[43m(\u001b[49m\n\u001b[1;32m   2233\u001b[0m \u001b[43m        \u001b[49m\u001b[38;5;241;43m*\u001b[39;49m\u001b[43margs\u001b[49m\u001b[43m,\u001b[49m\u001b[43m \u001b[49m\u001b[38;5;241;43m*\u001b[39;49m\u001b[38;5;241;43m*\u001b[39;49m\u001b[43m{\u001b[49m\u001b[43mk\u001b[49m\u001b[43m:\u001b[49m\u001b[43m \u001b[49m\u001b[43mv\u001b[49m\u001b[43m \u001b[49m\u001b[38;5;28;43;01mfor\u001b[39;49;00m\u001b[43m \u001b[49m\u001b[43mk\u001b[49m\u001b[43m,\u001b[49m\u001b[43m \u001b[49m\u001b[43mv\u001b[49m\u001b[43m \u001b[49m\u001b[38;5;129;43;01min\u001b[39;49;00m\u001b[43m \u001b[49m\u001b[43mkwargs\u001b[49m\u001b[38;5;241;43m.\u001b[39;49m\u001b[43mitems\u001b[49m\u001b[43m(\u001b[49m\u001b[43m)\u001b[49m\u001b[43m \u001b[49m\u001b[38;5;28;43;01mif\u001b[39;49;00m\u001b[43m \u001b[49m\u001b[43mk\u001b[49m\u001b[43m \u001b[49m\u001b[38;5;129;43;01mnot\u001b[39;49;00m\u001b[43m \u001b[49m\u001b[38;5;129;43;01min\u001b[39;49;00m\u001b[43m \u001b[49m\u001b[43mskip\u001b[49m\u001b[43m}\u001b[49m\u001b[43m)\u001b[49m)\n\u001b[1;32m   2234\u001b[0m \u001b[38;5;28;01melse\u001b[39;00m:  \u001b[38;5;66;03m# Let third-parties do as they see fit.\u001b[39;00m\n\u001b[1;32m   2235\u001b[0m     print_method \u001b[38;5;241m=\u001b[39m meth\n",
      "File \u001b[0;32m~/.conda/envs/articleclassifier/lib/python3.9/site-packages/matplotlib/backends/backend_agg.py:509\u001b[0m, in \u001b[0;36mFigureCanvasAgg.print_png\u001b[0;34m(self, filename_or_obj, metadata, pil_kwargs)\u001b[0m\n\u001b[1;32m    462\u001b[0m \u001b[38;5;28;01mdef\u001b[39;00m \u001b[38;5;21mprint_png\u001b[39m(\u001b[38;5;28mself\u001b[39m, filename_or_obj, \u001b[38;5;241m*\u001b[39m, metadata\u001b[38;5;241m=\u001b[39m\u001b[38;5;28;01mNone\u001b[39;00m, pil_kwargs\u001b[38;5;241m=\u001b[39m\u001b[38;5;28;01mNone\u001b[39;00m):\n\u001b[1;32m    463\u001b[0m \u001b[38;5;250m    \u001b[39m\u001b[38;5;124;03m\"\"\"\u001b[39;00m\n\u001b[1;32m    464\u001b[0m \u001b[38;5;124;03m    Write the figure to a PNG file.\u001b[39;00m\n\u001b[1;32m    465\u001b[0m \n\u001b[0;32m   (...)\u001b[0m\n\u001b[1;32m    507\u001b[0m \u001b[38;5;124;03m        *metadata*, including the default 'Software' key.\u001b[39;00m\n\u001b[1;32m    508\u001b[0m \u001b[38;5;124;03m    \"\"\"\u001b[39;00m\n\u001b[0;32m--> 509\u001b[0m     \u001b[38;5;28;43mself\u001b[39;49m\u001b[38;5;241;43m.\u001b[39;49m\u001b[43m_print_pil\u001b[49m\u001b[43m(\u001b[49m\u001b[43mfilename_or_obj\u001b[49m\u001b[43m,\u001b[49m\u001b[43m \u001b[49m\u001b[38;5;124;43m\"\u001b[39;49m\u001b[38;5;124;43mpng\u001b[39;49m\u001b[38;5;124;43m\"\u001b[39;49m\u001b[43m,\u001b[49m\u001b[43m \u001b[49m\u001b[43mpil_kwargs\u001b[49m\u001b[43m,\u001b[49m\u001b[43m \u001b[49m\u001b[43mmetadata\u001b[49m\u001b[43m)\u001b[49m\n",
      "File \u001b[0;32m~/.conda/envs/articleclassifier/lib/python3.9/site-packages/matplotlib/backends/backend_agg.py:458\u001b[0m, in \u001b[0;36mFigureCanvasAgg._print_pil\u001b[0;34m(self, filename_or_obj, fmt, pil_kwargs, metadata)\u001b[0m\n\u001b[1;32m    453\u001b[0m \u001b[38;5;250m\u001b[39m\u001b[38;5;124;03m\"\"\"\u001b[39;00m\n\u001b[1;32m    454\u001b[0m \u001b[38;5;124;03mDraw the canvas, then save it using `.image.imsave` (to which\u001b[39;00m\n\u001b[1;32m    455\u001b[0m \u001b[38;5;124;03m*pil_kwargs* and *metadata* are forwarded).\u001b[39;00m\n\u001b[1;32m    456\u001b[0m \u001b[38;5;124;03m\"\"\"\u001b[39;00m\n\u001b[1;32m    457\u001b[0m FigureCanvasAgg\u001b[38;5;241m.\u001b[39mdraw(\u001b[38;5;28mself\u001b[39m)\n\u001b[0;32m--> 458\u001b[0m \u001b[43mmpl\u001b[49m\u001b[38;5;241;43m.\u001b[39;49m\u001b[43mimage\u001b[49m\u001b[38;5;241;43m.\u001b[39;49m\u001b[43mimsave\u001b[49m\u001b[43m(\u001b[49m\n\u001b[1;32m    459\u001b[0m \u001b[43m    \u001b[49m\u001b[43mfilename_or_obj\u001b[49m\u001b[43m,\u001b[49m\u001b[43m \u001b[49m\u001b[38;5;28;43mself\u001b[39;49m\u001b[38;5;241;43m.\u001b[39;49m\u001b[43mbuffer_rgba\u001b[49m\u001b[43m(\u001b[49m\u001b[43m)\u001b[49m\u001b[43m,\u001b[49m\u001b[43m \u001b[49m\u001b[38;5;28;43mformat\u001b[39;49m\u001b[38;5;241;43m=\u001b[39;49m\u001b[43mfmt\u001b[49m\u001b[43m,\u001b[49m\u001b[43m \u001b[49m\u001b[43morigin\u001b[49m\u001b[38;5;241;43m=\u001b[39;49m\u001b[38;5;124;43m\"\u001b[39;49m\u001b[38;5;124;43mupper\u001b[39;49m\u001b[38;5;124;43m\"\u001b[39;49m\u001b[43m,\u001b[49m\n\u001b[1;32m    460\u001b[0m \u001b[43m    \u001b[49m\u001b[43mdpi\u001b[49m\u001b[38;5;241;43m=\u001b[39;49m\u001b[38;5;28;43mself\u001b[39;49m\u001b[38;5;241;43m.\u001b[39;49m\u001b[43mfigure\u001b[49m\u001b[38;5;241;43m.\u001b[39;49m\u001b[43mdpi\u001b[49m\u001b[43m,\u001b[49m\u001b[43m \u001b[49m\u001b[43mmetadata\u001b[49m\u001b[38;5;241;43m=\u001b[39;49m\u001b[43mmetadata\u001b[49m\u001b[43m,\u001b[49m\u001b[43m \u001b[49m\u001b[43mpil_kwargs\u001b[49m\u001b[38;5;241;43m=\u001b[39;49m\u001b[43mpil_kwargs\u001b[49m\u001b[43m)\u001b[49m\n",
      "File \u001b[0;32m~/.conda/envs/articleclassifier/lib/python3.9/site-packages/matplotlib/image.py:1689\u001b[0m, in \u001b[0;36mimsave\u001b[0;34m(fname, arr, vmin, vmax, cmap, format, origin, dpi, metadata, pil_kwargs)\u001b[0m\n\u001b[1;32m   1687\u001b[0m pil_kwargs\u001b[38;5;241m.\u001b[39msetdefault(\u001b[38;5;124m\"\u001b[39m\u001b[38;5;124mformat\u001b[39m\u001b[38;5;124m\"\u001b[39m, \u001b[38;5;28mformat\u001b[39m)\n\u001b[1;32m   1688\u001b[0m pil_kwargs\u001b[38;5;241m.\u001b[39msetdefault(\u001b[38;5;124m\"\u001b[39m\u001b[38;5;124mdpi\u001b[39m\u001b[38;5;124m\"\u001b[39m, (dpi, dpi))\n\u001b[0;32m-> 1689\u001b[0m \u001b[43mimage\u001b[49m\u001b[38;5;241;43m.\u001b[39;49m\u001b[43msave\u001b[49m\u001b[43m(\u001b[49m\u001b[43mfname\u001b[49m\u001b[43m,\u001b[49m\u001b[43m \u001b[49m\u001b[38;5;241;43m*\u001b[39;49m\u001b[38;5;241;43m*\u001b[39;49m\u001b[43mpil_kwargs\u001b[49m\u001b[43m)\u001b[49m\n",
      "File \u001b[0;32m~/.conda/envs/articleclassifier/lib/python3.9/site-packages/PIL/Image.py:2429\u001b[0m, in \u001b[0;36mImage.save\u001b[0;34m(self, fp, format, **params)\u001b[0m\n\u001b[1;32m   2427\u001b[0m         fp \u001b[38;5;241m=\u001b[39m builtins\u001b[38;5;241m.\u001b[39mopen(filename, \u001b[38;5;124m\"\u001b[39m\u001b[38;5;124mr+b\u001b[39m\u001b[38;5;124m\"\u001b[39m)\n\u001b[1;32m   2428\u001b[0m     \u001b[38;5;28;01melse\u001b[39;00m:\n\u001b[0;32m-> 2429\u001b[0m         fp \u001b[38;5;241m=\u001b[39m \u001b[43mbuiltins\u001b[49m\u001b[38;5;241;43m.\u001b[39;49m\u001b[43mopen\u001b[49m\u001b[43m(\u001b[49m\u001b[43mfilename\u001b[49m\u001b[43m,\u001b[49m\u001b[43m \u001b[49m\u001b[38;5;124;43m\"\u001b[39;49m\u001b[38;5;124;43mw+b\u001b[39;49m\u001b[38;5;124;43m\"\u001b[39;49m\u001b[43m)\u001b[49m\n\u001b[1;32m   2431\u001b[0m \u001b[38;5;28;01mtry\u001b[39;00m:\n\u001b[1;32m   2432\u001b[0m     save_handler(\u001b[38;5;28mself\u001b[39m, fp, filename)\n",
      "\u001b[0;31mFileNotFoundError\u001b[0m: [Errno 2] No such file or directory: '/home/jovyan/20230406_ArticleClassifier/ArticleClassifier/reports/figures/classification_results/2023-05-02/15-48-08/20230502154808_GAT_F1 score_label.png'"
     ]
    },
    {
     "data": {
      "image/png": "[encoded data removed]",
      "text/plain": [
       "<Figure size 640x480 with 1 Axes>"
      ]
     },
     "metadata": {},
     "output_type": "display_data"
    }
   ],
   "source": [
    "# image_path = cc_path(f'reports/figures/classification_results/{today}/')\n",
    "# if not os.path.exists(image_path):\n",
    "#     os.mkdir(image_path)\n",
    "# os.mkdir(image_path + f'{time}/')\n",
    "\n",
    "# plot metric developement during traing\n",
    "for metric in ['F1 score', \"precision\", 'recall']:\n",
    "    if 'Micro' in metric or 'Macro' in metric:\n",
    "        plot_metrics_during_training(all_metrics['train'][metric], all_metrics['test'][metric], loss_all, model_name=gnn_type, metric_name=metric, today=today, time=time)\n",
    "        print(f\"The max {metric} value: \", max(test_metrics_all[metric]))\n",
    "\n",
    "\n",
    "# get the test accuracy\n",
    "print('Evaluating model performance...')\n",
    "model.eval()\n",
    "train_end_metrics = evaluate_metrics(model, data, dataset='train', show=True)\n",
    "val_end_metrics = evaluate_metrics(model, data, dataset='val', show=True)\n",
    "test_end_metrics = evaluate_metrics(model, data, dataset='test', show=True)\n",
    "\n",
    "for metric in ['F1 score', \"Precision\", 'Recall']:\n",
    "    if not 'Micro' in metric and not 'Macro' in metric:\n",
    "        plot_performance_per_label(metric, test_end_metrics[metric], label_columns.columns.difference(['pui']), run_id, today, time, gnn_type)\n",
    "        \n",
    "# visualize(out, color=data.y.argmax(dim=1))"
   ]
  },
  {
   "cell_type": "markdown",
   "id": "1692f5c1",
   "metadata": {},
   "source": [
    "### train classification head on graph node embeddings"
   ]
  },
  {
   "cell_type": "code",
   "execution_count": 10,
   "id": "9d6088b3",
   "metadata": {},
   "outputs": [],
   "source": [
    "from sklearn.multioutput import MultiOutputClassifier\n",
    "from sklearn.ensemble import RandomForestClassifier, HistGradientBoostingClassifier\n",
    "from sklearn.multioutput import MultiOutputClassifier\n",
    "import lightgbm as gbm"
   ]
  },
  {
   "cell_type": "code",
   "execution_count": 11,
   "id": "a8fbe219",
   "metadata": {},
   "outputs": [],
   "source": [
    "resume_from_checkpoint = True\n",
    "if resume_from_checkpoint:\n",
    "    restore_run_id = '20230502154808'\n",
    "    model, res = torch.load(cc_path(f'models/supervised_graphs/{restore_run_id}_supervised.pt'), map_location=torch.device('cpu'))\n",
    "else:\n",
    "    model = best_model\n",
    "\n",
    "# model.to('cpu')\n",
    "# loaders = [d.to('cpu') for d in data]\n",
    "# data_inputs = [data_input.to('cpu') for data_input in data_inputs]\n",
    "\n",
    "graph_created_embeddings = model.forward(*data_inputs, return_embeddings=True)\n",
    "\n",
    "X_train_graph_embeddings = graph_created_embeddings[data[0].train_mask].detach().cpu().numpy()\n",
    "X_val_graph_embeddings = graph_created_embeddings[data[0].val_mask].detach().cpu().numpy()\n",
    "X_test_graph_embeddings = graph_created_embeddings[data[0].test_mask].detach().cpu().numpy()\n",
    "\n",
    "y_train_graph_embeddings = data[0].y[data[0].train_mask].detach().cpu().numpy()\n",
    "y_val_graph_embeddings = data[0].y[data[0].val_mask].detach().cpu().numpy()\n",
    "y_test_graph_embeddings = data[0].y[data[0].test_mask].detach().cpu().numpy()"
   ]
  },
  {
   "cell_type": "code",
   "execution_count": 12,
   "id": "8de85dac",
   "metadata": {},
   "outputs": [],
   "source": [
    "from data.mlsmote import get_minority_instance, MLSMOTE\n",
    "\n",
    "X = pd.DataFrame(X_train_graph_embeddings)\n",
    "y = pd.DataFrame(y_train_graph_embeddings)\n",
    "\n",
    "X_sub, y_sub = get_minority_instance(X, y)   #Getting minority instance of that datframe\n",
    "X_res,y_res =MLSMOTE(X_sub, y_sub, 2000)"
   ]
  },
  {
   "cell_type": "code",
   "execution_count": 13,
   "id": "e3dae773",
   "metadata": {},
   "outputs": [],
   "source": [
    "X_train_graph_embeddings = np.concatenate((X_train_graph_embeddings, X_res.to_numpy()))\n",
    "y_train_graph_embeddings = np.concatenate((y_train_graph_embeddings, y_res.to_numpy()))"
   ]
  },
  {
   "cell_type": "code",
   "execution_count": 14,
   "id": "9bee24a7",
   "metadata": {},
   "outputs": [],
   "source": [
    "# create a classifier for each class\n",
    "lgbm_params = {\n",
    "    'n_estimators': 700,\n",
    "    'is_unbalance': True,\n",
    "    'n_jobs': -1,\n",
    "    'learning_rate': 0.01,\n",
    "    'subsample': 0.9,\n",
    "    'reg_alpha': 0.1,\n",
    "    'reg_lambda': 0.1,\n",
    "    'colsample_bytree': 0.8,\n",
    "    'boosting_type': 'dart'\n",
    "}\n",
    "\n",
    "num_labels = 52\n",
    "clfs = []\n",
    "for i in range(num_labels):\n",
    "    clfs.append(gbm.LGBMClassifier(**lgbm_params))\n",
    "\n",
    "already_fitted = False"
   ]
  },
  {
   "cell_type": "code",
   "execution_count": 15,
   "id": "2d59d761",
   "metadata": {
    "tags": []
   },
   "outputs": [
    {
     "name": "stderr",
     "output_type": "stream",
     "text": [
      "  0%|          | 0/52 [00:00<?, ?it/s]/home/jovyan/.conda/envs/articleclassifier/lib/python3.9/site-packages/lightgbm/callback.py:223: UserWarning: Early stopping is not available in dart mode\n",
      "  _log_warning('Early stopping is not available in dart mode')\n"
     ]
    },
    {
     "name": "stdout",
     "output_type": "stream",
     "text": [
      "[100]\tvalid_0's binary_logloss: 0.27481\n",
      "[200]\tvalid_0's binary_logloss: 0.333687\n",
      "[300]\tvalid_0's binary_logloss: 0.320214\n",
      "[400]\tvalid_0's binary_logloss: 0.30468\n",
      "[500]\tvalid_0's binary_logloss: 0.291531\n",
      "[600]\tvalid_0's binary_logloss: 0.280718\n"
     ]
    },
    {
     "name": "stderr",
     "output_type": "stream",
     "text": [
      "  2%|▏         | 1/52 [00:38<33:02, 38.88s/it]"
     ]
    },
    {
     "name": "stdout",
     "output_type": "stream",
     "text": [
      "[700]\tvalid_0's binary_logloss: 0.274232\n"
     ]
    },
    {
     "name": "stderr",
     "output_type": "stream",
     "text": [
      "/home/jovyan/.conda/envs/articleclassifier/lib/python3.9/site-packages/lightgbm/callback.py:223: UserWarning: Early stopping is not available in dart mode\n",
      "  _log_warning('Early stopping is not available in dart mode')\n"
     ]
    },
    {
     "name": "stdout",
     "output_type": "stream",
     "text": [
      "[100]\tvalid_0's binary_logloss: 0.521831\n",
      "[200]\tvalid_0's binary_logloss: 0.467429\n",
      "[300]\tvalid_0's binary_logloss: 0.423539\n",
      "[400]\tvalid_0's binary_logloss: 0.395392\n",
      "[500]\tvalid_0's binary_logloss: 0.376182\n",
      "[600]\tvalid_0's binary_logloss: 0.371416\n"
     ]
    },
    {
     "name": "stderr",
     "output_type": "stream",
     "text": [
      "  4%|▍         | 2/52 [01:20<33:37, 40.36s/it]"
     ]
    },
    {
     "name": "stdout",
     "output_type": "stream",
     "text": [
      "[700]\tvalid_0's binary_logloss: 0.363979\n"
     ]
    },
    {
     "name": "stderr",
     "output_type": "stream",
     "text": [
      "/home/jovyan/.conda/envs/articleclassifier/lib/python3.9/site-packages/lightgbm/callback.py:223: UserWarning: Early stopping is not available in dart mode\n",
      "  _log_warning('Early stopping is not available in dart mode')\n"
     ]
    },
    {
     "name": "stdout",
     "output_type": "stream",
     "text": [
      "[100]\tvalid_0's binary_logloss: 0.438342\n",
      "[200]\tvalid_0's binary_logloss: 0.435761\n",
      "[300]\tvalid_0's binary_logloss: 0.407959\n",
      "[400]\tvalid_0's binary_logloss: 0.38739\n",
      "[500]\tvalid_0's binary_logloss: 0.372491\n",
      "[600]\tvalid_0's binary_logloss: 0.365098\n"
     ]
    },
    {
     "name": "stderr",
     "output_type": "stream",
     "text": [
      "  6%|▌         | 3/52 [02:00<32:45, 40.10s/it]"
     ]
    },
    {
     "name": "stdout",
     "output_type": "stream",
     "text": [
      "[700]\tvalid_0's binary_logloss: 0.358783\n"
     ]
    },
    {
     "name": "stderr",
     "output_type": "stream",
     "text": [
      "/home/jovyan/.conda/envs/articleclassifier/lib/python3.9/site-packages/lightgbm/callback.py:223: UserWarning: Early stopping is not available in dart mode\n",
      "  _log_warning('Early stopping is not available in dart mode')\n"
     ]
    },
    {
     "name": "stdout",
     "output_type": "stream",
     "text": [
      "[100]\tvalid_0's binary_logloss: 0.245575\n",
      "[200]\tvalid_0's binary_logloss: 0.282498\n",
      "[300]\tvalid_0's binary_logloss: 0.260078\n",
      "[400]\tvalid_0's binary_logloss: 0.23926\n",
      "[500]\tvalid_0's binary_logloss: 0.222424\n",
      "[600]\tvalid_0's binary_logloss: 0.211903\n"
     ]
    },
    {
     "name": "stderr",
     "output_type": "stream",
     "text": [
      "  8%|▊         | 4/52 [02:32<29:35, 37.00s/it]"
     ]
    },
    {
     "name": "stdout",
     "output_type": "stream",
     "text": [
      "[700]\tvalid_0's binary_logloss: 0.203795\n"
     ]
    },
    {
     "name": "stderr",
     "output_type": "stream",
     "text": [
      "/home/jovyan/.conda/envs/articleclassifier/lib/python3.9/site-packages/lightgbm/callback.py:223: UserWarning: Early stopping is not available in dart mode\n",
      "  _log_warning('Early stopping is not available in dart mode')\n"
     ]
    },
    {
     "name": "stdout",
     "output_type": "stream",
     "text": [
      "[100]\tvalid_0's binary_logloss: 0.29114\n",
      "[200]\tvalid_0's binary_logloss: 0.279639\n",
      "[300]\tvalid_0's binary_logloss: 0.233824\n",
      "[400]\tvalid_0's binary_logloss: 0.198449\n",
      "[500]\tvalid_0's binary_logloss: 0.170568\n",
      "[600]\tvalid_0's binary_logloss: 0.15983\n"
     ]
    },
    {
     "name": "stderr",
     "output_type": "stream",
     "text": [
      " 10%|▉         | 5/52 [03:02<27:01, 34.50s/it]"
     ]
    },
    {
     "name": "stdout",
     "output_type": "stream",
     "text": [
      "[700]\tvalid_0's binary_logloss: 0.146884\n"
     ]
    },
    {
     "name": "stderr",
     "output_type": "stream",
     "text": [
      "/home/jovyan/.conda/envs/articleclassifier/lib/python3.9/site-packages/lightgbm/callback.py:223: UserWarning: Early stopping is not available in dart mode\n",
      "  _log_warning('Early stopping is not available in dart mode')\n"
     ]
    },
    {
     "name": "stdout",
     "output_type": "stream",
     "text": [
      "[100]\tvalid_0's binary_logloss: 0.256613\n",
      "[200]\tvalid_0's binary_logloss: 0.266908\n",
      "[300]\tvalid_0's binary_logloss: 0.230493\n",
      "[400]\tvalid_0's binary_logloss: 0.200207\n",
      "[500]\tvalid_0's binary_logloss: 0.176149\n",
      "[600]\tvalid_0's binary_logloss: 0.165951\n"
     ]
    },
    {
     "name": "stderr",
     "output_type": "stream",
     "text": [
      " 12%|█▏        | 6/52 [03:33<25:31, 33.30s/it]"
     ]
    },
    {
     "name": "stdout",
     "output_type": "stream",
     "text": [
      "[700]\tvalid_0's binary_logloss: 0.1546\n"
     ]
    },
    {
     "name": "stderr",
     "output_type": "stream",
     "text": [
      "/home/jovyan/.conda/envs/articleclassifier/lib/python3.9/site-packages/lightgbm/callback.py:223: UserWarning: Early stopping is not available in dart mode\n",
      "  _log_warning('Early stopping is not available in dart mode')\n"
     ]
    },
    {
     "name": "stdout",
     "output_type": "stream",
     "text": [
      "[100]\tvalid_0's binary_logloss: 0.269569\n",
      "[200]\tvalid_0's binary_logloss: 0.284295\n",
      "[300]\tvalid_0's binary_logloss: 0.25176\n",
      "[400]\tvalid_0's binary_logloss: 0.225322\n",
      "[500]\tvalid_0's binary_logloss: 0.204928\n",
      "[600]\tvalid_0's binary_logloss: 0.195334\n"
     ]
    },
    {
     "name": "stderr",
     "output_type": "stream",
     "text": [
      " 13%|█▎        | 7/52 [04:04<24:25, 32.57s/it]"
     ]
    },
    {
     "name": "stdout",
     "output_type": "stream",
     "text": [
      "[700]\tvalid_0's binary_logloss: 0.186181\n"
     ]
    },
    {
     "name": "stderr",
     "output_type": "stream",
     "text": [
      "/home/jovyan/.conda/envs/articleclassifier/lib/python3.9/site-packages/lightgbm/callback.py:223: UserWarning: Early stopping is not available in dart mode\n",
      "  _log_warning('Early stopping is not available in dart mode')\n"
     ]
    },
    {
     "name": "stdout",
     "output_type": "stream",
     "text": [
      "[100]\tvalid_0's binary_logloss: 0.136613\n",
      "[200]\tvalid_0's binary_logloss: 0.205051\n",
      "[300]\tvalid_0's binary_logloss: 0.19167\n",
      "[400]\tvalid_0's binary_logloss: 0.1716\n",
      "[500]\tvalid_0's binary_logloss: 0.151869\n",
      "[600]\tvalid_0's binary_logloss: 0.138879\n"
     ]
    },
    {
     "name": "stderr",
     "output_type": "stream",
     "text": [
      " 15%|█▌        | 8/52 [04:43<25:26, 34.70s/it]"
     ]
    },
    {
     "name": "stdout",
     "output_type": "stream",
     "text": [
      "[700]\tvalid_0's binary_logloss: 0.127118\n"
     ]
    },
    {
     "name": "stderr",
     "output_type": "stream",
     "text": [
      "/home/jovyan/.conda/envs/articleclassifier/lib/python3.9/site-packages/lightgbm/callback.py:223: UserWarning: Early stopping is not available in dart mode\n",
      "  _log_warning('Early stopping is not available in dart mode')\n"
     ]
    },
    {
     "name": "stdout",
     "output_type": "stream",
     "text": [
      "[100]\tvalid_0's binary_logloss: 0.178193\n",
      "[200]\tvalid_0's binary_logloss: 0.204873\n",
      "[300]\tvalid_0's binary_logloss: 0.172077\n",
      "[400]\tvalid_0's binary_logloss: 0.14135\n",
      "[500]\tvalid_0's binary_logloss: 0.114556\n",
      "[600]\tvalid_0's binary_logloss: 0.103086\n"
     ]
    },
    {
     "name": "stderr",
     "output_type": "stream",
     "text": [
      " 17%|█▋        | 9/52 [05:17<24:37, 34.36s/it]"
     ]
    },
    {
     "name": "stdout",
     "output_type": "stream",
     "text": [
      "[700]\tvalid_0's binary_logloss: 0.0887082\n"
     ]
    },
    {
     "name": "stderr",
     "output_type": "stream",
     "text": [
      "/home/jovyan/.conda/envs/articleclassifier/lib/python3.9/site-packages/lightgbm/callback.py:223: UserWarning: Early stopping is not available in dart mode\n",
      "  _log_warning('Early stopping is not available in dart mode')\n"
     ]
    },
    {
     "name": "stdout",
     "output_type": "stream",
     "text": [
      "[100]\tvalid_0's binary_logloss: 0.239696\n",
      "[200]\tvalid_0's binary_logloss: 0.274373\n",
      "[300]\tvalid_0's binary_logloss: 0.247664\n",
      "[400]\tvalid_0's binary_logloss: 0.222778\n",
      "[500]\tvalid_0's binary_logloss: 0.202154\n",
      "[600]\tvalid_0's binary_logloss: 0.191742\n"
     ]
    },
    {
     "name": "stderr",
     "output_type": "stream",
     "text": [
      " 19%|█▉        | 10/52 [05:53<24:20, 34.78s/it]"
     ]
    },
    {
     "name": "stdout",
     "output_type": "stream",
     "text": [
      "[700]\tvalid_0's binary_logloss: 0.181231\n"
     ]
    },
    {
     "name": "stderr",
     "output_type": "stream",
     "text": [
      "/home/jovyan/.conda/envs/articleclassifier/lib/python3.9/site-packages/lightgbm/callback.py:223: UserWarning: Early stopping is not available in dart mode\n",
      "  _log_warning('Early stopping is not available in dart mode')\n"
     ]
    },
    {
     "name": "stdout",
     "output_type": "stream",
     "text": [
      "[100]\tvalid_0's binary_logloss: 0.355451\n",
      "[200]\tvalid_0's binary_logloss: 0.341981\n",
      "[300]\tvalid_0's binary_logloss: 0.298952\n",
      "[400]\tvalid_0's binary_logloss: 0.266286\n",
      "[500]\tvalid_0's binary_logloss: 0.241402\n",
      "[600]\tvalid_0's binary_logloss: 0.232263\n"
     ]
    },
    {
     "name": "stderr",
     "output_type": "stream",
     "text": [
      " 21%|██        | 11/52 [06:30<24:17, 35.54s/it]"
     ]
    },
    {
     "name": "stdout",
     "output_type": "stream",
     "text": [
      "[700]\tvalid_0's binary_logloss: 0.22101\n"
     ]
    },
    {
     "name": "stderr",
     "output_type": "stream",
     "text": [
      "/home/jovyan/.conda/envs/articleclassifier/lib/python3.9/site-packages/lightgbm/callback.py:223: UserWarning: Early stopping is not available in dart mode\n",
      "  _log_warning('Early stopping is not available in dart mode')\n"
     ]
    },
    {
     "name": "stdout",
     "output_type": "stream",
     "text": [
      "[100]\tvalid_0's binary_logloss: 0.188261\n",
      "[200]\tvalid_0's binary_logloss: 0.244112\n",
      "[300]\tvalid_0's binary_logloss: 0.223964\n",
      "[400]\tvalid_0's binary_logloss: 0.201775\n",
      "[500]\tvalid_0's binary_logloss: 0.18201\n",
      "[600]\tvalid_0's binary_logloss: 0.170366\n"
     ]
    },
    {
     "name": "stderr",
     "output_type": "stream",
     "text": [
      " 23%|██▎       | 12/52 [07:06<23:54, 35.87s/it]"
     ]
    },
    {
     "name": "stdout",
     "output_type": "stream",
     "text": [
      "[700]\tvalid_0's binary_logloss: 0.159375\n"
     ]
    },
    {
     "name": "stderr",
     "output_type": "stream",
     "text": [
      "/home/jovyan/.conda/envs/articleclassifier/lib/python3.9/site-packages/lightgbm/callback.py:223: UserWarning: Early stopping is not available in dart mode\n",
      "  _log_warning('Early stopping is not available in dart mode')\n"
     ]
    },
    {
     "name": "stdout",
     "output_type": "stream",
     "text": [
      "[100]\tvalid_0's binary_logloss: 0.356353\n",
      "[200]\tvalid_0's binary_logloss: 0.378385\n",
      "[300]\tvalid_0's binary_logloss: 0.351537\n",
      "[400]\tvalid_0's binary_logloss: 0.32785\n",
      "[500]\tvalid_0's binary_logloss: 0.308829\n",
      "[600]\tvalid_0's binary_logloss: 0.299202\n"
     ]
    },
    {
     "name": "stderr",
     "output_type": "stream",
     "text": [
      " 25%|██▌       | 13/52 [07:47<24:15, 37.32s/it]"
     ]
    },
    {
     "name": "stdout",
     "output_type": "stream",
     "text": [
      "[700]\tvalid_0's binary_logloss: 0.290233\n"
     ]
    },
    {
     "name": "stderr",
     "output_type": "stream",
     "text": [
      "/home/jovyan/.conda/envs/articleclassifier/lib/python3.9/site-packages/lightgbm/callback.py:223: UserWarning: Early stopping is not available in dart mode\n",
      "  _log_warning('Early stopping is not available in dart mode')\n"
     ]
    },
    {
     "name": "stdout",
     "output_type": "stream",
     "text": [
      "[100]\tvalid_0's binary_logloss: 0.117053\n",
      "[200]\tvalid_0's binary_logloss: 0.185188\n",
      "[300]\tvalid_0's binary_logloss: 0.174924\n",
      "[400]\tvalid_0's binary_logloss: 0.156988\n",
      "[500]\tvalid_0's binary_logloss: 0.136776\n",
      "[600]\tvalid_0's binary_logloss: 0.121967\n"
     ]
    },
    {
     "name": "stderr",
     "output_type": "stream",
     "text": [
      " 27%|██▋       | 14/52 [08:24<23:32, 37.18s/it]"
     ]
    },
    {
     "name": "stdout",
     "output_type": "stream",
     "text": [
      "[700]\tvalid_0's binary_logloss: 0.108716\n"
     ]
    },
    {
     "name": "stderr",
     "output_type": "stream",
     "text": [
      "/home/jovyan/.conda/envs/articleclassifier/lib/python3.9/site-packages/lightgbm/callback.py:223: UserWarning: Early stopping is not available in dart mode\n",
      "  _log_warning('Early stopping is not available in dart mode')\n"
     ]
    },
    {
     "name": "stdout",
     "output_type": "stream",
     "text": [
      "[100]\tvalid_0's binary_logloss: 0.582927\n",
      "[200]\tvalid_0's binary_logloss: 0.560723\n",
      "[300]\tvalid_0's binary_logloss: 0.538872\n",
      "[400]\tvalid_0's binary_logloss: 0.524626\n",
      "[500]\tvalid_0's binary_logloss: 0.514799\n",
      "[600]\tvalid_0's binary_logloss: 0.512009\n"
     ]
    },
    {
     "name": "stderr",
     "output_type": "stream",
     "text": [
      " 29%|██▉       | 15/52 [09:08<24:08, 39.15s/it]"
     ]
    },
    {
     "name": "stdout",
     "output_type": "stream",
     "text": [
      "[700]\tvalid_0's binary_logloss: 0.508446\n"
     ]
    },
    {
     "name": "stderr",
     "output_type": "stream",
     "text": [
      "/home/jovyan/.conda/envs/articleclassifier/lib/python3.9/site-packages/lightgbm/callback.py:223: UserWarning: Early stopping is not available in dart mode\n",
      "  _log_warning('Early stopping is not available in dart mode')\n"
     ]
    },
    {
     "name": "stdout",
     "output_type": "stream",
     "text": [
      "[100]\tvalid_0's binary_logloss: 0.218599\n",
      "[200]\tvalid_0's binary_logloss: 0.265224\n",
      "[300]\tvalid_0's binary_logloss: 0.242116\n",
      "[400]\tvalid_0's binary_logloss: 0.217719\n",
      "[500]\tvalid_0's binary_logloss: 0.195549\n",
      "[600]\tvalid_0's binary_logloss: 0.183325\n"
     ]
    },
    {
     "name": "stderr",
     "output_type": "stream",
     "text": [
      " 31%|███       | 16/52 [09:46<23:18, 38.85s/it]"
     ]
    },
    {
     "name": "stdout",
     "output_type": "stream",
     "text": [
      "[700]\tvalid_0's binary_logloss: 0.171557\n"
     ]
    },
    {
     "name": "stderr",
     "output_type": "stream",
     "text": [
      "/home/jovyan/.conda/envs/articleclassifier/lib/python3.9/site-packages/lightgbm/callback.py:223: UserWarning: Early stopping is not available in dart mode\n",
      "  _log_warning('Early stopping is not available in dart mode')\n"
     ]
    },
    {
     "name": "stdout",
     "output_type": "stream",
     "text": [
      "[100]\tvalid_0's binary_logloss: 0.0665776\n",
      "[200]\tvalid_0's binary_logloss: 0.116488\n",
      "[300]\tvalid_0's binary_logloss: 0.103633\n",
      "[400]\tvalid_0's binary_logloss: 0.085125\n",
      "[500]\tvalid_0's binary_logloss: 0.0672265\n",
      "[600]\tvalid_0's binary_logloss: 0.0580702\n"
     ]
    },
    {
     "name": "stderr",
     "output_type": "stream",
     "text": [
      " 33%|███▎      | 17/52 [10:17<21:23, 36.68s/it]"
     ]
    },
    {
     "name": "stdout",
     "output_type": "stream",
     "text": [
      "[700]\tvalid_0's binary_logloss: 0.0480186\n"
     ]
    },
    {
     "name": "stderr",
     "output_type": "stream",
     "text": [
      "/home/jovyan/.conda/envs/articleclassifier/lib/python3.9/site-packages/lightgbm/callback.py:223: UserWarning: Early stopping is not available in dart mode\n",
      "  _log_warning('Early stopping is not available in dart mode')\n"
     ]
    },
    {
     "name": "stdout",
     "output_type": "stream",
     "text": [
      "[100]\tvalid_0's binary_logloss: 0.150033\n",
      "[200]\tvalid_0's binary_logloss: 0.214157\n",
      "[300]\tvalid_0's binary_logloss: 0.203055\n",
      "[400]\tvalid_0's binary_logloss: 0.186406\n",
      "[500]\tvalid_0's binary_logloss: 0.170766\n",
      "[600]\tvalid_0's binary_logloss: 0.159922\n"
     ]
    },
    {
     "name": "stderr",
     "output_type": "stream",
     "text": [
      " 35%|███▍      | 18/52 [10:55<20:57, 36.98s/it]"
     ]
    },
    {
     "name": "stdout",
     "output_type": "stream",
     "text": [
      "[700]\tvalid_0's binary_logloss: 0.151185\n"
     ]
    },
    {
     "name": "stderr",
     "output_type": "stream",
     "text": [
      "/home/jovyan/.conda/envs/articleclassifier/lib/python3.9/site-packages/lightgbm/callback.py:223: UserWarning: Early stopping is not available in dart mode\n",
      "  _log_warning('Early stopping is not available in dart mode')\n"
     ]
    },
    {
     "name": "stdout",
     "output_type": "stream",
     "text": [
      "[100]\tvalid_0's binary_logloss: 0.0883987\n",
      "[200]\tvalid_0's binary_logloss: 0.139131\n",
      "[300]\tvalid_0's binary_logloss: 0.123523\n",
      "[400]\tvalid_0's binary_logloss: 0.103032\n",
      "[500]\tvalid_0's binary_logloss: 0.0840981\n",
      "[600]\tvalid_0's binary_logloss: 0.0742836\n"
     ]
    },
    {
     "name": "stderr",
     "output_type": "stream",
     "text": [
      " 37%|███▋      | 19/52 [11:27<19:25, 35.32s/it]"
     ]
    },
    {
     "name": "stdout",
     "output_type": "stream",
     "text": [
      "[700]\tvalid_0's binary_logloss: 0.0632428\n"
     ]
    },
    {
     "name": "stderr",
     "output_type": "stream",
     "text": [
      "/home/jovyan/.conda/envs/articleclassifier/lib/python3.9/site-packages/lightgbm/callback.py:223: UserWarning: Early stopping is not available in dart mode\n",
      "  _log_warning('Early stopping is not available in dart mode')\n"
     ]
    },
    {
     "name": "stdout",
     "output_type": "stream",
     "text": [
      "[100]\tvalid_0's binary_logloss: 0.113332\n",
      "[200]\tvalid_0's binary_logloss: 0.177834\n",
      "[300]\tvalid_0's binary_logloss: 0.16994\n",
      "[400]\tvalid_0's binary_logloss: 0.155261\n",
      "[500]\tvalid_0's binary_logloss: 0.140476\n",
      "[600]\tvalid_0's binary_logloss: 0.129199\n"
     ]
    },
    {
     "name": "stderr",
     "output_type": "stream",
     "text": [
      " 38%|███▊      | 20/52 [12:02<18:46, 35.22s/it]"
     ]
    },
    {
     "name": "stdout",
     "output_type": "stream",
     "text": [
      "[700]\tvalid_0's binary_logloss: 0.120385\n"
     ]
    },
    {
     "name": "stderr",
     "output_type": "stream",
     "text": [
      "/home/jovyan/.conda/envs/articleclassifier/lib/python3.9/site-packages/lightgbm/callback.py:223: UserWarning: Early stopping is not available in dart mode\n",
      "  _log_warning('Early stopping is not available in dart mode')\n"
     ]
    },
    {
     "name": "stdout",
     "output_type": "stream",
     "text": [
      "[100]\tvalid_0's binary_logloss: 0.501674\n",
      "[200]\tvalid_0's binary_logloss: 0.441758\n",
      "[300]\tvalid_0's binary_logloss: 0.392856\n",
      "[400]\tvalid_0's binary_logloss: 0.361061\n",
      "[500]\tvalid_0's binary_logloss: 0.3393\n",
      "[600]\tvalid_0's binary_logloss: 0.333439\n"
     ]
    },
    {
     "name": "stderr",
     "output_type": "stream",
     "text": [
      " 40%|████      | 21/52 [12:42<19:03, 36.89s/it]"
     ]
    },
    {
     "name": "stdout",
     "output_type": "stream",
     "text": [
      "[700]\tvalid_0's binary_logloss: 0.324883\n"
     ]
    },
    {
     "name": "stderr",
     "output_type": "stream",
     "text": [
      "/home/jovyan/.conda/envs/articleclassifier/lib/python3.9/site-packages/lightgbm/callback.py:223: UserWarning: Early stopping is not available in dart mode\n",
      "  _log_warning('Early stopping is not available in dart mode')\n"
     ]
    },
    {
     "name": "stdout",
     "output_type": "stream",
     "text": [
      "[100]\tvalid_0's binary_logloss: 0.109856\n",
      "[200]\tvalid_0's binary_logloss: 0.168102\n",
      "[300]\tvalid_0's binary_logloss: 0.152649\n",
      "[400]\tvalid_0's binary_logloss: 0.131813\n",
      "[500]\tvalid_0's binary_logloss: 0.111154\n",
      "[600]\tvalid_0's binary_logloss: 0.0991107\n"
     ]
    },
    {
     "name": "stderr",
     "output_type": "stream",
     "text": [
      " 42%|████▏     | 22/52 [13:18<18:11, 36.38s/it]"
     ]
    },
    {
     "name": "stdout",
     "output_type": "stream",
     "text": [
      "[700]\tvalid_0's binary_logloss: 0.0868975\n"
     ]
    },
    {
     "name": "stderr",
     "output_type": "stream",
     "text": [
      "/home/jovyan/.conda/envs/articleclassifier/lib/python3.9/site-packages/lightgbm/callback.py:223: UserWarning: Early stopping is not available in dart mode\n",
      "  _log_warning('Early stopping is not available in dart mode')\n"
     ]
    },
    {
     "name": "stdout",
     "output_type": "stream",
     "text": [
      "[100]\tvalid_0's binary_logloss: 0.387537\n",
      "[200]\tvalid_0's binary_logloss: 0.339011\n",
      "[300]\tvalid_0's binary_logloss: 0.28206\n",
      "[400]\tvalid_0's binary_logloss: 0.241315\n",
      "[500]\tvalid_0's binary_logloss: 0.210455\n",
      "[600]\tvalid_0's binary_logloss: 0.200302\n"
     ]
    },
    {
     "name": "stderr",
     "output_type": "stream",
     "text": [
      " 44%|████▍     | 23/52 [13:51<17:06, 35.38s/it]"
     ]
    },
    {
     "name": "stdout",
     "output_type": "stream",
     "text": [
      "[700]\tvalid_0's binary_logloss: 0.186248\n"
     ]
    },
    {
     "name": "stderr",
     "output_type": "stream",
     "text": [
      "/home/jovyan/.conda/envs/articleclassifier/lib/python3.9/site-packages/lightgbm/callback.py:223: UserWarning: Early stopping is not available in dart mode\n",
      "  _log_warning('Early stopping is not available in dart mode')\n"
     ]
    },
    {
     "name": "stdout",
     "output_type": "stream",
     "text": [
      "[100]\tvalid_0's binary_logloss: 0.315531\n",
      "[200]\tvalid_0's binary_logloss: 0.341699\n",
      "[300]\tvalid_0's binary_logloss: 0.314655\n",
      "[400]\tvalid_0's binary_logloss: 0.29135\n",
      "[500]\tvalid_0's binary_logloss: 0.272441\n",
      "[600]\tvalid_0's binary_logloss: 0.26294\n"
     ]
    },
    {
     "name": "stderr",
     "output_type": "stream",
     "text": [
      " 46%|████▌     | 24/52 [14:30<17:03, 36.56s/it]"
     ]
    },
    {
     "name": "stdout",
     "output_type": "stream",
     "text": [
      "[700]\tvalid_0's binary_logloss: 0.254398\n"
     ]
    },
    {
     "name": "stderr",
     "output_type": "stream",
     "text": [
      "/home/jovyan/.conda/envs/articleclassifier/lib/python3.9/site-packages/lightgbm/callback.py:223: UserWarning: Early stopping is not available in dart mode\n",
      "  _log_warning('Early stopping is not available in dart mode')\n"
     ]
    },
    {
     "name": "stdout",
     "output_type": "stream",
     "text": [
      "[100]\tvalid_0's binary_logloss: 0.134545\n",
      "[200]\tvalid_0's binary_logloss: 0.202538\n",
      "[300]\tvalid_0's binary_logloss: 0.193015\n",
      "[400]\tvalid_0's binary_logloss: 0.17627\n",
      "[500]\tvalid_0's binary_logloss: 0.159818\n",
      "[600]\tvalid_0's binary_logloss: 0.147222\n"
     ]
    },
    {
     "name": "stderr",
     "output_type": "stream",
     "text": [
      " 48%|████▊     | 25/52 [15:09<16:51, 37.45s/it]"
     ]
    },
    {
     "name": "stdout",
     "output_type": "stream",
     "text": [
      "[700]\tvalid_0's binary_logloss: 0.137163\n"
     ]
    },
    {
     "name": "stderr",
     "output_type": "stream",
     "text": [
      "/home/jovyan/.conda/envs/articleclassifier/lib/python3.9/site-packages/lightgbm/callback.py:223: UserWarning: Early stopping is not available in dart mode\n",
      "  _log_warning('Early stopping is not available in dart mode')\n"
     ]
    },
    {
     "name": "stdout",
     "output_type": "stream",
     "text": [
      "[100]\tvalid_0's binary_logloss: 0.338063\n",
      "[200]\tvalid_0's binary_logloss: 0.38\n",
      "[300]\tvalid_0's binary_logloss: 0.361224\n",
      "[400]\tvalid_0's binary_logloss: 0.343148\n",
      "[500]\tvalid_0's binary_logloss: 0.328171\n",
      "[600]\tvalid_0's binary_logloss: 0.318669\n"
     ]
    },
    {
     "name": "stderr",
     "output_type": "stream",
     "text": [
      " 50%|█████     | 26/52 [15:50<16:41, 38.51s/it]"
     ]
    },
    {
     "name": "stdout",
     "output_type": "stream",
     "text": [
      "[700]\tvalid_0's binary_logloss: 0.311332\n"
     ]
    },
    {
     "name": "stderr",
     "output_type": "stream",
     "text": [
      "/home/jovyan/.conda/envs/articleclassifier/lib/python3.9/site-packages/lightgbm/callback.py:223: UserWarning: Early stopping is not available in dart mode\n",
      "  _log_warning('Early stopping is not available in dart mode')\n"
     ]
    },
    {
     "name": "stdout",
     "output_type": "stream",
     "text": [
      "[100]\tvalid_0's binary_logloss: 0.165605\n",
      "[200]\tvalid_0's binary_logloss: 0.231206\n",
      "[300]\tvalid_0's binary_logloss: 0.219772\n",
      "[400]\tvalid_0's binary_logloss: 0.203231\n",
      "[500]\tvalid_0's binary_logloss: 0.18753\n",
      "[600]\tvalid_0's binary_logloss: 0.176419\n"
     ]
    },
    {
     "name": "stderr",
     "output_type": "stream",
     "text": [
      " 52%|█████▏    | 27/52 [16:28<15:53, 38.14s/it]"
     ]
    },
    {
     "name": "stdout",
     "output_type": "stream",
     "text": [
      "[700]\tvalid_0's binary_logloss: 0.167653\n"
     ]
    },
    {
     "name": "stderr",
     "output_type": "stream",
     "text": [
      "/home/jovyan/.conda/envs/articleclassifier/lib/python3.9/site-packages/lightgbm/callback.py:223: UserWarning: Early stopping is not available in dart mode\n",
      "  _log_warning('Early stopping is not available in dart mode')\n"
     ]
    },
    {
     "name": "stdout",
     "output_type": "stream",
     "text": [
      "[100]\tvalid_0's binary_logloss: 0.127908\n",
      "[200]\tvalid_0's binary_logloss: 0.192963\n",
      "[300]\tvalid_0's binary_logloss: 0.180511\n",
      "[400]\tvalid_0's binary_logloss: 0.161272\n",
      "[500]\tvalid_0's binary_logloss: 0.141954\n",
      "[600]\tvalid_0's binary_logloss: 0.129466\n"
     ]
    },
    {
     "name": "stderr",
     "output_type": "stream",
     "text": [
      " 54%|█████▍    | 28/52 [17:07<15:23, 38.46s/it]"
     ]
    },
    {
     "name": "stdout",
     "output_type": "stream",
     "text": [
      "[700]\tvalid_0's binary_logloss: 0.117854\n"
     ]
    },
    {
     "name": "stderr",
     "output_type": "stream",
     "text": [
      "/home/jovyan/.conda/envs/articleclassifier/lib/python3.9/site-packages/lightgbm/callback.py:223: UserWarning: Early stopping is not available in dart mode\n",
      "  _log_warning('Early stopping is not available in dart mode')\n"
     ]
    },
    {
     "name": "stdout",
     "output_type": "stream",
     "text": [
      "[100]\tvalid_0's binary_logloss: 0.438442\n",
      "[200]\tvalid_0's binary_logloss: 0.382067\n",
      "[300]\tvalid_0's binary_logloss: 0.325564\n",
      "[400]\tvalid_0's binary_logloss: 0.285918\n",
      "[500]\tvalid_0's binary_logloss: 0.256016\n",
      "[600]\tvalid_0's binary_logloss: 0.246532\n"
     ]
    },
    {
     "name": "stderr",
     "output_type": "stream",
     "text": [
      " 56%|█████▌    | 29/52 [17:46<14:45, 38.51s/it]"
     ]
    },
    {
     "name": "stdout",
     "output_type": "stream",
     "text": [
      "[700]\tvalid_0's binary_logloss: 0.232496\n"
     ]
    },
    {
     "name": "stderr",
     "output_type": "stream",
     "text": [
      "/home/jovyan/.conda/envs/articleclassifier/lib/python3.9/site-packages/lightgbm/callback.py:223: UserWarning: Early stopping is not available in dart mode\n",
      "  _log_warning('Early stopping is not available in dart mode')\n"
     ]
    },
    {
     "name": "stdout",
     "output_type": "stream",
     "text": [
      "[100]\tvalid_0's binary_logloss: 0.504167\n",
      "[200]\tvalid_0's binary_logloss: 0.443103\n",
      "[300]\tvalid_0's binary_logloss: 0.393112\n",
      "[400]\tvalid_0's binary_logloss: 0.360287\n",
      "[500]\tvalid_0's binary_logloss: 0.337138\n",
      "[600]\tvalid_0's binary_logloss: 0.330789\n"
     ]
    },
    {
     "name": "stderr",
     "output_type": "stream",
     "text": [
      " 58%|█████▊    | 30/52 [18:26<14:21, 39.17s/it]"
     ]
    },
    {
     "name": "stdout",
     "output_type": "stream",
     "text": [
      "[700]\tvalid_0's binary_logloss: 0.321516\n"
     ]
    },
    {
     "name": "stderr",
     "output_type": "stream",
     "text": [
      "/home/jovyan/.conda/envs/articleclassifier/lib/python3.9/site-packages/lightgbm/callback.py:223: UserWarning: Early stopping is not available in dart mode\n",
      "  _log_warning('Early stopping is not available in dart mode')\n"
     ]
    },
    {
     "name": "stdout",
     "output_type": "stream",
     "text": [
      "[100]\tvalid_0's binary_logloss: 0.0645258\n",
      "[200]\tvalid_0's binary_logloss: 0.11171\n",
      "[300]\tvalid_0's binary_logloss: 0.100742\n",
      "[400]\tvalid_0's binary_logloss: 0.0841782\n",
      "[500]\tvalid_0's binary_logloss: 0.0680449\n",
      "[600]\tvalid_0's binary_logloss: 0.0598215\n"
     ]
    },
    {
     "name": "stderr",
     "output_type": "stream",
     "text": [
      " 60%|█████▉    | 31/52 [18:56<12:43, 36.36s/it]"
     ]
    },
    {
     "name": "stdout",
     "output_type": "stream",
     "text": [
      "[700]\tvalid_0's binary_logloss: 0.0509676\n"
     ]
    },
    {
     "name": "stderr",
     "output_type": "stream",
     "text": [
      "/home/jovyan/.conda/envs/articleclassifier/lib/python3.9/site-packages/lightgbm/callback.py:223: UserWarning: Early stopping is not available in dart mode\n",
      "  _log_warning('Early stopping is not available in dart mode')\n"
     ]
    },
    {
     "name": "stdout",
     "output_type": "stream",
     "text": [
      "[100]\tvalid_0's binary_logloss: 0.401722\n",
      "[200]\tvalid_0's binary_logloss: 0.447418\n",
      "[300]\tvalid_0's binary_logloss: 0.440435\n",
      "[400]\tvalid_0's binary_logloss: 0.432772\n",
      "[500]\tvalid_0's binary_logloss: 0.428005\n",
      "[600]\tvalid_0's binary_logloss: 0.420174\n"
     ]
    },
    {
     "name": "stderr",
     "output_type": "stream",
     "text": [
      " 62%|██████▏   | 32/52 [19:36<12:31, 37.57s/it]"
     ]
    },
    {
     "name": "stdout",
     "output_type": "stream",
     "text": [
      "[700]\tvalid_0's binary_logloss: 0.419009\n"
     ]
    },
    {
     "name": "stderr",
     "output_type": "stream",
     "text": [
      "/home/jovyan/.conda/envs/articleclassifier/lib/python3.9/site-packages/lightgbm/callback.py:223: UserWarning: Early stopping is not available in dart mode\n",
      "  _log_warning('Early stopping is not available in dart mode')\n"
     ]
    },
    {
     "name": "stdout",
     "output_type": "stream",
     "text": [
      "[100]\tvalid_0's binary_logloss: 0.235134\n",
      "[200]\tvalid_0's binary_logloss: 0.247839\n",
      "[300]\tvalid_0's binary_logloss: 0.208894\n",
      "[400]\tvalid_0's binary_logloss: 0.175694\n",
      "[500]\tvalid_0's binary_logloss: 0.148148\n",
      "[600]\tvalid_0's binary_logloss: 0.136471\n"
     ]
    },
    {
     "name": "stderr",
     "output_type": "stream",
     "text": [
      " 63%|██████▎   | 33/52 [20:09<11:27, 36.18s/it]"
     ]
    },
    {
     "name": "stdout",
     "output_type": "stream",
     "text": [
      "[700]\tvalid_0's binary_logloss: 0.122402\n"
     ]
    },
    {
     "name": "stderr",
     "output_type": "stream",
     "text": [
      "/home/jovyan/.conda/envs/articleclassifier/lib/python3.9/site-packages/lightgbm/callback.py:223: UserWarning: Early stopping is not available in dart mode\n",
      "  _log_warning('Early stopping is not available in dart mode')\n"
     ]
    },
    {
     "name": "stdout",
     "output_type": "stream",
     "text": [
      "[100]\tvalid_0's binary_logloss: 0.179568\n",
      "[200]\tvalid_0's binary_logloss: 0.248462\n",
      "[300]\tvalid_0's binary_logloss: 0.234482\n",
      "[400]\tvalid_0's binary_logloss: 0.215414\n",
      "[500]\tvalid_0's binary_logloss: 0.196226\n",
      "[600]\tvalid_0's binary_logloss: 0.18344\n"
     ]
    },
    {
     "name": "stderr",
     "output_type": "stream",
     "text": [
      " 65%|██████▌   | 34/52 [20:48<11:02, 36.82s/it]"
     ]
    },
    {
     "name": "stdout",
     "output_type": "stream",
     "text": [
      "[700]\tvalid_0's binary_logloss: 0.172863\n"
     ]
    },
    {
     "name": "stderr",
     "output_type": "stream",
     "text": [
      "/home/jovyan/.conda/envs/articleclassifier/lib/python3.9/site-packages/lightgbm/callback.py:223: UserWarning: Early stopping is not available in dart mode\n",
      "  _log_warning('Early stopping is not available in dart mode')\n"
     ]
    },
    {
     "name": "stdout",
     "output_type": "stream",
     "text": [
      "[100]\tvalid_0's binary_logloss: 0.144872\n",
      "[200]\tvalid_0's binary_logloss: 0.209857\n",
      "[300]\tvalid_0's binary_logloss: 0.199578\n",
      "[400]\tvalid_0's binary_logloss: 0.183517\n",
      "[500]\tvalid_0's binary_logloss: 0.167676\n",
      "[600]\tvalid_0's binary_logloss: 0.155985\n"
     ]
    },
    {
     "name": "stderr",
     "output_type": "stream",
     "text": [
      " 67%|██████▋   | 35/52 [21:28<10:43, 37.85s/it]"
     ]
    },
    {
     "name": "stdout",
     "output_type": "stream",
     "text": [
      "[700]\tvalid_0's binary_logloss: 0.146715\n"
     ]
    },
    {
     "name": "stderr",
     "output_type": "stream",
     "text": [
      "/home/jovyan/.conda/envs/articleclassifier/lib/python3.9/site-packages/lightgbm/callback.py:223: UserWarning: Early stopping is not available in dart mode\n",
      "  _log_warning('Early stopping is not available in dart mode')\n"
     ]
    },
    {
     "name": "stdout",
     "output_type": "stream",
     "text": [
      "[100]\tvalid_0's binary_logloss: 0.414618\n",
      "[200]\tvalid_0's binary_logloss: 0.361446\n",
      "[300]\tvalid_0's binary_logloss: 0.304791\n",
      "[400]\tvalid_0's binary_logloss: 0.264834\n",
      "[500]\tvalid_0's binary_logloss: 0.234681\n",
      "[600]\tvalid_0's binary_logloss: 0.225037\n"
     ]
    },
    {
     "name": "stderr",
     "output_type": "stream",
     "text": [
      " 69%|██████▉   | 36/52 [22:08<10:14, 38.38s/it]"
     ]
    },
    {
     "name": "stdout",
     "output_type": "stream",
     "text": [
      "[700]\tvalid_0's binary_logloss: 0.211087\n"
     ]
    },
    {
     "name": "stderr",
     "output_type": "stream",
     "text": [
      "/home/jovyan/.conda/envs/articleclassifier/lib/python3.9/site-packages/lightgbm/callback.py:223: UserWarning: Early stopping is not available in dart mode\n",
      "  _log_warning('Early stopping is not available in dart mode')\n"
     ]
    },
    {
     "name": "stdout",
     "output_type": "stream",
     "text": [
      "[100]\tvalid_0's binary_logloss: 0.113395\n",
      "[200]\tvalid_0's binary_logloss: 0.173293\n",
      "[300]\tvalid_0's binary_logloss: 0.162574\n",
      "[400]\tvalid_0's binary_logloss: 0.146285\n",
      "[500]\tvalid_0's binary_logloss: 0.1301\n",
      "[600]\tvalid_0's binary_logloss: 0.119068\n"
     ]
    },
    {
     "name": "stderr",
     "output_type": "stream",
     "text": [
      " 71%|███████   | 37/52 [22:49<09:50, 39.40s/it]"
     ]
    },
    {
     "name": "stdout",
     "output_type": "stream",
     "text": [
      "[700]\tvalid_0's binary_logloss: 0.109789\n"
     ]
    },
    {
     "name": "stderr",
     "output_type": "stream",
     "text": [
      "/home/jovyan/.conda/envs/articleclassifier/lib/python3.9/site-packages/lightgbm/callback.py:223: UserWarning: Early stopping is not available in dart mode\n",
      "  _log_warning('Early stopping is not available in dart mode')\n"
     ]
    },
    {
     "name": "stdout",
     "output_type": "stream",
     "text": [
      "[100]\tvalid_0's binary_logloss: 0.248706\n",
      "[200]\tvalid_0's binary_logloss: 0.31904\n",
      "[300]\tvalid_0's binary_logloss: 0.305159\n",
      "[400]\tvalid_0's binary_logloss: 0.28699\n",
      "[500]\tvalid_0's binary_logloss: 0.270063\n",
      "[600]\tvalid_0's binary_logloss: 0.256257\n"
     ]
    },
    {
     "name": "stderr",
     "output_type": "stream",
     "text": [
      " 73%|███████▎  | 38/52 [23:33<09:28, 40.58s/it]"
     ]
    },
    {
     "name": "stdout",
     "output_type": "stream",
     "text": [
      "[700]\tvalid_0's binary_logloss: 0.24646\n"
     ]
    },
    {
     "name": "stderr",
     "output_type": "stream",
     "text": [
      "/home/jovyan/.conda/envs/articleclassifier/lib/python3.9/site-packages/lightgbm/callback.py:223: UserWarning: Early stopping is not available in dart mode\n",
      "  _log_warning('Early stopping is not available in dart mode')\n"
     ]
    },
    {
     "name": "stdout",
     "output_type": "stream",
     "text": [
      "[100]\tvalid_0's binary_logloss: 0.0432365\n",
      "[200]\tvalid_0's binary_logloss: 0.0897618\n",
      "[300]\tvalid_0's binary_logloss: 0.0825251\n",
      "[400]\tvalid_0's binary_logloss: 0.0687954\n",
      "[500]\tvalid_0's binary_logloss: 0.054776\n",
      "[600]\tvalid_0's binary_logloss: 0.047139\n"
     ]
    },
    {
     "name": "stderr",
     "output_type": "stream",
     "text": [
      " 75%|███████▌  | 39/52 [24:02<08:03, 37.19s/it]"
     ]
    },
    {
     "name": "stdout",
     "output_type": "stream",
     "text": [
      "[700]\tvalid_0's binary_logloss: 0.0389575\n"
     ]
    },
    {
     "name": "stderr",
     "output_type": "stream",
     "text": [
      "/home/jovyan/.conda/envs/articleclassifier/lib/python3.9/site-packages/lightgbm/callback.py:223: UserWarning: Early stopping is not available in dart mode\n",
      "  _log_warning('Early stopping is not available in dart mode')\n"
     ]
    },
    {
     "name": "stdout",
     "output_type": "stream",
     "text": [
      "[100]\tvalid_0's binary_logloss: 0.0687827\n",
      "[200]\tvalid_0's binary_logloss: 0.118733\n",
      "[300]\tvalid_0's binary_logloss: 0.105396\n",
      "[400]\tvalid_0's binary_logloss: 0.0868818\n",
      "[500]\tvalid_0's binary_logloss: 0.0691281\n",
      "[600]\tvalid_0's binary_logloss: 0.060173\n"
     ]
    },
    {
     "name": "stderr",
     "output_type": "stream",
     "text": [
      " 77%|███████▋  | 40/52 [24:31<06:56, 34.69s/it]"
     ]
    },
    {
     "name": "stdout",
     "output_type": "stream",
     "text": [
      "[700]\tvalid_0's binary_logloss: 0.0502656\n"
     ]
    },
    {
     "name": "stderr",
     "output_type": "stream",
     "text": [
      "/home/jovyan/.conda/envs/articleclassifier/lib/python3.9/site-packages/lightgbm/callback.py:223: UserWarning: Early stopping is not available in dart mode\n",
      "  _log_warning('Early stopping is not available in dart mode')\n"
     ]
    },
    {
     "name": "stdout",
     "output_type": "stream",
     "text": [
      "[100]\tvalid_0's binary_logloss: 0.0548625\n",
      "[200]\tvalid_0's binary_logloss: 0.103723\n",
      "[300]\tvalid_0's binary_logloss: 0.0944157\n",
      "[400]\tvalid_0's binary_logloss: 0.078859\n",
      "[500]\tvalid_0's binary_logloss: 0.0635124\n",
      "[600]\tvalid_0's binary_logloss: 0.0553993\n"
     ]
    },
    {
     "name": "stderr",
     "output_type": "stream",
     "text": [
      " 79%|███████▉  | 41/52 [24:58<05:55, 32.33s/it]"
     ]
    },
    {
     "name": "stdout",
     "output_type": "stream",
     "text": [
      "[700]\tvalid_0's binary_logloss: 0.0466111\n"
     ]
    },
    {
     "name": "stderr",
     "output_type": "stream",
     "text": [
      "/home/jovyan/.conda/envs/articleclassifier/lib/python3.9/site-packages/lightgbm/callback.py:223: UserWarning: Early stopping is not available in dart mode\n",
      "  _log_warning('Early stopping is not available in dart mode')\n"
     ]
    },
    {
     "name": "stdout",
     "output_type": "stream",
     "text": [
      "[100]\tvalid_0's binary_logloss: 0.0195655\n",
      "[200]\tvalid_0's binary_logloss: 0.0467937\n",
      "[300]\tvalid_0's binary_logloss: 0.0472394\n",
      "[400]\tvalid_0's binary_logloss: 0.0412805\n",
      "[500]\tvalid_0's binary_logloss: 0.0340045\n",
      "[600]\tvalid_0's binary_logloss: 0.0294217\n"
     ]
    },
    {
     "name": "stderr",
     "output_type": "stream",
     "text": [
      " 81%|████████  | 42/52 [25:14<04:35, 27.55s/it]"
     ]
    },
    {
     "name": "stdout",
     "output_type": "stream",
     "text": [
      "[700]\tvalid_0's binary_logloss: 0.0247103\n"
     ]
    },
    {
     "name": "stderr",
     "output_type": "stream",
     "text": [
      "/home/jovyan/.conda/envs/articleclassifier/lib/python3.9/site-packages/lightgbm/callback.py:223: UserWarning: Early stopping is not available in dart mode\n",
      "  _log_warning('Early stopping is not available in dart mode')\n"
     ]
    },
    {
     "name": "stdout",
     "output_type": "stream",
     "text": [
      "[100]\tvalid_0's binary_logloss: 0.127413\n",
      "[200]\tvalid_0's binary_logloss: 0.197187\n",
      "[300]\tvalid_0's binary_logloss: 0.183418\n",
      "[400]\tvalid_0's binary_logloss: 0.163154\n",
      "[500]\tvalid_0's binary_logloss: 0.141599\n",
      "[600]\tvalid_0's binary_logloss: 0.127835\n"
     ]
    },
    {
     "name": "stderr",
     "output_type": "stream",
     "text": [
      " 83%|████████▎ | 43/52 [25:53<04:40, 31.13s/it]"
     ]
    },
    {
     "name": "stdout",
     "output_type": "stream",
     "text": [
      "[700]\tvalid_0's binary_logloss: 0.114879\n"
     ]
    },
    {
     "name": "stderr",
     "output_type": "stream",
     "text": [
      "/home/jovyan/.conda/envs/articleclassifier/lib/python3.9/site-packages/lightgbm/callback.py:223: UserWarning: Early stopping is not available in dart mode\n",
      "  _log_warning('Early stopping is not available in dart mode')\n"
     ]
    },
    {
     "name": "stdout",
     "output_type": "stream",
     "text": [
      "[100]\tvalid_0's binary_logloss: 0.107824\n",
      "[200]\tvalid_0's binary_logloss: 0.167591\n",
      "[300]\tvalid_0's binary_logloss: 0.160384\n",
      "[400]\tvalid_0's binary_logloss: 0.14716\n",
      "[500]\tvalid_0's binary_logloss: 0.134471\n",
      "[600]\tvalid_0's binary_logloss: 0.125011\n"
     ]
    },
    {
     "name": "stderr",
     "output_type": "stream",
     "text": [
      " 85%|████████▍ | 44/52 [26:26<04:12, 31.51s/it]"
     ]
    },
    {
     "name": "stdout",
     "output_type": "stream",
     "text": [
      "[700]\tvalid_0's binary_logloss: 0.117656\n"
     ]
    },
    {
     "name": "stderr",
     "output_type": "stream",
     "text": [
      "/home/jovyan/.conda/envs/articleclassifier/lib/python3.9/site-packages/lightgbm/callback.py:223: UserWarning: Early stopping is not available in dart mode\n",
      "  _log_warning('Early stopping is not available in dart mode')\n"
     ]
    },
    {
     "name": "stdout",
     "output_type": "stream",
     "text": [
      "[100]\tvalid_0's binary_logloss: 0.18272\n",
      "[200]\tvalid_0's binary_logloss: 0.222007\n",
      "[300]\tvalid_0's binary_logloss: 0.193424\n",
      "[400]\tvalid_0's binary_logloss: 0.16541\n",
      "[500]\tvalid_0's binary_logloss: 0.14098\n",
      "[600]\tvalid_0's binary_logloss: 0.12941\n"
     ]
    },
    {
     "name": "stderr",
     "output_type": "stream",
     "text": [
      " 87%|████████▋ | 45/52 [27:01<03:47, 32.54s/it]"
     ]
    },
    {
     "name": "stdout",
     "output_type": "stream",
     "text": [
      "[700]\tvalid_0's binary_logloss: 0.116642\n"
     ]
    },
    {
     "name": "stderr",
     "output_type": "stream",
     "text": [
      "/home/jovyan/.conda/envs/articleclassifier/lib/python3.9/site-packages/lightgbm/callback.py:223: UserWarning: Early stopping is not available in dart mode\n",
      "  _log_warning('Early stopping is not available in dart mode')\n"
     ]
    },
    {
     "name": "stdout",
     "output_type": "stream",
     "text": [
      "[100]\tvalid_0's binary_logloss: 0.15145\n",
      "[200]\tvalid_0's binary_logloss: 0.190663\n",
      "[300]\tvalid_0's binary_logloss: 0.164249\n",
      "[400]\tvalid_0's binary_logloss: 0.136884\n",
      "[500]\tvalid_0's binary_logloss: 0.112271\n",
      "[600]\tvalid_0's binary_logloss: 0.100771\n"
     ]
    },
    {
     "name": "stderr",
     "output_type": "stream",
     "text": [
      " 88%|████████▊ | 46/52 [27:34<03:15, 32.62s/it]"
     ]
    },
    {
     "name": "stdout",
     "output_type": "stream",
     "text": [
      "[700]\tvalid_0's binary_logloss: 0.0876032\n"
     ]
    },
    {
     "name": "stderr",
     "output_type": "stream",
     "text": [
      "/home/jovyan/.conda/envs/articleclassifier/lib/python3.9/site-packages/lightgbm/callback.py:223: UserWarning: Early stopping is not available in dart mode\n",
      "  _log_warning('Early stopping is not available in dart mode')\n"
     ]
    },
    {
     "name": "stdout",
     "output_type": "stream",
     "text": [
      "[100]\tvalid_0's binary_logloss: 0.318093\n",
      "[200]\tvalid_0's binary_logloss: 0.32596\n",
      "[300]\tvalid_0's binary_logloss: 0.288702\n",
      "[400]\tvalid_0's binary_logloss: 0.257317\n",
      "[500]\tvalid_0's binary_logloss: 0.231744\n",
      "[600]\tvalid_0's binary_logloss: 0.221122\n"
     ]
    },
    {
     "name": "stderr",
     "output_type": "stream",
     "text": [
      " 90%|█████████ | 47/52 [28:12<02:51, 34.39s/it]"
     ]
    },
    {
     "name": "stdout",
     "output_type": "stream",
     "text": [
      "[700]\tvalid_0's binary_logloss: 0.208436\n"
     ]
    },
    {
     "name": "stderr",
     "output_type": "stream",
     "text": [
      "/home/jovyan/.conda/envs/articleclassifier/lib/python3.9/site-packages/lightgbm/callback.py:223: UserWarning: Early stopping is not available in dart mode\n",
      "  _log_warning('Early stopping is not available in dart mode')\n"
     ]
    },
    {
     "name": "stdout",
     "output_type": "stream",
     "text": [
      "[100]\tvalid_0's binary_logloss: 0.118733\n",
      "[200]\tvalid_0's binary_logloss: 0.179627\n",
      "[300]\tvalid_0's binary_logloss: 0.173323\n",
      "[400]\tvalid_0's binary_logloss: 0.161031\n",
      "[500]\tvalid_0's binary_logloss: 0.149139\n",
      "[600]\tvalid_0's binary_logloss: 0.139211\n"
     ]
    },
    {
     "name": "stderr",
     "output_type": "stream",
     "text": [
      " 92%|█████████▏| 48/52 [28:45<02:15, 33.93s/it]"
     ]
    },
    {
     "name": "stdout",
     "output_type": "stream",
     "text": [
      "[700]\tvalid_0's binary_logloss: 0.131684\n"
     ]
    },
    {
     "name": "stderr",
     "output_type": "stream",
     "text": [
      "/home/jovyan/.conda/envs/articleclassifier/lib/python3.9/site-packages/lightgbm/callback.py:223: UserWarning: Early stopping is not available in dart mode\n",
      "  _log_warning('Early stopping is not available in dart mode')\n"
     ]
    },
    {
     "name": "stdout",
     "output_type": "stream",
     "text": [
      "[100]\tvalid_0's binary_logloss: 0.0715364\n",
      "[200]\tvalid_0's binary_logloss: 0.128082\n",
      "[300]\tvalid_0's binary_logloss: 0.120548\n",
      "[400]\tvalid_0's binary_logloss: 0.105903\n",
      "[500]\tvalid_0's binary_logloss: 0.0899925\n",
      "[600]\tvalid_0's binary_logloss: 0.0804436\n"
     ]
    },
    {
     "name": "stderr",
     "output_type": "stream",
     "text": [
      " 94%|█████████▍| 49/52 [29:20<01:42, 34.21s/it]"
     ]
    },
    {
     "name": "stdout",
     "output_type": "stream",
     "text": [
      "[700]\tvalid_0's binary_logloss: 0.0706564\n"
     ]
    },
    {
     "name": "stderr",
     "output_type": "stream",
     "text": [
      "/home/jovyan/.conda/envs/articleclassifier/lib/python3.9/site-packages/lightgbm/callback.py:223: UserWarning: Early stopping is not available in dart mode\n",
      "  _log_warning('Early stopping is not available in dart mode')\n"
     ]
    },
    {
     "name": "stdout",
     "output_type": "stream",
     "text": [
      "[100]\tvalid_0's binary_logloss: 0.0943603\n",
      "[200]\tvalid_0's binary_logloss: 0.145611\n",
      "[300]\tvalid_0's binary_logloss: 0.131617\n",
      "[400]\tvalid_0's binary_logloss: 0.112596\n",
      "[500]\tvalid_0's binary_logloss: 0.0940019\n",
      "[600]\tvalid_0's binary_logloss: 0.0842433\n"
     ]
    },
    {
     "name": "stderr",
     "output_type": "stream",
     "text": [
      " 96%|█████████▌| 50/52 [29:55<01:08, 34.49s/it]"
     ]
    },
    {
     "name": "stdout",
     "output_type": "stream",
     "text": [
      "[700]\tvalid_0's binary_logloss: 0.0741967\n"
     ]
    },
    {
     "name": "stderr",
     "output_type": "stream",
     "text": [
      "/home/jovyan/.conda/envs/articleclassifier/lib/python3.9/site-packages/lightgbm/callback.py:223: UserWarning: Early stopping is not available in dart mode\n",
      "  _log_warning('Early stopping is not available in dart mode')\n"
     ]
    },
    {
     "name": "stdout",
     "output_type": "stream",
     "text": [
      "[100]\tvalid_0's binary_logloss: 0.220173\n",
      "[200]\tvalid_0's binary_logloss: 0.306063\n",
      "[300]\tvalid_0's binary_logloss: 0.303544\n",
      "[400]\tvalid_0's binary_logloss: 0.293256\n",
      "[500]\tvalid_0's binary_logloss: 0.281803\n",
      "[600]\tvalid_0's binary_logloss: 0.267306\n"
     ]
    },
    {
     "name": "stderr",
     "output_type": "stream",
     "text": [
      " 98%|█████████▊| 51/52 [30:33<00:35, 35.55s/it]"
     ]
    },
    {
     "name": "stdout",
     "output_type": "stream",
     "text": [
      "[700]\tvalid_0's binary_logloss: 0.260374\n"
     ]
    },
    {
     "name": "stderr",
     "output_type": "stream",
     "text": [
      "/home/jovyan/.conda/envs/articleclassifier/lib/python3.9/site-packages/lightgbm/callback.py:223: UserWarning: Early stopping is not available in dart mode\n",
      "  _log_warning('Early stopping is not available in dart mode')\n"
     ]
    },
    {
     "name": "stdout",
     "output_type": "stream",
     "text": [
      "[100]\tvalid_0's binary_logloss: 0.249042\n",
      "[200]\tvalid_0's binary_logloss: 0.337777\n",
      "[300]\tvalid_0's binary_logloss: 0.335256\n",
      "[400]\tvalid_0's binary_logloss: 0.325381\n",
      "[500]\tvalid_0's binary_logloss: 0.315156\n",
      "[600]\tvalid_0's binary_logloss: 0.300706\n"
     ]
    },
    {
     "name": "stderr",
     "output_type": "stream",
     "text": [
      "100%|██████████| 52/52 [31:13<00:00, 36.04s/it]"
     ]
    },
    {
     "name": "stdout",
     "output_type": "stream",
     "text": [
      "[700]\tvalid_0's binary_logloss: 0.294483\n"
     ]
    },
    {
     "name": "stderr",
     "output_type": "stream",
     "text": [
      "\n"
     ]
    }
   ],
   "source": [
    "for i in tqdm(range(num_labels)):\n",
    "    if not already_fitted:\n",
    "        clfs[i] = clfs[i].fit(X_train_graph_embeddings, y_train_graph_embeddings[:, i], callbacks=[gbm.log_evaluation(period=100), gbm.early_stopping(30)], eval_set=(X_val_graph_embeddings, y_val_graph_embeddings[:, i]))\n",
    "    elif already_fitted:\n",
    "        clfs[i] = clfs[i].fit(X_train_graph_embeddings, y_train_graph_embeddings[:, i], callbacks=[gbm.log_evaluation(period=100), gbm.early_stopping(30)], eval_set=(X_val_graph_embeddings, y_val_graph_embeddings[:, i]), init_model=clfs[i])\n",
    "    \n",
    "already_fitted = True\n",
    "\n",
    "# Save the list of trained models to a file\n",
    "with open(cc_path(f'models/classification_heads/{run_id}_classification_head.pkl'), 'wb') as f:\n",
    "    pickle.dump(clfs, f)\n",
    "\n"
   ]
  },
  {
   "cell_type": "code",
   "execution_count": 16,
   "id": "b3eaa9e5",
   "metadata": {},
   "outputs": [
    {
     "name": "stderr",
     "output_type": "stream",
     "text": [
      "100%|██████████| 52/52 [00:19<00:00,  2.65it/s]\n"
     ]
    }
   ],
   "source": [
    "# Load the list of models from the file\n",
    "with open(cc_path(f'models/classification_heads/{run_id}_classification_head.pkl'), 'rb') as f:\n",
    "    clfs = pickle.load(f)\n",
    "\n",
    "y_test_pred = np.zeros((X_test_graph_embeddings.shape[0], num_labels))\n",
    "y_val_pred = np.zeros((X_val_graph_embeddings.shape[0], num_labels))\n",
    "y_train_pred = np.zeros((X_train_graph_embeddings.shape[0], num_labels))\n",
    "\n",
    "for i in tqdm(range(num_labels)):\n",
    "    y_test_pred[:, i] = clfs[i].predict(X_test_graph_embeddings)\n",
    "    y_val_pred[:, i] = clfs[i].predict(X_val_graph_embeddings)\n",
    "    y_train_pred[:, i] = clfs[i].predict(X_train_graph_embeddings)\n"
   ]
  },
  {
   "cell_type": "code",
   "execution_count": 17,
   "id": "d0213b16",
   "metadata": {},
   "outputs": [
    {
     "name": "stdout",
     "output_type": "stream",
     "text": [
      "train: macro - f1_score: 0.7159808631101863\n",
      "train: micro - f1_score: 0.8145827227259406\n",
      "train: macro - recall: 0.9780638864579336\n",
      "train: micro - recall: 0.9341399947957325\n",
      "train: macro - precision: 0.5973736681138152\n",
      "train: micro - precision: 0.7221564715940523\n",
      "val: macro - f1_score: 0.5595339472635006\n",
      "val: micro - f1_score: 0.7500935469605742\n",
      "val: macro - recall: 0.7551329538572902\n",
      "val: micro - recall: 0.8529514157511991\n",
      "val: macro - precision: 0.47378385762364367\n",
      "val: micro - precision: 0.6693734442353226\n",
      "test: macro - f1_score: 0.5672910492334241\n",
      "test: micro - f1_score: 0.7510444859914011\n",
      "test: macro - recall: 0.7573382287464352\n",
      "test: micro - recall: 0.8504325761976094\n",
      "test: macro - precision: 0.4832713891589905\n",
      "test: micro - precision: 0.6724560958217001\n"
     ]
    }
   ],
   "source": [
    "from sklearn.metrics import f1_score, recall_score, precision_score\n",
    "final_clf_head_metrics = {}\n",
    "for dataset_name, (dataset_pred, dataset_real) in {'train': (y_train_pred, y_train_graph_embeddings), 'val': (y_val_pred, y_val_graph_embeddings), 'test': (y_test_pred, y_test_graph_embeddings)}.items():\n",
    "    for metric_name, metric in {'f1_score': f1_score, 'recall': recall_score, 'precision': precision_score}.items():\n",
    "        for averaging_type in ['macro', 'micro']:\n",
    "            score = metric(dataset_real, dataset_pred, average=averaging_type, zero_division=1)\n",
    "            print(f'{dataset_name}: {averaging_type} - {metric_name}: {score}')\n",
    "            final_clf_head_metrics[f'lgbm_{dataset_name}_{metric_name}_{averaging_type}'] = score"
   ]
  },
  {
   "cell_type": "markdown",
   "id": "1fc610a3",
   "metadata": {},
   "source": [
    "## Save all results"
   ]
  },
  {
   "cell_type": "code",
   "execution_count": 101,
   "id": "6872c65d",
   "metadata": {},
   "outputs": [],
   "source": [
    "results_df = pd.read_csv(cc_path(f'reports/model_results/model_log.csv'))"
   ]
  },
  {
   "cell_type": "code",
   "execution_count": 102,
   "id": "1de83d29",
   "metadata": {},
   "outputs": [],
   "source": [
    "results = {\n",
    "    'date': now, \n",
    "    'id': run_id, \n",
    "    'gnn_type': gnn_type,\n",
    "    'graph_train_f1_score_macro': train_end_metrics['Macro F1 score'],\n",
    "    'graph_train_precision_macro': train_end_metrics['Macro precision'], \n",
    "    'graph_train_recall_macro': train_end_metrics['Macro recall'], \n",
    "    'graph_train_f1_score_micro': train_end_metrics['Micro F1 score'],\n",
    "    'graph_train_precision_micro': train_end_metrics['Micro precision'], \n",
    "    'graph_train_recall_micro': train_end_metrics['Micro recall'], \n",
    "    'graph_val_f1_score_macro': val_end_metrics['Macro F1 score'],\n",
    "    'graph_val_precision_macro': val_end_metrics['Macro precision'], \n",
    "    'graph_val_recall_macro': val_end_metrics['Macro recall'], \n",
    "    'graph_val_f1_score_micro': val_end_metrics['Micro F1 score'],\n",
    "    'graph_val_precision_micro': val_end_metrics['Micro precision'], \n",
    "    'graph_val_recall_micro': val_end_metrics['Micro recall'], \n",
    "    'graph_test_f1_score_macro': test_end_metrics['Macro F1 score'],\n",
    "    'graph_test_precision_macro': test_end_metrics['Macro precision'], \n",
    "    'graph_test_recall_macro': test_end_metrics['Macro recall'], \n",
    "    'graph_test_f1_score_micro': test_end_metrics['Micro F1 score'],\n",
    "    'graph_test_precision_micro': test_end_metrics['Micro precision'], \n",
    "    'graph_test_recall_micro': test_end_metrics['Micro recall'], \n",
    "    'lgbm_train_f1_score_macro': final_clf_head_metrics['lgbm_train_f1_score_macro'],\n",
    "    'lgbm_train_precision_macro': final_clf_head_metrics['lgbm_train_precision_macro'], \n",
    "    'lgbm_train_recall_macro': final_clf_head_metrics['lgbm_train_recall_macro'], \n",
    "    'lgbm_train_f1_score_micro': final_clf_head_metrics['lgbm_train_f1_score_micro'],\n",
    "    'lgbm_train_precision_micro': final_clf_head_metrics['lgbm_train_precision_micro'], \n",
    "    'lgbm_train_recall_micro': final_clf_head_metrics['lgbm_train_recall_micro'], \n",
    "    'lgbm_val_f1_score_macro': final_clf_head_metrics['lgbm_val_f1_score_macro'],\n",
    "    'lgbm_val_precision_macro': final_clf_head_metrics['lgbm_val_precision_macro'], \n",
    "    'lgbm_val_recall_macro': final_clf_head_metrics['lgbm_val_recall_macro'], \n",
    "    'lgbm_val_f1_score_micro': final_clf_head_metrics['lgbm_val_f1_score_micro'],\n",
    "    'lgbm_val_precision_micro': final_clf_head_metrics['lgbm_val_precision_micro'], \n",
    "    'lgbm_val_recall_micro': final_clf_head_metrics['lgbm_val_recall_micro'],\n",
    "    'lgbm_test_f1_score_macro': final_clf_head_metrics['lgbm_test_f1_score_macro'],\n",
    "    'lgbm_test_precision_macro': final_clf_head_metrics['lgbm_test_precision_macro'], \n",
    "    'lgbm_test_recall_macro': final_clf_head_metrics['lgbm_test_recall_macro'], \n",
    "    'lgbm_test_f1_score_micro': final_clf_head_metrics['lgbm_test_f1_score_micro'],\n",
    "    'lgbm_test_precision_micro': final_clf_head_metrics['lgbm_test_precision_micro'], \n",
    "    'lgbm_test_recall_micro': final_clf_head_metrics['lgbm_test_recall_micro'], \n",
    "    'num_samples': subsample_size,\n",
    "    'embedding_type': embedding_type, \n",
    "    'edge_weight_threshold': edge_weight_threshold,\n",
    "    'pretrain_epochs': pretrain_epochs, \n",
    "    'pretrain_lr': pretrain_lr,\n",
    "    'pretrain_weight_decay': pretrain_weight_decay,\n",
    "    'pretrain_optimizer': pretrain_optimizer,\n",
    "    'pretrain_loss': pretrain_loss,\n",
    "    'graph_num_epochs': graph_num_epochs, \n",
    "    'graph_optimizer': graph_optimizer,\n",
    "    'graph_lr':graph_lr,\n",
    "    'graph_weight_decay': graph_weight_decay,\n",
    "    'graph_loss': graph_loss,\n",
    "    'graph_fl_gamma': graph_fl_gamma,\n",
    "    'graph_fl_alpha': graph_fl_alpha,\n",
    "    'layers': all_model_parameters[gnn_type].get('num_conv_layers'),\n",
    "    'heads': all_model_parameters[gnn_type].get('heads'), \n",
    "    'emb_size': all_model_parameters[gnn_type].get('embedding_size'), \n",
    "    'hidden_channels': all_model_parameters[gnn_type].get('hidden_channels'), \n",
    "    'dropout': all_model_parameters[gnn_type].get('dropout'), \n",
    "    'lgbm_params': str(lgbm_params)\n",
    "}"
   ]
  },
  {
   "cell_type": "code",
   "execution_count": 103,
   "id": "1a9ff02c",
   "metadata": {},
   "outputs": [],
   "source": [
    "results_df = pd.concat([results_df, pd.Series(results).to_frame().T], ignore_index=True)"
   ]
  },
  {
   "cell_type": "code",
   "execution_count": 104,
   "id": "d1ef46e1",
   "metadata": {},
   "outputs": [],
   "source": [
    "results_df.to_csv(cc_path(f'reports/model_results/model_log.csv'), index=False)"
   ]
  }
 ],
 "metadata": {
  "kernelspec": {
   "display_name": ".conda-articleclassifier [Python]",
   "language": "python",
   "name": "conda-env-.conda-articleclassifier-py"
  },
  "language_info": {
   "codemirror_mode": {
    "name": "ipython",
    "version": 3
   },
   "file_extension": ".py",
   "mimetype": "text/x-python",
   "name": "python",
   "nbconvert_exporter": "python",
   "pygments_lexer": "ipython3",
   "version": "3.9.16"
  }
 },
 "nbformat": 4,
 "nbformat_minor": 5
}
