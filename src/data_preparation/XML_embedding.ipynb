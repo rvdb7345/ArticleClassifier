{
 "cells": [
  {
   "cell_type": "code",
   "execution_count": 6,
   "id": "9a8180e5",
   "metadata": {},
   "outputs": [
    {
     "name": "stderr",
     "output_type": "stream",
     "text": [
      "vocab building: : 456009it [00:51, 8811.09it/s] \n"
     ]
    }
   ],
   "source": [
    "\n",
    "import os\n",
    "import sys\n",
    "import argparse\n",
    "import math\n",
    "import numpy as np\n",
    "import timeit\n",
    "import torch\n",
    "import torch.utils.data as data_utils\n",
    "import torch.nn as nn\n",
    "import torch.nn.functional as F\n",
    "from tqdm import tqdm\n",
    "from sklearn.model_selection import train_test_split\n",
    "sys.path.append(\"/home/jovyan/20230406_ArticleClassifier/ArticleClassifier\")\n",
    "\n",
    "import src.general.global_variables as gv\n",
    "from src.general.utils import cc_path\n",
    "\n",
    "sys.path.append(gv.PROJECT_PATH)\n",
    "\n",
    "\n",
    "sys.path.append(\n",
    "    os.path.abspath(os.path.join(os.path.dirname('data_loader.py'), os.path.pardir)))\n",
    "from src.data.data_loader import DataLoader\n",
    "\n",
    "# def load_data(data_path, max_length, vocab_size, batch_size=64):\n",
    "#     X_trn, Y_trn, X_tst, Y_tst, vocabulary, vocabulary_inv = data_helpers.load_data(data_path, max_length=max_length,\n",
    "#                                                                                     vocab_size=vocab_size)\n",
    "#     Y_trn = Y_trn[0:].toarray()\n",
    "#     Y_trn = np.insert(Y_trn, 101, 0, axis=1)\n",
    "#     Y_trn = np.insert(Y_trn, 102, 0, axis=1)\n",
    "#     Y_tst = Y_tst[0:].toarray()\n",
    "#\n",
    "#     train_data = data_utils.TensorDataset(torch.from_numpy(X_trn).type(torch.LongTensor),\n",
    "#                                           torch.from_numpy(Y_trn).type(torch.LongTensor))\n",
    "#     test_data = data_utils.TensorDataset(torch.from_numpy(X_tst).type(torch.LongTensor),\n",
    "#                                          torch.from_numpy(Y_tst).type(torch.LongTensor))\n",
    "#     train_loader = data_utils.DataLoader(train_data, batch_size, drop_last=False, shuffle=True)\n",
    "#     test_loader = data_utils.DataLoader(test_data, batch_size, drop_last=False)\n",
    "#     return train_loader, test_loader, vocabulary, X_tst, Y_tst, X_trn, Y_trn\n",
    "\n",
    "def precision_k(pred, label, k=[1, 3, 5]):\n",
    "    batch_size = pred.shape[0]\n",
    "\n",
    "    precision = []\n",
    "    for _k in k:\n",
    "        p = 0\n",
    "        for i in range(batch_size):\n",
    "            p += label[i, pred[i, :_k]].mean()\n",
    "        precision.append(p * 100 / batch_size)\n",
    "\n",
    "    return precision\n",
    "\n",
    "\n",
    "def ndcg_k(pred, label, k=[1, 3, 5]):\n",
    "    batch_size = pred.shape[0]\n",
    "\n",
    "    ndcg = []\n",
    "    for _k in k:\n",
    "        score = 0\n",
    "        rank = np.log2(np.arange(2, 2 + _k))\n",
    "        for i in range(batch_size):\n",
    "            l = label[i, pred[i, :_k]]\n",
    "            n = l.sum()\n",
    "            if (n == 0):\n",
    "                continue\n",
    "\n",
    "            dcg = (l / rank).sum()\n",
    "            label_count = label[i].sum()\n",
    "            norm = 1 / np.log2(np.arange(2, 2 + np.min((_k, label_count))))\n",
    "            norm = norm.sum()\n",
    "            score += dcg / norm\n",
    "\n",
    "        ndcg.append(score * 100 / batch_size)\n",
    "\n",
    "    return ndcg\n",
    "\n",
    "\n",
    "# input data_path\n",
    "# data_path = '/data/rcv1_raw_text.p'\n",
    "sequence_length = 500\n",
    "batch_size = 64\n",
    "\n",
    "def load_glove_embeddings(path, embedding_dim):\n",
    "    \"\"\"Loading the glove embeddings\"\"\"\n",
    "    with open(path, 'r', encoding='utf-8') as f:\n",
    "        lines = f.readlines()\n",
    "        embeddings = np.zeros((len(lines)+1, embedding_dim))\n",
    "        word_idx_dict = {}\n",
    "        for index, line in tqdm(enumerate(lines), desc='vocab building: '):\n",
    "            values = line.split()\n",
    "            word = values[0]\n",
    "            word_idx_dict[word] = index + 1\n",
    "            if index:\n",
    "                vector = np.array(values[1:], dtype='float32')\n",
    "                if vector.shape[-1] != embedding_dim:\n",
    "                    raise Exception('Dimension not matching.')\n",
    "                embeddings[index] = vector\n",
    "\n",
    "    return torch.from_numpy(embeddings).float(), word_idx_dict\n",
    "\n",
    "\n",
    "\n",
    "\n",
    "# load glove\n",
    "pretrain = 'glove'\n",
    "embedding_dim = 256\n",
    "# input word2vec file path\n",
    "file_path = cc_path(f'data/processed/canary/word_embeddings_{pretrain}_2023-04-11.csv')\n",
    "embedding_weights, word_idx_dict = load_glove_embeddings(file_path, embedding_dim)\n"
   ]
  },
  {
   "cell_type": "code",
   "execution_count": 7,
   "id": "b81676e8",
   "metadata": {
    "collapsed": true,
    "jupyter": {
     "outputs_hidden": true
    },
    "tags": []
   },
   "outputs": [
    {
     "data": {
      "text/plain": [
       "{'ldlpcsk9': 1,\n",
       " 'gapppi': 2,\n",
       " 'mtl': 3,\n",
       " 'cables2tom': 4,\n",
       " 'bottoms': 5,\n",
       " 'aor098': 6,\n",
       " '018954': 7,\n",
       " 'count': 8,\n",
       " 'trimeresurus': 9,\n",
       " 'cd40loverexpressing': 10,\n",
       " 'kindia': 11,\n",
       " 'þjq1': 12,\n",
       " 'nct00894569': 13,\n",
       " 'ecic': 14,\n",
       " 'inch': 15,\n",
       " '25monthold': 16,\n",
       " 'patientmethodsa': 17,\n",
       " 'carbacholstimulated': 18,\n",
       " '6105': 19,\n",
       " 'postdiapause': 20,\n",
       " 'hvlpfc': 21,\n",
       " '12478': 22,\n",
       " 'viruscontaining': 23,\n",
       " '06001718': 24,\n",
       " 'rearwardfacing': 25,\n",
       " 'pipj': 26,\n",
       " 'matra': 27,\n",
       " 'lsn': 28,\n",
       " 'salvati': 29,\n",
       " 'or2s2': 30,\n",
       " 'distal': 31,\n",
       " 'chloriderich': 32,\n",
       " 'b0034': 33,\n",
       " '7189': 34,\n",
       " 'apelin13': 35,\n",
       " 'ci096': 36,\n",
       " 'rum2bac': 37,\n",
       " 'groupslow': 38,\n",
       " 'herpesviridae': 39,\n",
       " '12377072': 40,\n",
       " 'gravitating': 41,\n",
       " 'lees': 42,\n",
       " 'osteomalacia': 43,\n",
       " 'g2032r': 44,\n",
       " 'dualleucine': 45,\n",
       " 'uveitic': 46,\n",
       " 'heartwood': 47,\n",
       " 'echocardiograms': 48,\n",
       " 'hladrcd11chladr': 49,\n",
       " 'intergranular': 50,\n",
       " 'leftpapvc': 51,\n",
       " 'leukocytemimetic': 52,\n",
       " 'stanisław': 53,\n",
       " 'cu5ce5w9tii': 54,\n",
       " '8071': 55,\n",
       " 'pt790m': 56,\n",
       " 'sulfhydrated': 57,\n",
       " 'incapacitating': 58,\n",
       " 'rovatti': 59,\n",
       " 'codosed': 60,\n",
       " 'syneresis': 61,\n",
       " '1316yearold': 62,\n",
       " 'holopointer': 63,\n",
       " 'vb23tdsm': 64,\n",
       " 'isoproxil': 65,\n",
       " 'neural': 66,\n",
       " 'cklf1': 67,\n",
       " 'zif8cm': 68,\n",
       " 'irradiators': 69,\n",
       " 'kalij': 70,\n",
       " 'cardiaccerebrovascular': 71,\n",
       " '25415': 72,\n",
       " 'transforminfra': 73,\n",
       " 'crosslevel': 74,\n",
       " 'cd62eemp': 75,\n",
       " '03870589': 76,\n",
       " 'ecmreceptor': 77,\n",
       " 'tbss': 78,\n",
       " 'scaffoldbmscs': 79,\n",
       " 'isletcell': 80,\n",
       " 'v201': 81,\n",
       " 'zein': 82,\n",
       " 'stickers': 83,\n",
       " '4252': 84,\n",
       " 'mmtvpolyomavirus': 85,\n",
       " 'pbv': 86,\n",
       " '281393': 87,\n",
       " '65db': 88,\n",
       " 'entonaemin': 89,\n",
       " '40724250': 90,\n",
       " 'vme': 91,\n",
       " 'dichlorodiphenyltrichlorethanes': 92,\n",
       " 'monoinstitutional': 93,\n",
       " 'hpyruvate': 94,\n",
       " 'mdhigh': 95,\n",
       " 'glyocopro': 96,\n",
       " 'kpck': 97,\n",
       " 'suceptibility': 98,\n",
       " 'trastuzumabbased': 99,\n",
       " 'gne684': 100,\n",
       " 'gpr120iresegfp': 101,\n",
       " 'swarms': 102,\n",
       " 'kraftbrühe': 103,\n",
       " 'pedalium': 104,\n",
       " 'bdlinduced': 105,\n",
       " 'pege': 106,\n",
       " 'nonattack': 107,\n",
       " '24489477': 108,\n",
       " 'ptpdc3n4': 109,\n",
       " 'gln510': 110,\n",
       " 'effectivenessreducing': 111,\n",
       " 'characterisations': 112,\n",
       " 'mlkls': 113,\n",
       " 'ddpresistant': 114,\n",
       " 'beesons': 115,\n",
       " 'heleshaw': 116,\n",
       " 'endows': 117,\n",
       " 'pser204fs': 118,\n",
       " 'β0175': 119,\n",
       " 'nlrp6mice': 120,\n",
       " '10external': 121,\n",
       " 'cheeseboard': 122,\n",
       " 'treatmentna': 123,\n",
       " '106338': 124,\n",
       " '12191296': 125,\n",
       " 'beterketen': 126,\n",
       " 'actiontraumatic': 127,\n",
       " '245430': 128,\n",
       " '928100': 129,\n",
       " 'evolocumab': 130,\n",
       " 'pnassociated': 131,\n",
       " 'sensitherm': 132,\n",
       " '198342': 133,\n",
       " 'emmetropia': 134,\n",
       " 'decolourizing': 135,\n",
       " '1day14': 136,\n",
       " 'kdrs': 137,\n",
       " 'phaedon': 138,\n",
       " '01087': 139,\n",
       " 'rht': 140,\n",
       " 'modifieddna': 141,\n",
       " 'femoral': 142,\n",
       " '14198': 143,\n",
       " '88855': 144,\n",
       " 'intrabdominal': 145,\n",
       " '2431964': 146,\n",
       " 'asli': 147,\n",
       " 'stunt': 148,\n",
       " 'modified': 149,\n",
       " 'rs8192678': 150,\n",
       " 'cs': 151,\n",
       " 'anosim': 152,\n",
       " 'rvlv': 153,\n",
       " 'k079': 154,\n",
       " '275487786': 155,\n",
       " 'grv': 156,\n",
       " 'bronchospasm': 157,\n",
       " 'fgd1': 158,\n",
       " 'nonmigratory': 159,\n",
       " 'πinteraction': 160,\n",
       " 'blgs': 161,\n",
       " 'fibrocarcinogenesis': 162,\n",
       " 'participantsgroup': 163,\n",
       " 'cyanobacterium': 164,\n",
       " '09965': 165,\n",
       " 'transautophosphorylation': 166,\n",
       " 'accuracy': 167,\n",
       " 'healthcareseeking': 168,\n",
       " 'ausr': 169,\n",
       " 'almi': 170,\n",
       " '19932017': 171,\n",
       " 'iolsmethodsin': 172,\n",
       " 'kinaseinteracting': 173,\n",
       " 'crossedreacted': 174,\n",
       " 'pesticidecontaminated': 175,\n",
       " 'radiomicbased': 176,\n",
       " 'qtcbzt': 177,\n",
       " 'postchelation': 178,\n",
       " '58141005': 179,\n",
       " 'iedb': 180,\n",
       " '81percent': 181,\n",
       " 'adhesionmediated': 182,\n",
       " 'qualitybased': 183,\n",
       " 'gsea': 184,\n",
       " 'singlerun': 185,\n",
       " '5616': 186,\n",
       " '154232': 187,\n",
       " '123412': 188,\n",
       " 'umin000004801': 189,\n",
       " 'backgrounddyslipidemia': 190,\n",
       " 'auxinup': 191,\n",
       " 'δ26mg': 192,\n",
       " 'svlaaos': 193,\n",
       " 'hdll': 194,\n",
       " 'pgly116asp': 195,\n",
       " 'muddylooking': 196,\n",
       " 'bpaa': 197,\n",
       " 'hypoxiatargeted': 198,\n",
       " 'tpm18': 199,\n",
       " 'ptr0': 200,\n",
       " 'kickback': 201,\n",
       " 'aeht': 202,\n",
       " 'ychromosomal': 203,\n",
       " '5end': 204,\n",
       " 'postpolypectomy': 205,\n",
       " 'thalassodraco': 206,\n",
       " 'tmdp': 207,\n",
       " 'microscopyenergydispersive': 208,\n",
       " 'millerdieker': 209,\n",
       " 'succinatefueled': 210,\n",
       " 'pneumoniaand': 211,\n",
       " 'serosanginous': 212,\n",
       " 'antipneumococcus': 213,\n",
       " 'granulomatoses': 214,\n",
       " 'roomgeneral': 215,\n",
       " '30556': 216,\n",
       " '11813': 217,\n",
       " 'rapidinsufflation': 218,\n",
       " 'evi1high': 219,\n",
       " 'fmbotafe3': 220,\n",
       " '55287': 221,\n",
       " 'hungry': 222,\n",
       " 'ckcngrc': 223,\n",
       " 'or223': 224,\n",
       " 'tubulocystic': 225,\n",
       " '152': 226,\n",
       " 'successlimiting': 227,\n",
       " '1279': 228,\n",
       " 'twocycle': 229,\n",
       " 'neighbours': 230,\n",
       " 'avidinbiotin': 231,\n",
       " 'iiiumina': 232,\n",
       " 'erbb1': 233,\n",
       " 'hypoxicischemic': 234,\n",
       " 'neurotherapeutic': 235,\n",
       " '4styrene': 236,\n",
       " 'otne': 237,\n",
       " '109679': 238,\n",
       " '2503844': 239,\n",
       " 'seryltrna': 240,\n",
       " 'mouthsmall': 241,\n",
       " '12nm': 242,\n",
       " '5hydroxy6e8z11zeicosatrienoic': 243,\n",
       " 'micropterus': 244,\n",
       " 'extorsion': 245,\n",
       " 'nonoverloaded': 246,\n",
       " 'b90': 247,\n",
       " 'heptapeptidepalmitic': 248,\n",
       " 'kerguelen': 249,\n",
       " '1924342': 250,\n",
       " 'unquantified': 251,\n",
       " 'flavonoidmonoglycosides': 252,\n",
       " '121974t': 253,\n",
       " 'isrctn88072400': 254,\n",
       " 'hdac6score': 255,\n",
       " 'capanna': 256,\n",
       " 'neuroborreliosis': 257,\n",
       " '4485463': 258,\n",
       " '478585': 259,\n",
       " 'coinvolution': 260,\n",
       " 'remittedlifetime': 261,\n",
       " 'βpropeller': 262,\n",
       " 'belowtheankle': 263,\n",
       " 'cgaagg': 264,\n",
       " 'hmsc': 265,\n",
       " '499114': 266,\n",
       " 'or950': 267,\n",
       " 'liraglutidemediated': 268,\n",
       " 'drb11501': 269,\n",
       " 'aqiv': 270,\n",
       " 'mopso': 271,\n",
       " 'particlesl1': 272,\n",
       " 'phasedelayed': 273,\n",
       " '240585': 274,\n",
       " 'showjumping': 275,\n",
       " 'rence': 276,\n",
       " 'polymeraseepsilon': 277,\n",
       " 'cswb': 278,\n",
       " '23340': 279,\n",
       " 'pcvl347': 280,\n",
       " '0404634': 281,\n",
       " 'umin000025411': 282,\n",
       " 'grassalfalfa': 283,\n",
       " 'occlusivethromboembolic': 284,\n",
       " '03040': 285,\n",
       " '264469': 286,\n",
       " 'ndiin': 287,\n",
       " '751000': 288,\n",
       " 'hydroalcoholic': 289,\n",
       " 'unwarmed': 290,\n",
       " 'agtio2': 291,\n",
       " 'foleys': 292,\n",
       " 'prognosticators': 293,\n",
       " 'climatemediated': 294,\n",
       " 'pasturing': 295,\n",
       " 'immunosuppressionmediated': 296,\n",
       " 'tcrenriched': 297,\n",
       " 'arg815trp': 298,\n",
       " 'oatrp': 299,\n",
       " '218594': 300,\n",
       " 'mgclo32157cacl2mgcl2ch3coohnh2c2h4oh': 301,\n",
       " 'spd1': 302,\n",
       " '01391951': 303,\n",
       " 'cuti': 304,\n",
       " 'mcbinding': 305,\n",
       " 'terbinding': 306,\n",
       " 'ences': 307,\n",
       " 'oili': 308,\n",
       " 'isomangiferin': 309,\n",
       " '739787': 310,\n",
       " '115295': 311,\n",
       " 'repeateddosing': 312,\n",
       " 'longwinged': 313,\n",
       " 'filgotinib': 314,\n",
       " 'copcoc': 315,\n",
       " 'pgfs': 316,\n",
       " 'muskrats': 317,\n",
       " 'arhgap11b': 318,\n",
       " 'v3045': 319,\n",
       " 'lx2_klbwt': 320,\n",
       " 'allostatic': 321,\n",
       " 'jtreated': 322,\n",
       " 'thalamusevoked': 323,\n",
       " 'platescrew': 324,\n",
       " 'selfdrive': 325,\n",
       " 'kuqin': 326,\n",
       " 'gh_d12g1806': 327,\n",
       " 'sporogonic': 328,\n",
       " 'ax3': 329,\n",
       " 'goniospermum': 330,\n",
       " '069086': 331,\n",
       " 'nsbls': 332,\n",
       " 'botscc': 333,\n",
       " 'fetu': 334,\n",
       " 'tamariscina': 335,\n",
       " 'iqr72075': 336,\n",
       " 'réserve': 337,\n",
       " 'ho1': 338,\n",
       " 'sludgederived': 339,\n",
       " 'saipan': 340,\n",
       " 'wholeblood': 341,\n",
       " 'thoracohumeral': 342,\n",
       " 'portas': 343,\n",
       " 'vp1456': 344,\n",
       " '4444': 345,\n",
       " 'nonoac': 346,\n",
       " 'β0006': 347,\n",
       " 'mc4rs': 348,\n",
       " 'mercer': 349,\n",
       " '1055': 350,\n",
       " 'levoatriocardinal': 351,\n",
       " 'duf1795': 352,\n",
       " 'oncoradiology': 353,\n",
       " 'ak2': 354,\n",
       " '06840787': 355,\n",
       " 'classement': 356,\n",
       " 'expansioncorrected': 357,\n",
       " 'baluensis': 358,\n",
       " '4lpeg': 359,\n",
       " 'histomechanics': 360,\n",
       " 'p53puma': 361,\n",
       " 'ab2535exposed': 362,\n",
       " 'fourview': 363,\n",
       " 'omeprazole': 364,\n",
       " 'highload': 365,\n",
       " 'antidll3pbd': 366,\n",
       " '11127': 367,\n",
       " 'bloodendolymph': 368,\n",
       " 'aphasiafriendly': 369,\n",
       " 'cpcissh': 370,\n",
       " 'denizens': 371,\n",
       " '102032': 372,\n",
       " 'mer20': 373,\n",
       " 'cathilcidin': 374,\n",
       " 'chrysops': 375,\n",
       " 'fromcataract': 376,\n",
       " '1ri': 377,\n",
       " 'rltpr': 378,\n",
       " 'forestalled': 379,\n",
       " '00610721': 380,\n",
       " '16316': 381,\n",
       " 'shake': 382,\n",
       " '535694': 383,\n",
       " 'pillform': 384,\n",
       " 'aquagenic': 385,\n",
       " '1156450': 386,\n",
       " '099129': 387,\n",
       " 'slopemax': 388,\n",
       " 'study199': 389,\n",
       " '21091': 390,\n",
       " 'anfis': 391,\n",
       " 'cingulotomy': 392,\n",
       " 'cited2has': 393,\n",
       " 'bcrpi3k': 394,\n",
       " 'acidosis': 395,\n",
       " 'breathactuated': 396,\n",
       " 'quinupristindalfopristin': 397,\n",
       " 'tissuescells': 398,\n",
       " 'micellarenhanced': 399,\n",
       " '010019': 400,\n",
       " 'lowallelic': 401,\n",
       " '03dexamethasone': 402,\n",
       " '392530': 403,\n",
       " 'postactivity': 404,\n",
       " 'mobnet': 405,\n",
       " '430': 406,\n",
       " 'carbyne': 407,\n",
       " 'pcsk9': 408,\n",
       " 'anomerization': 409,\n",
       " '65yo': 410,\n",
       " 'geassemi': 411,\n",
       " 'hypospadic': 412,\n",
       " 'caror': 413,\n",
       " 'designparticipants': 414,\n",
       " 'piezometric': 415,\n",
       " 'gynaec': 416,\n",
       " 'wechatincorporated': 417,\n",
       " 'threats': 418,\n",
       " 'aboulazm': 419,\n",
       " 'mallotus': 420,\n",
       " 'rangeadapted': 421,\n",
       " '3carcinoma': 422,\n",
       " 'epitomizing': 423,\n",
       " 'mlch4g': 424,\n",
       " 'butschli': 425,\n",
       " 'prooscr4gus': 426,\n",
       " '132362': 427,\n",
       " 'iresite': 428,\n",
       " 'bernstein': 429,\n",
       " 'kegels': 430,\n",
       " 'lipins': 431,\n",
       " 'polyglactin': 432,\n",
       " 'pxylenes': 433,\n",
       " 'b6mtfvb': 434,\n",
       " 'ctfs': 435,\n",
       " 'muellerhinton': 436,\n",
       " 'bdna': 437,\n",
       " 'avnrts': 438,\n",
       " '13764008': 439,\n",
       " '24009': 440,\n",
       " 'endtreatment': 441,\n",
       " 'frenchamericanbritish': 442,\n",
       " 'stourbridge': 443,\n",
       " 'oxygensensing': 444,\n",
       " 'nonαβunsaturated': 445,\n",
       " 'ʃocps': 446,\n",
       " '116418': 447,\n",
       " 'traitype': 448,\n",
       " 'eukaryoticderived': 449,\n",
       " 'pnc27': 450,\n",
       " 'infracartilaginous': 451,\n",
       " 'src': 452,\n",
       " 'dualplatform': 453,\n",
       " 'glutaminevr': 454,\n",
       " 'rgene': 455,\n",
       " '2010may': 456,\n",
       " '275620': 457,\n",
       " 'peritonealis': 458,\n",
       " 'dv09': 459,\n",
       " 'zation': 460,\n",
       " 'wrvu': 461,\n",
       " '3560': 462,\n",
       " 'fibrosispromoted': 463,\n",
       " '126482': 464,\n",
       " 'painrelieving': 465,\n",
       " 'spinnlertognoni': 466,\n",
       " 'ea52': 467,\n",
       " 'hmeasd': 468,\n",
       " 'nsabs': 469,\n",
       " 'dhpseif5a': 470,\n",
       " 'antivitamines': 471,\n",
       " 'minitableting': 472,\n",
       " 'tropylium': 473,\n",
       " 'kynaqa': 474,\n",
       " 'sorghumxvh': 475,\n",
       " 'years2012': 476,\n",
       " 'us135000': 477,\n",
       " '130428': 478,\n",
       " 'ablated': 479,\n",
       " 'tlr3': 480,\n",
       " 'gramd': 481,\n",
       " '75gene': 482,\n",
       " 'pvsdm': 483,\n",
       " 'fmea': 484,\n",
       " 'nonsignificantly': 485,\n",
       " 'samd12': 486,\n",
       " 'exhausting': 487,\n",
       " 'diazotrophs': 488,\n",
       " 'bctubb': 489,\n",
       " 'inlipodiab1': 490,\n",
       " 'womenthe': 491,\n",
       " '1132359': 492,\n",
       " 'r42h': 493,\n",
       " 'generalizability': 494,\n",
       " 'todaropsis': 495,\n",
       " 'reparativeregenerative': 496,\n",
       " 'ftnd': 497,\n",
       " 'ckd4': 498,\n",
       " 'primoglucosylcimifugin': 499,\n",
       " 'toxinmediated': 500,\n",
       " 'fever': 501,\n",
       " 'enms': 502,\n",
       " 'mir184tp63': 503,\n",
       " 'marshallcriteria': 504,\n",
       " 'algcd': 505,\n",
       " 'monozygotic55': 506,\n",
       " 'triticum': 507,\n",
       " 'normalgammabeta': 508,\n",
       " 'biomaterialby': 509,\n",
       " '65reduction': 510,\n",
       " 'andhbr': 511,\n",
       " 'habitlike': 512,\n",
       " 'multipliersto': 513,\n",
       " 'cnshgnet': 514,\n",
       " 'assessmentestimated': 515,\n",
       " '07308': 516,\n",
       " '6mrna': 517,\n",
       " 'p1â': 518,\n",
       " 'p027': 519,\n",
       " 'venotonic': 520,\n",
       " '12931': 521,\n",
       " '608128': 522,\n",
       " 'resiliency': 523,\n",
       " 'c1400': 524,\n",
       " 'screwsmethodsadults': 525,\n",
       " 'permian': 526,\n",
       " 'dresgenin': 527,\n",
       " '0641382': 528,\n",
       " 'με': 529,\n",
       " 'osteopetrotic': 530,\n",
       " 'bore': 531,\n",
       " 'pginduced': 532,\n",
       " 'enzymeproducing': 533,\n",
       " 'echinophthiriid': 534,\n",
       " '070623': 535,\n",
       " 'abvd': 536,\n",
       " '045152': 537,\n",
       " 'wss10': 538,\n",
       " '7376431': 539,\n",
       " 'myelocystocele': 540,\n",
       " 'macrophytic': 541,\n",
       " 'nanotechnology': 542,\n",
       " 'gacd': 543,\n",
       " 'submalleolar': 544,\n",
       " 'strategiesmosquito': 545,\n",
       " 'ambnct': 546,\n",
       " '113697': 547,\n",
       " 'pou5f3': 548,\n",
       " 'mgotemplated': 549,\n",
       " 'taiho': 550,\n",
       " 'nm_0054506c532t': 551,\n",
       " 'ligandligand': 552,\n",
       " '113109118': 553,\n",
       " 'antiklh': 554,\n",
       " 'hmim': 555,\n",
       " 'bezirksregierung': 556,\n",
       " 'labc': 557,\n",
       " 'treillis': 558,\n",
       " 'aera': 559,\n",
       " 'biphenyl49': 560,\n",
       " 'c908': 561,\n",
       " '125100': 562,\n",
       " 'radiogenotoxic': 563,\n",
       " 'echogram': 564,\n",
       " '16143255': 565,\n",
       " 'r0623': 566,\n",
       " 'historybased': 567,\n",
       " 'mcat1': 568,\n",
       " '2841039': 569,\n",
       " 'subdtu': 570,\n",
       " 'osseintegration': 571,\n",
       " 'sealant': 572,\n",
       " 'bhanja': 573,\n",
       " '7332': 574,\n",
       " 'bioreactorinoculated': 575,\n",
       " 'russell': 576,\n",
       " 'titaniumbased': 577,\n",
       " 'bixafen': 578,\n",
       " 'tbs': 579,\n",
       " 'presentationssix': 580,\n",
       " 'anxietydepression': 581,\n",
       " 'syt2': 582,\n",
       " 'itle': 583,\n",
       " '3hydroxycyclopent1enecarboxylic': 584,\n",
       " 'nearshore': 585,\n",
       " 'appeears': 586,\n",
       " 'polybrominated': 587,\n",
       " 'eutherian': 588,\n",
       " '19046t': 589,\n",
       " 'escers': 590,\n",
       " 'extensions': 591,\n",
       " 'poisonings': 592,\n",
       " 'onycholysis': 593,\n",
       " 'abrusprecatorius': 594,\n",
       " '2120': 595,\n",
       " 'womenpoorly': 596,\n",
       " '121246': 597,\n",
       " 'camphorata': 598,\n",
       " 'nonfixating': 599,\n",
       " 'pocd91': 600,\n",
       " 'km310': 601,\n",
       " '7819860': 602,\n",
       " '184926': 603,\n",
       " '150cm': 604,\n",
       " 'iqr284': 605,\n",
       " 'mwhela': 606,\n",
       " 'lengthdiameter': 607,\n",
       " '88910': 608,\n",
       " 'peptidaseinhibitor': 609,\n",
       " 'riboside': 610,\n",
       " 'paramagnetic': 611,\n",
       " 'layering': 612,\n",
       " 'hamdhama': 613,\n",
       " 'dispersionnormalized': 614,\n",
       " '115173': 615,\n",
       " '529from': 616,\n",
       " 'fdcts': 617,\n",
       " 'labd': 618,\n",
       " 'novaluron': 619,\n",
       " '196597': 620,\n",
       " 'octavius4d': 621,\n",
       " '005008': 622,\n",
       " 'marula': 623,\n",
       " '42ab': 624,\n",
       " 'caaguazú': 625,\n",
       " 'energydependent': 626,\n",
       " 'diisopropylamide': 627,\n",
       " '1391377': 628,\n",
       " 'oxygenbridged': 629,\n",
       " 'logisticlinear': 630,\n",
       " 'stingtbk1': 631,\n",
       " 'astalt': 632,\n",
       " 'azoic': 633,\n",
       " 'sc5': 634,\n",
       " 'conners3': 635,\n",
       " 'esrp1esrp2': 636,\n",
       " 'commitee': 637,\n",
       " 'α13fucose': 638,\n",
       " 'skulls': 639,\n",
       " 'hadn2as1': 640,\n",
       " 'aurous': 641,\n",
       " 'cebas': 642,\n",
       " 'charing': 643,\n",
       " 'ccbe1': 644,\n",
       " 'herbicidecontaminated': 645,\n",
       " 'neridronate': 646,\n",
       " '0677409753': 647,\n",
       " 'ghurghurkatwa': 648,\n",
       " 'platichthys': 649,\n",
       " '14items': 650,\n",
       " 'amoebozoa': 651,\n",
       " 'lineagespecifying': 652,\n",
       " '113c': 653,\n",
       " 'midportion': 654,\n",
       " 'aldah': 655,\n",
       " 'rps3rpl16': 656,\n",
       " 'posteromedialtoposterolateral': 657,\n",
       " 'snrk2': 658,\n",
       " 'syndrometwo': 659,\n",
       " 'highlowhigh': 660,\n",
       " 'ti4o7electrode': 661,\n",
       " 'pantoeaovo3': 662,\n",
       " 'locationvenue': 663,\n",
       " 'scutellata': 664,\n",
       " 'monolithically': 665,\n",
       " 'microbiomehost': 666,\n",
       " 'antinociceptive': 667,\n",
       " 'subtypespecific': 668,\n",
       " 'informationchinese': 669,\n",
       " '73493': 670,\n",
       " 'cooldown': 671,\n",
       " 'anxiety001': 672,\n",
       " '267524': 673,\n",
       " 'wicxpa': 674,\n",
       " 'mfcc': 675,\n",
       " 'jejunocolic': 676,\n",
       " '523800': 677,\n",
       " 'auxarconjugatinb': 678,\n",
       " 'micitc': 679,\n",
       " 'rosegottlieb': 680,\n",
       " 'ρ0630': 681,\n",
       " 'syringae': 682,\n",
       " 'mutlαspecific': 683,\n",
       " 'deeptissuepenetrating': 684,\n",
       " 'nongonococcal': 685,\n",
       " 'inhibitorrich': 686,\n",
       " 'trg1b': 687,\n",
       " 'uo22co3oh3': 688,\n",
       " '055095': 689,\n",
       " 'femouse': 690,\n",
       " '614': 691,\n",
       " 'mir647': 692,\n",
       " '10691877': 693,\n",
       " '382500': 694,\n",
       " 'vf': 695,\n",
       " '018060': 696,\n",
       " 'oatp1b1': 697,\n",
       " '7042': 698,\n",
       " 'casedebonding': 699,\n",
       " 'pcnyear': 700,\n",
       " 'flavoenzymes': 701,\n",
       " 'bapeq': 702,\n",
       " '12326': 703,\n",
       " 'piezoelectrics': 704,\n",
       " 'predation': 705,\n",
       " '92387': 706,\n",
       " '1rm': 707,\n",
       " 'shallowing': 708,\n",
       " 'nonpathogenic': 709,\n",
       " 'colistinsusceptible': 710,\n",
       " '432546': 711,\n",
       " 'unending': 712,\n",
       " 'mm5min': 713,\n",
       " 'vomeronasal': 714,\n",
       " 'glcnacylation': 715,\n",
       " 'adcfasl': 716,\n",
       " 'granulosum': 717,\n",
       " 'rubia': 718,\n",
       " 'drugcarrier': 719,\n",
       " 'c1901': 720,\n",
       " 'ab186': 721,\n",
       " 'pv600e': 722,\n",
       " '47233': 723,\n",
       " '95ci552728': 724,\n",
       " 'biochem': 725,\n",
       " 'aml1eto': 726,\n",
       " 'pupae': 727,\n",
       " 'goaltrackers': 728,\n",
       " 'smartgene': 729,\n",
       " 'kelebsela': 730,\n",
       " 'cszn': 731,\n",
       " '076097': 732,\n",
       " 'rs5029939g': 733,\n",
       " '250000500000': 734,\n",
       " 'acmimetic': 735,\n",
       " 'supervising': 736,\n",
       " 'ssocta': 737,\n",
       " 'mitochondriatonucleus': 738,\n",
       " '205n3': 739,\n",
       " 'nonautoimmune': 740,\n",
       " '12gpg': 741,\n",
       " 'catatoniform': 742,\n",
       " 'quilting': 743,\n",
       " 'smragestandardised': 744,\n",
       " '60210': 745,\n",
       " 'uncis': 746,\n",
       " 'myoglobinsurfactant': 747,\n",
       " 'oophaga': 748,\n",
       " 'illeffects': 749,\n",
       " 'blalocktaussig': 750,\n",
       " 'previousseason': 751,\n",
       " 'alcoholnaive': 752,\n",
       " '59yearold': 753,\n",
       " 'dynamometerdriven': 754,\n",
       " '3dmatrix': 755,\n",
       " 'ribophorin': 756,\n",
       " 'hlas': 757,\n",
       " 'qimr': 758,\n",
       " 'innoxius': 759,\n",
       " 'nanopesticdes': 760,\n",
       " 'tdcsfes': 761,\n",
       " 'urotheliumlike': 762,\n",
       " 'nnamdi': 763,\n",
       " '4637': 764,\n",
       " '2007chicago': 765,\n",
       " 'cenriched': 766,\n",
       " '255274081': 767,\n",
       " 'branchiomotor': 768,\n",
       " 'singleborn': 769,\n",
       " 'lesionbased': 770,\n",
       " '86101': 771,\n",
       " 'primedmicroglia': 772,\n",
       " 'rr0834': 773,\n",
       " 'catalystsubstratecontrolled': 774,\n",
       " 'chads2': 775,\n",
       " 'comparators': 776,\n",
       " 'c1633ct': 777,\n",
       " '05361003': 778,\n",
       " 'fdr2': 779,\n",
       " 'plywoodlike': 780,\n",
       " '12yrold': 781,\n",
       " 'hypopharyngealesophageal': 782,\n",
       " 'myoclonus': 783,\n",
       " 'flowsensitive': 784,\n",
       " 'arg1088': 785,\n",
       " '387513': 786,\n",
       " 'subcloned': 787,\n",
       " 'aridanin': 788,\n",
       " 'rbcmvinduced': 789,\n",
       " 'aor57': 790,\n",
       " 'serum25ohd': 791,\n",
       " 'carboxyfunctional': 792,\n",
       " 'pbq': 793,\n",
       " '6732': 794,\n",
       " 'artpred': 795,\n",
       " 'interpuff': 796,\n",
       " 'cflarjnk': 797,\n",
       " 'nomrna': 798,\n",
       " 'polqassociated': 799,\n",
       " 'fibrolamellar': 800,\n",
       " 'polecable': 801,\n",
       " 'microsetta': 802,\n",
       " 'hspa12amediated': 803,\n",
       " 'unable': 804,\n",
       " 'τp': 805,\n",
       " 'tim3': 806,\n",
       " 'way00': 807,\n",
       " 'resis': 808,\n",
       " 'pearlitic': 809,\n",
       " 'ɳp2': 810,\n",
       " 'epitheliopathy': 811,\n",
       " 'd071': 812,\n",
       " 'medicalized': 813,\n",
       " 'curviflora': 814,\n",
       " 'her2targeted': 815,\n",
       " 'phlegmon': 816,\n",
       " 'straightness': 817,\n",
       " 'reappeared': 818,\n",
       " 'unitsvariable': 819,\n",
       " 'mir3612': 820,\n",
       " 'sensations': 821,\n",
       " 'categoryeyelid': 822,\n",
       " 'fxiiia': 823,\n",
       " 'antipd1pdl1s': 824,\n",
       " 'nonreferral': 825,\n",
       " 'nks': 826,\n",
       " 'rubber': 827,\n",
       " 'notrecommended': 828,\n",
       " 'gumuz': 829,\n",
       " 't58': 830,\n",
       " 'tcrinduced': 831,\n",
       " 'tr002319': 832,\n",
       " '2night': 833,\n",
       " 'anurans': 834,\n",
       " 'mdmaassisted': 835,\n",
       " 'interposition': 836,\n",
       " 'nosetolung': 837,\n",
       " '26192954': 838,\n",
       " 'd181240': 839,\n",
       " 'nos10': 840,\n",
       " 'recomme': 841,\n",
       " 'endorotation': 842,\n",
       " 'pharmacyled': 843,\n",
       " 'guanajuato': 844,\n",
       " 'wuweizi': 845,\n",
       " '130324': 846,\n",
       " 'pjnk12': 847,\n",
       " 'gingipaindependent': 848,\n",
       " 'mmsecn': 849,\n",
       " 'aor835': 850,\n",
       " 'preputium': 851,\n",
       " 'casce': 852,\n",
       " '23382358': 853,\n",
       " 'tgfβ1iba1': 854,\n",
       " 'pvod': 855,\n",
       " 'parietaloccipital': 856,\n",
       " 'hplcfl': 857,\n",
       " 'ccef': 858,\n",
       " 'progressiondeath': 859,\n",
       " 'esophaguswith': 860,\n",
       " 'swm': 861,\n",
       " 'rodentparasite': 862,\n",
       " 'videoendoscope': 863,\n",
       " 'okinoshima': 864,\n",
       " 'metaphysis': 865,\n",
       " 'peradenoma': 866,\n",
       " 'haemorrage': 867,\n",
       " 'highufr': 868,\n",
       " 'pipscs': 869,\n",
       " 'paracorporeal': 870,\n",
       " 'anhej': 871,\n",
       " 'extramitochondrial': 872,\n",
       " 'smdresults': 873,\n",
       " '14202': 874,\n",
       " 'bears': 875,\n",
       " 'firstinckd': 876,\n",
       " '3nhpaa': 877,\n",
       " 'syndecans1': 878,\n",
       " 'gkc': 879,\n",
       " 'atripla': 880,\n",
       " 'airplsplsbp': 881,\n",
       " 'ralph': 882,\n",
       " 'nisopropyl': 883,\n",
       " 'medicalethnobotanical': 884,\n",
       " 'neuroplasticityassociated': 885,\n",
       " 'genebgn': 886,\n",
       " 'g3p1l1a1': 887,\n",
       " 'vmhvl': 888,\n",
       " 'nonhypertension': 889,\n",
       " 'tlr9': 890,\n",
       " '433459': 891,\n",
       " 'neuromolecular': 892,\n",
       " 'ci04780837': 893,\n",
       " 'nct02915432': 894,\n",
       " 'rnapersistence': 895,\n",
       " 'accelerates': 896,\n",
       " 'glisteningsfree': 897,\n",
       " 'pdose00001': 898,\n",
       " 'momentaneously': 899,\n",
       " '492752': 900,\n",
       " 'websitessocial': 901,\n",
       " 'cotargeted': 902,\n",
       " '19785': 903,\n",
       " 'liver1': 904,\n",
       " 'nsdd': 905,\n",
       " 'oso': 906,\n",
       " 'spliceai': 907,\n",
       " 'parbfa': 908,\n",
       " 'disorderschronic': 909,\n",
       " 'sirt2ko': 910,\n",
       " '3434': 911,\n",
       " '1tmos2c60': 912,\n",
       " '510kapproved': 913,\n",
       " 'v1ar': 914,\n",
       " 'αcells': 915,\n",
       " 'wadden': 916,\n",
       " 'spell': 917,\n",
       " 'ail': 918,\n",
       " '234791': 919,\n",
       " 'orthognathicorthodontic': 920,\n",
       " 'crd42018106002': 921,\n",
       " 'gba': 922,\n",
       " 'fnc': 923,\n",
       " 'intraracial': 924,\n",
       " 'βα': 925,\n",
       " 'tumourinfiltrating': 926,\n",
       " 'aldoketo': 927,\n",
       " 'c14c18': 928,\n",
       " 'kix': 929,\n",
       " '12224': 930,\n",
       " 'f230': 931,\n",
       " 'varscan2': 932,\n",
       " 'hamsterl': 933,\n",
       " 't304': 934,\n",
       " 'chictrorgcnchictr1900021774': 935,\n",
       " 'gastroscopy': 936,\n",
       " '003005': 937,\n",
       " 'particleliquid': 938,\n",
       " 'cibertsort': 939,\n",
       " 'srpnps': 940,\n",
       " 'βigf1': 941,\n",
       " '094231': 942,\n",
       " 'odontoblastic': 943,\n",
       " 'adsp': 944,\n",
       " 'nutbased': 945,\n",
       " 'photodamage': 946,\n",
       " 'dothiorelones': 947,\n",
       " 'abca4rd': 948,\n",
       " 'hyperskeletic': 949,\n",
       " 'rs3834458': 950,\n",
       " 'cirile': 951,\n",
       " 'growers': 952,\n",
       " 'cytomegalovirus': 953,\n",
       " 'znschiff': 954,\n",
       " 'schizophreniaschizoaffective': 955,\n",
       " 'hev': 956,\n",
       " 'srgopi': 957,\n",
       " 'phosphosmad2': 958,\n",
       " '0000854': 959,\n",
       " 'selfrenewable': 960,\n",
       " 'cornerstone': 961,\n",
       " 'redon': 962,\n",
       " 'npar': 963,\n",
       " 'rvfws': 964,\n",
       " 'spiralartery': 965,\n",
       " 'myosinregulatory': 966,\n",
       " 'wcwe': 967,\n",
       " 'boostable': 968,\n",
       " '319645': 969,\n",
       " '273315': 970,\n",
       " '07234': 971,\n",
       " 'ffrbased': 972,\n",
       " '5093': 973,\n",
       " '10s': 974,\n",
       " '056150': 975,\n",
       " 'sphk1stat3': 976,\n",
       " 'amsbv': 977,\n",
       " 'bnabengineered': 978,\n",
       " 'puqe': 979,\n",
       " 'remotelysensed': 980,\n",
       " 'poastv4': 981,\n",
       " '0866': 982,\n",
       " 'psbndn': 983,\n",
       " 'ultrahighfrequency': 984,\n",
       " 'uffa': 985,\n",
       " 'dunns': 986,\n",
       " 'shccs': 987,\n",
       " 'bitewing': 988,\n",
       " 'cd74ros1': 989,\n",
       " 'chloroperoxidase': 990,\n",
       " 'elovich': 991,\n",
       " '95ci12292': 992,\n",
       " 'crif1': 993,\n",
       " 'mschrunx2': 994,\n",
       " 'st368': 995,\n",
       " 'poly3hydroxybutyrateco4hydroxybutyrate': 996,\n",
       " 'hollow': 997,\n",
       " 'ixb': 998,\n",
       " 'cyp3a2': 999,\n",
       " 'rotenoneinjected': 1000,\n",
       " ...}"
      ]
     },
     "execution_count": 7,
     "metadata": {},
     "output_type": "execute_result"
    }
   ],
   "source": [
    "word_idx_dict"
   ]
  },
  {
   "cell_type": "code",
   "execution_count": 8,
   "id": "94826661",
   "metadata": {},
   "outputs": [
    {
     "name": "stdout",
     "output_type": "stream",
     "text": [
      "--------------------------------------------------\n",
      "Loading data...\n"
     ]
    }
   ],
   "source": [
    "print('-' * 50)\n",
    "print('Loading data...');\n",
    "start_time = timeit.default_timer()\n",
    "# load all the data\n",
    "loc_dict = {\n",
    "    'processed_csv': cc_path('data/processed/canary/articles_cleaned.csv'),\n",
    "    'abstract_embeddings': cc_path('data/processed/canary/embeddings_fasttext_20230410.csv'),\n",
    "    'keyword_network': cc_path('data/processed/canary/keyword_network.pickle'),\n",
    "    'author_network': cc_path('data/processed/canary/author_network.pickle')\n",
    "}\n",
    "data_loader = DataLoader(loc_dict)\n",
    "processed_df = data_loader.load_processed_csv()\n",
    "\n",
    "embedding_df = data_loader.load_embeddings_csv()\n",
    "embedding_df['pui'] = embedding_df['pui'].astype(str)\n",
    "processed_df['pui'] = processed_df['pui'].astype(str)\n",
    "\n",
    "embedding_df[embedding_df.columns.difference(['pui'])] = \\\n",
    "    (embedding_df[embedding_df.columns.difference(['pui'])] -\n",
    "     embedding_df[embedding_df.columns.difference(['pui'])].mean()) / \\\n",
    "    embedding_df[embedding_df.columns.difference(['pui'])].std()\n",
    "\n",
    "label_columns = processed_df.loc[:, ~processed_df.columns.isin(\n",
    "    ['file_name', 'title', 'keywords', 'abstract', 'abstract_2', 'authors', 'organization', 'chemicals',\n",
    "     'num_refs', 'date-delivered', 'labels_m', 'labels_a', 'Unnamed 0:'])]\n",
    "\n",
    "label_columns = label_columns[label_columns.pui.isin(embedding_df.pui)].reset_index(drop=True)\n",
    "abstracts_df = processed_df.loc[processed_df.pui.isin(label_columns.pui), ['pui', 'abstract']].reset_index(drop=True)\n",
    "\n",
    "train_indices, test_indices = train_test_split(range(len(label_columns)), test_size=0.2, random_state=0)\n",
    "\n"
   ]
  },
  {
   "cell_type": "code",
   "execution_count": 9,
   "id": "614ce50d",
   "metadata": {},
   "outputs": [],
   "source": [
    "abstracts_df['abstract'] = abstracts_df['abstract'].apply(lambda x: [int(word_idx_dict[word]) for word in x.split(' ')])\n"
   ]
  },
  {
   "cell_type": "code",
   "execution_count": 10,
   "id": "ab6f54fb-6d55-4c85-8300-98ce59dd577f",
   "metadata": {},
   "outputs": [
    {
     "data": {
      "text/plain": [
       "<Axes: >"
      ]
     },
     "execution_count": 10,
     "metadata": {},
     "output_type": "execute_result"
    },
    {
     "data": {
      "image/png": "[encoded data removed]",
      "text/plain": [
       "<Figure size 640x480 with 1 Axes>"
      ]
     },
     "metadata": {},
     "output_type": "display_data"
    }
   ],
   "source": [
    "abstracts_df['abstract'].apply(len).hist(bins=100)"
   ]
  },
  {
   "cell_type": "code",
   "execution_count": 11,
   "id": "252f2f93",
   "metadata": {},
   "outputs": [],
   "source": [
    "set_width = 200\n",
    "abstracts_df['abstract'] = abstracts_df['abstract'].apply(lambda x: x + [0] * (set_width - len(x)) if len(x) <= set_width else x[:set_width])\n"
   ]
  },
  {
   "cell_type": "code",
   "execution_count": 12,
   "id": "124d9958",
   "metadata": {},
   "outputs": [
    {
     "data": {
      "text/plain": [
       "array([[222834,   4890, 255464, ...,      0,      0,      0],\n",
       "       [395526, 425546, 189352, ...,      0,      0,      0],\n",
       "       [451371, 116311, 359800, ...,      0,      0,      0],\n",
       "       ...,\n",
       "       [216705,  69118, 152347, ...,      0,      0,      0],\n",
       "       [417561, 201022, 206759, ...,      0,      0,      0],\n",
       "       [359070,  23900, 174650, ...,      0,      0,      0]])"
      ]
     },
     "execution_count": 12,
     "metadata": {},
     "output_type": "execute_result"
    }
   ],
   "source": [
    "np.array(abstracts_df.loc[train_indices, 'abstract'].to_list(), dtype=int)"
   ]
  },
  {
   "cell_type": "code",
   "execution_count": 13,
   "id": "3460fc0a",
   "metadata": {},
   "outputs": [],
   "source": [
    "X_trn = np.array(abstracts_df.loc[train_indices, 'abstract'].to_list(), dtype=int)\n",
    "X_tst = np.array(abstracts_df.loc[test_indices, 'abstract'].to_list(), dtype=int)\n",
    "\n",
    "\n",
    "Y_trn = label_columns.loc[train_indices, label_columns.columns.difference(['pui'])].to_numpy(dtype=int)\n",
    "Y_tst = label_columns.loc[test_indices, label_columns.columns.difference(['pui'])].to_numpy(dtype=int)\n",
    "\n"
   ]
  },
  {
   "cell_type": "code",
   "execution_count": 15,
   "id": "0efe6be1",
   "metadata": {},
   "outputs": [
    {
     "name": "stdout",
     "output_type": "stream",
     "text": [
      "Process time 37.081 (secs)\n",
      "\n"
     ]
    }
   ],
   "source": [
    "batch_size=64\n",
    "train_data = data_utils.TensorDataset(torch.from_numpy(X_trn).type(torch.LongTensor),\n",
    "                                      torch.from_numpy(Y_trn).type(torch.LongTensor))\n",
    "test_data = data_utils.TensorDataset(torch.from_numpy(X_tst).type(torch.LongTensor),\n",
    "                                     torch.from_numpy(Y_tst).type(torch.LongTensor))\n",
    "train_loader = data_utils.DataLoader(train_data, batch_size, drop_last=False, shuffle=True)\n",
    "test_loader = data_utils.DataLoader(test_data, batch_size, drop_last=False)\n",
    "\n",
    "\n",
    "# train_loader, test_loader, vocabulary, X_tst, Y_tst, X_trn, Y_trn = load_data(data_path, sequence_length, vocab_size,\n",
    "#                                                                               batch_size)\n",
    "print('Process time %.3f (secs)\\n' % (timeit.default_timer() - start_time))\n",
    "\n",
    "\n",
    "\n",
    "\n",
    "vocab_size = embedding_weights.size(0)\n",
    "\n",
    "# create Network structure"
   ]
  },
  {
   "cell_type": "code",
   "execution_count": 16,
   "id": "55ec006e",
   "metadata": {},
   "outputs": [],
   "source": [
    "\n",
    "class BasicModule(nn.Module):\n",
    "    def __init__(self):\n",
    "        super(BasicModule, self).__init__()\n",
    "        self.model_name = str(type(self))\n",
    "\n",
    "    def load(self, path):\n",
    "        self.load_state_dict(torch.load(path))\n",
    "\n",
    "    def save(self, path=None):\n",
    "        if path is None:\n",
    "            raise ValueError('Please specify the saving road!!!')\n",
    "        torch.save(self.state_dict(), path)\n",
    "        return path\n",
    "\n",
    "\n",
    "# In[9]:\n",
    "\n",
    "\n",
    "def get_embedding_layer(embedding_weights):\n",
    "    word_embeddings = nn.Embedding(num_embeddings=embedding_weights.size(0), embedding_dim=embedding_weights.size(1))\n",
    "    word_embeddings.weight.data.copy_(embedding_weights)\n",
    "    word_embeddings.weight.requires_grad = False  # not train\n",
    "    return word_embeddings\n",
    "\n",
    "\n",
    "class Hybrid_XML(BasicModule):\n",
    "    def __init__(self, num_labels=3714, vocab_size=30001, embedding_size=300, embedding_weights=None,\n",
    "                 max_seq=300, hidden_size=256, d_a=256, label_emb=None):\n",
    "        super(Hybrid_XML, self).__init__()\n",
    "        self.embedding_size = embedding_size\n",
    "        self.num_labels = num_labels\n",
    "        self.max_seq = max_seq\n",
    "        self.hidden_size = hidden_size\n",
    "\n",
    "        if embedding_weights is None:\n",
    "            self.word_embeddings = nn.Embedding(vocab_size, embedding_size)\n",
    "        else:\n",
    "            self.word_embeddings = get_embedding_layer(embedding_weights)\n",
    "\n",
    "        self.lstm = nn.LSTM(input_size=self.embedding_size, hidden_size=self.hidden_size, num_layers=1,\n",
    "                            batch_first=True, bidirectional=True)\n",
    "\n",
    "        # interaction-attention layer\n",
    "        self.key_layer = torch.nn.Linear(2 * self.hidden_size, self.hidden_size)\n",
    "        self.query_layer = torch.nn.Linear(self.hidden_size, self.hidden_size)\n",
    "\n",
    "        # self-attn layer\n",
    "        self.linear_first = torch.nn.Linear(2 * self.hidden_size, d_a)\n",
    "        self.linear_second = torch.nn.Linear(d_a, self.num_labels)\n",
    "\n",
    "        # weight adaptive layer\n",
    "        self.linear_weight1 = torch.nn.Linear(2 * self.hidden_size, 1)\n",
    "        self.linear_weight2 = torch.nn.Linear(2 * self.hidden_size, 1)\n",
    "\n",
    "        # shared for all attention component\n",
    "        self.linear_final = torch.nn.Linear(2 * self.hidden_size, self.hidden_size)\n",
    "        self.output_layer = torch.nn.Linear(self.hidden_size, 1)\n",
    "\n",
    "        label_embedding = torch.FloatTensor(self.num_labels, self.hidden_size)\n",
    "        if label_emb is None:\n",
    "            nn.init.xavier_normal_(label_embedding)\n",
    "        else:\n",
    "            label_embedding.copy_(label_emb)\n",
    "        self.label_embedding = nn.Parameter(label_embedding, requires_grad=False)\n",
    "\n",
    "    def init_hidden(self, batch_size):\n",
    "        if torch.cuda.is_available():\n",
    "            return (\n",
    "            torch.zeros(2, batch_size, self.hidden_size).cuda(), torch.zeros(2, batch_size, self.hidden_size).cuda())\n",
    "        else:\n",
    "            return (torch.zeros(2, batch_size, self.hidden_size), torch.zeros(2, batch_size, self.hidden_size))\n",
    "\n",
    "    def forward(self, x, embedding_generation=False):\n",
    "\n",
    "        emb = self.word_embeddings(x)\n",
    "\n",
    "        hidden_state = self.init_hidden(emb.size(0))\n",
    "        output, hidden_state = self.lstm(emb, hidden_state)  # [batch,seq,2*hidden]\n",
    "\n",
    "        # get attn_key\n",
    "        attn_key = self.key_layer(output)  # [batch,seq,hidden]\n",
    "        attn_key = attn_key.transpose(1, 2)  # [batch,hidden,seq]\n",
    "        # get attn_query\n",
    "        label_emb = self.label_embedding.expand(\n",
    "            (attn_key.size(0), self.label_embedding.size(0), self.label_embedding.size(1)))  # [batch,L,label_emb]\n",
    "        label_emb = self.query_layer(label_emb)  # [batch,L,label_emb]\n",
    "\n",
    "        # attention\n",
    "        similarity = torch.bmm(label_emb, attn_key)  # [batch,L,seq]\n",
    "        similarity = F.softmax(similarity, dim=2)\n",
    "        print(similarity.size(), output.size())\n",
    "        out1 = torch.bmm(similarity, output)  # [batch,L,label_emb]\n",
    "\n",
    "        # self-attn output\n",
    "        self_attn = torch.tanh(self.linear_first(output))  # [batch,seq,d_a]\n",
    "        self_attn = self.linear_second(self_attn)  # [batch,seq,L]\n",
    "        self_attn = F.softmax(self_attn, dim=1)\n",
    "        self_attn = self_attn.transpose(1, 2)  # [batch,L,seq]\n",
    "        out2 = torch.bmm(self_attn, output)  # [batch,L,hidden]\n",
    "\n",
    "        factor1 = torch.sigmoid(self.linear_weight1(out1))\n",
    "        factor2 = torch.sigmoid(self.linear_weight2(out2))\n",
    "        factor1 = factor1 / (factor1 + factor2)\n",
    "        factor2 = 1 - factor1\n",
    "\n",
    "        out = factor1 * out1 + factor2 * out2\n",
    "        \n",
    "        if embedding_generation:\n",
    "            return out\n",
    "        \n",
    "        out = F.relu(self.linear_final(out))\n",
    "        out = torch.sigmoid(self.output_layer(out).squeeze(-1))  # [batch,L]\n",
    "\n",
    "        return out\n"
   ]
  },
  {
   "cell_type": "code",
   "execution_count": 17,
   "id": "7317d1a1",
   "metadata": {},
   "outputs": [],
   "source": [
    "\n",
    "label_emb = np.zeros((52, 52))\n",
    "label_index_mapping = {}\n",
    "with open(cc_path(f'notebooks/label_embedding_test.txt')) as f:\n",
    "    for index, i in enumerate(f.readlines()):\n",
    "        if index == 0:\n",
    "            continue\n",
    "        i = i.rstrip('\\n')\n",
    "        n = i.split(',')[0]\n",
    "        content = i.split(',')[1].split(' ')\n",
    "        label_index_mapping[index-1] = n\n",
    "        label_emb[index-1] = [float(value) for value in content]\n",
    "\n",
    "\n",
    "\n",
    "label_emb = torch.from_numpy(label_emb).float()\n",
    "\n",
    "\n"
   ]
  },
  {
   "cell_type": "code",
   "execution_count": null,
   "id": "4ba6ebbb",
   "metadata": {},
   "outputs": [],
   "source": []
  },
  {
   "cell_type": "code",
   "execution_count": 18,
   "id": "add373d3",
   "metadata": {},
   "outputs": [],
   "source": [
    "model = Hybrid_XML(num_labels=52, vocab_size=len(word_idx_dict), embedding_size=256, embedding_weights=embedding_weights,\n",
    "                   max_seq=200, hidden_size=52, d_a=256, label_emb=label_emb)\n"
   ]
  },
  {
   "cell_type": "code",
   "execution_count": 19,
   "id": "e542bd82",
   "metadata": {},
   "outputs": [
    {
     "name": "stdout",
     "output_type": "stream",
     "text": [
      "Hybrid_XML(\n",
      "  (word_embeddings): Embedding(456010, 256)\n",
      "  (lstm): LSTM(256, 52, batch_first=True, bidirectional=True)\n",
      "  (key_layer): Linear(in_features=104, out_features=52, bias=True)\n",
      "  (query_layer): Linear(in_features=52, out_features=52, bias=True)\n",
      "  (linear_first): Linear(in_features=104, out_features=256, bias=True)\n",
      "  (linear_second): Linear(in_features=256, out_features=52, bias=True)\n",
      "  (linear_weight1): Linear(in_features=104, out_features=1, bias=True)\n",
      "  (linear_weight2): Linear(in_features=104, out_features=1, bias=True)\n",
      "  (linear_final): Linear(in_features=104, out_features=52, bias=True)\n",
      "  (output_layer): Linear(in_features=52, out_features=1, bias=True)\n",
      ")\n"
     ]
    }
   ],
   "source": [
    "print(model)"
   ]
  },
  {
   "cell_type": "code",
   "execution_count": 123,
   "id": "69b01479",
   "metadata": {
    "tags": []
   },
   "outputs": [
    {
     "name": "stdout",
     "output_type": "stream",
     "text": [
      "----epoch:  1---- \n"
     ]
    },
    {
     "name": "stderr",
     "output_type": "stream",
     "text": [
      "Batch: 100%|██████████| 1467/1467 [01:22<00:00, 17.71it/s]\n"
     ]
    },
    {
     "name": "stdout",
     "output_type": "stream",
     "text": [
      "epoch  1 训练结束 : avg_loss = 12.3441\n",
      "开始进行validation\n"
     ]
    },
    {
     "name": "stderr",
     "output_type": "stream",
     "text": [
      "100%|██████████| 367/367 [00:09<00:00, 38.15it/s]\n"
     ]
    },
    {
     "name": "stdout",
     "output_type": "stream",
     "text": [
      "epoch  1 测试结束 : avg_loss = 11.4419\n",
      "precision@1 : 73.1942 , precision@3 : 64.1561 , precision@5 : 57.2970 \n",
      "ndcg@1 : 73.1942 , ndcg@3 : 71.1554 , ndcg@5 : 69.5217 \n",
      "----epoch:  2---- \n"
     ]
    },
    {
     "name": "stderr",
     "output_type": "stream",
     "text": [
      "Batch: 100%|██████████| 1467/1467 [01:25<00:00, 17.25it/s]\n"
     ]
    },
    {
     "name": "stdout",
     "output_type": "stream",
     "text": [
      "epoch  2 训练结束 : avg_loss = 10.9958\n",
      "开始进行validation\n"
     ]
    },
    {
     "name": "stderr",
     "output_type": "stream",
     "text": [
      "100%|██████████| 367/367 [00:11<00:00, 33.16it/s]\n"
     ]
    },
    {
     "name": "stdout",
     "output_type": "stream",
     "text": [
      "epoch  2 测试结束 : avg_loss = 10.7247\n",
      "precision@1 : 79.6402 , precision@3 : 66.1809 , precision@5 : 58.9890 \n",
      "ndcg@1 : 79.6402 , ndcg@3 : 74.3914 , ndcg@5 : 72.6335 \n",
      "----epoch:  3---- \n"
     ]
    },
    {
     "name": "stderr",
     "output_type": "stream",
     "text": [
      "Batch: 100%|██████████| 1467/1467 [02:12<00:00, 11.06it/s]\n"
     ]
    },
    {
     "name": "stdout",
     "output_type": "stream",
     "text": [
      "epoch  3 训练结束 : avg_loss = 10.6055\n",
      "开始进行validation\n"
     ]
    },
    {
     "name": "stderr",
     "output_type": "stream",
     "text": [
      "100%|██████████| 367/367 [00:33<00:00, 11.09it/s]\n"
     ]
    },
    {
     "name": "stdout",
     "output_type": "stream",
     "text": [
      "epoch  3 测试结束 : avg_loss = 10.3889\n",
      "precision@1 : 80.7884 , precision@3 : 67.6536 , precision@5 : 59.7505 \n",
      "ndcg@1 : 80.7884 , ndcg@3 : 75.9090 , ndcg@5 : 73.6392 \n",
      "----epoch:  4---- \n"
     ]
    },
    {
     "name": "stderr",
     "output_type": "stream",
     "text": [
      "Batch: 100%|██████████| 1467/1467 [04:27<00:00,  5.49it/s]\n"
     ]
    },
    {
     "name": "stdout",
     "output_type": "stream",
     "text": [
      "epoch  4 训练结束 : avg_loss = 10.3853\n",
      "开始进行validation\n"
     ]
    },
    {
     "name": "stderr",
     "output_type": "stream",
     "text": [
      "100%|██████████| 367/367 [00:34<00:00, 10.64it/s]\n"
     ]
    },
    {
     "name": "stdout",
     "output_type": "stream",
     "text": [
      "epoch  4 测试结束 : avg_loss = 10.3145\n",
      "precision@1 : 80.4789 , precision@3 : 67.8726 , precision@5 : 59.9603 \n",
      "ndcg@1 : 80.4789 , ndcg@3 : 75.6182 , ndcg@5 : 73.2481 \n",
      "----epoch:  5---- \n"
     ]
    },
    {
     "name": "stderr",
     "output_type": "stream",
     "text": [
      "Batch: 100%|██████████| 1467/1467 [03:23<00:00,  7.20it/s]\n"
     ]
    },
    {
     "name": "stdout",
     "output_type": "stream",
     "text": [
      "epoch  5 训练结束 : avg_loss = 10.2265\n",
      "开始进行validation\n"
     ]
    },
    {
     "name": "stderr",
     "output_type": "stream",
     "text": [
      "100%|██████████| 367/367 [00:12<00:00, 30.14it/s]\n"
     ]
    },
    {
     "name": "stdout",
     "output_type": "stream",
     "text": [
      "epoch  5 测试结束 : avg_loss = 10.1559\n",
      "precision@1 : 81.7450 , precision@3 : 68.3887 , precision@5 : 60.4709 \n",
      "ndcg@1 : 81.7450 , ndcg@3 : 76.7500 , ndcg@5 : 74.4621 \n",
      "----epoch:  6---- \n"
     ]
    },
    {
     "name": "stderr",
     "output_type": "stream",
     "text": [
      "Batch: 100%|██████████| 1467/1467 [01:31<00:00, 16.09it/s]\n"
     ]
    },
    {
     "name": "stdout",
     "output_type": "stream",
     "text": [
      "epoch  6 训练结束 : avg_loss = 10.1091\n",
      "开始进行validation\n"
     ]
    },
    {
     "name": "stderr",
     "output_type": "stream",
     "text": [
      "100%|██████████| 367/367 [00:12<00:00, 29.93it/s]\n"
     ]
    },
    {
     "name": "stdout",
     "output_type": "stream",
     "text": [
      "epoch  6 测试结束 : avg_loss = 10.0660\n",
      "precision@1 : 81.7591 , precision@3 : 68.8958 , precision@5 : 60.7766 \n",
      "ndcg@1 : 81.7591 , ndcg@3 : 77.0304 , ndcg@5 : 74.6260 \n",
      "----epoch:  7---- \n"
     ]
    },
    {
     "name": "stderr",
     "output_type": "stream",
     "text": [
      "Batch: 100%|██████████| 1467/1467 [01:37<00:00, 15.03it/s]\n"
     ]
    },
    {
     "name": "stdout",
     "output_type": "stream",
     "text": [
      "epoch  7 训练结束 : avg_loss = 9.9784\n",
      "开始进行validation\n"
     ]
    },
    {
     "name": "stderr",
     "output_type": "stream",
     "text": [
      "100%|██████████| 367/367 [00:13<00:00, 27.34it/s]\n"
     ]
    },
    {
     "name": "stdout",
     "output_type": "stream",
     "text": [
      "epoch  7 测试结束 : avg_loss = 9.9625\n",
      "precision@1 : 82.3863 , precision@3 : 69.1437 , precision@5 : 60.9523 \n",
      "ndcg@1 : 82.3863 , ndcg@3 : 77.6196 , ndcg@5 : 75.2668 \n",
      "----epoch:  8---- \n"
     ]
    },
    {
     "name": "stderr",
     "output_type": "stream",
     "text": [
      "Batch: 100%|██████████| 1467/1467 [01:40<00:00, 14.57it/s]\n"
     ]
    },
    {
     "name": "stdout",
     "output_type": "stream",
     "text": [
      "epoch  8 训练结束 : avg_loss = 9.8644\n",
      "开始进行validation\n"
     ]
    },
    {
     "name": "stderr",
     "output_type": "stream",
     "text": [
      "100%|██████████| 367/367 [00:12<00:00, 28.90it/s]\n"
     ]
    },
    {
     "name": "stdout",
     "output_type": "stream",
     "text": [
      "epoch  8 测试结束 : avg_loss = 9.8063\n",
      "precision@1 : 82.5326 , precision@3 : 69.8320 , precision@5 : 61.5845 \n",
      "ndcg@1 : 82.5326 , ndcg@3 : 78.0210 , ndcg@5 : 75.5693 \n",
      "----epoch:  9---- \n"
     ]
    },
    {
     "name": "stderr",
     "output_type": "stream",
     "text": [
      "Batch: 100%|██████████| 1467/1467 [01:34<00:00, 15.55it/s]\n"
     ]
    },
    {
     "name": "stdout",
     "output_type": "stream",
     "text": [
      "epoch  9 训练结束 : avg_loss = 9.7430\n",
      "开始进行validation\n"
     ]
    },
    {
     "name": "stderr",
     "output_type": "stream",
     "text": [
      "100%|██████████| 367/367 [00:16<00:00, 22.20it/s]\n"
     ]
    },
    {
     "name": "stdout",
     "output_type": "stream",
     "text": [
      "epoch  9 测试结束 : avg_loss = 9.6613\n",
      "precision@1 : 82.8775 , precision@3 : 70.2923 , precision@5 : 61.9633 \n",
      "ndcg@1 : 82.8775 , ndcg@3 : 78.6350 , ndcg@5 : 76.1732 \n",
      "----epoch: 10---- \n"
     ]
    },
    {
     "name": "stderr",
     "output_type": "stream",
     "text": [
      "Batch: 100%|██████████| 1467/1467 [02:58<00:00,  8.21it/s]\n"
     ]
    },
    {
     "name": "stdout",
     "output_type": "stream",
     "text": [
      "epoch 10 训练结束 : avg_loss = 9.6007\n",
      "开始进行validation\n"
     ]
    },
    {
     "name": "stderr",
     "output_type": "stream",
     "text": [
      "100%|██████████| 367/367 [00:13<00:00, 27.23it/s]\n"
     ]
    },
    {
     "name": "stdout",
     "output_type": "stream",
     "text": [
      "epoch 10 测试结束 : avg_loss = 9.5582\n",
      "precision@1 : 83.1952 , precision@3 : 70.8117 , precision@5 : 62.3417 \n",
      "ndcg@1 : 83.1952 , ndcg@3 : 79.2057 , ndcg@5 : 76.7118 \n",
      "----epoch: 11---- \n"
     ]
    },
    {
     "name": "stderr",
     "output_type": "stream",
     "text": [
      "Batch: 100%|██████████| 1467/1467 [01:35<00:00, 15.31it/s]\n"
     ]
    },
    {
     "name": "stdout",
     "output_type": "stream",
     "text": [
      "epoch 11 训练结束 : avg_loss = 9.4955\n",
      "开始进行validation\n"
     ]
    },
    {
     "name": "stderr",
     "output_type": "stream",
     "text": [
      "100%|██████████| 367/367 [00:13<00:00, 26.93it/s]\n"
     ]
    },
    {
     "name": "stdout",
     "output_type": "stream",
     "text": [
      "epoch 11 测试结束 : avg_loss = 9.4222\n",
      "precision@1 : 83.1399 , precision@3 : 71.2384 , precision@5 : 62.6874 \n",
      "ndcg@1 : 83.1399 , ndcg@3 : 79.4862 , ndcg@5 : 76.9404 \n",
      "----epoch: 12---- \n"
     ]
    },
    {
     "name": "stderr",
     "output_type": "stream",
     "text": [
      "Batch: 100%|██████████| 1467/1467 [01:35<00:00, 15.30it/s]\n"
     ]
    },
    {
     "name": "stdout",
     "output_type": "stream",
     "text": [
      "epoch 12 训练结束 : avg_loss = 9.4105\n",
      "开始进行validation\n"
     ]
    },
    {
     "name": "stderr",
     "output_type": "stream",
     "text": [
      "100%|██████████| 367/367 [00:12<00:00, 28.97it/s]\n"
     ]
    },
    {
     "name": "stdout",
     "output_type": "stream",
     "text": [
      "epoch 12 测试结束 : avg_loss = 9.4006\n",
      "precision@1 : 83.3812 , precision@3 : 71.2091 , precision@5 : 62.8620 \n",
      "ndcg@1 : 83.3812 , ndcg@3 : 79.4911 , ndcg@5 : 77.1134 \n",
      "----epoch: 13---- \n"
     ]
    },
    {
     "name": "stderr",
     "output_type": "stream",
     "text": [
      "Batch: 100%|██████████| 1467/1467 [01:34<00:00, 15.57it/s]\n"
     ]
    },
    {
     "name": "stdout",
     "output_type": "stream",
     "text": [
      "epoch 13 训练结束 : avg_loss = 9.2043\n",
      "开始进行validation\n"
     ]
    },
    {
     "name": "stderr",
     "output_type": "stream",
     "text": [
      "100%|██████████| 367/367 [00:13<00:00, 27.94it/s]\n"
     ]
    },
    {
     "name": "stdout",
     "output_type": "stream",
     "text": [
      "epoch 13 测试结束 : avg_loss = 9.2452\n",
      "precision@1 : 83.6196 , precision@3 : 71.4920 , precision@5 : 62.9585 \n",
      "ndcg@1 : 83.6196 , ndcg@3 : 79.8067 , ndcg@5 : 77.2955 \n",
      "----epoch: 14---- \n"
     ]
    },
    {
     "name": "stderr",
     "output_type": "stream",
     "text": [
      "Batch: 100%|██████████| 1467/1467 [03:02<00:00,  8.02it/s]\n"
     ]
    },
    {
     "name": "stdout",
     "output_type": "stream",
     "text": [
      "epoch 14 训练结束 : avg_loss = 9.1732\n",
      "开始进行validation\n"
     ]
    },
    {
     "name": "stderr",
     "output_type": "stream",
     "text": [
      "100%|██████████| 367/367 [00:12<00:00, 28.56it/s]\n"
     ]
    },
    {
     "name": "stdout",
     "output_type": "stream",
     "text": [
      "epoch 14 测试结束 : avg_loss = 9.2241\n",
      "precision@1 : 83.5004 , precision@3 : 71.5672 , precision@5 : 63.0544 \n",
      "ndcg@1 : 83.5004 , ndcg@3 : 79.8053 , ndcg@5 : 77.3276 \n",
      "----epoch: 15---- \n"
     ]
    },
    {
     "name": "stderr",
     "output_type": "stream",
     "text": [
      "Batch: 100%|██████████| 1467/1467 [01:36<00:00, 15.28it/s]\n"
     ]
    },
    {
     "name": "stdout",
     "output_type": "stream",
     "text": [
      "epoch 15 训练结束 : avg_loss = 9.1517\n",
      "开始进行validation\n"
     ]
    },
    {
     "name": "stderr",
     "output_type": "stream",
     "text": [
      "100%|██████████| 367/367 [00:12<00:00, 28.41it/s]\n"
     ]
    },
    {
     "name": "stdout",
     "output_type": "stream",
     "text": [
      "epoch 15 测试结束 : avg_loss = 9.2702\n",
      "precision@1 : 83.6806 , precision@3 : 71.5629 , precision@5 : 63.0490 \n",
      "ndcg@1 : 83.6806 , ndcg@3 : 79.8663 , ndcg@5 : 77.4003 \n",
      "----epoch: 16---- \n"
     ]
    },
    {
     "name": "stderr",
     "output_type": "stream",
     "text": [
      "Batch: 100%|██████████| 1467/1467 [01:34<00:00, 15.48it/s]\n"
     ]
    },
    {
     "name": "stdout",
     "output_type": "stream",
     "text": [
      "epoch 16 训练结束 : avg_loss = 9.1361\n",
      "开始进行validation\n"
     ]
    },
    {
     "name": "stderr",
     "output_type": "stream",
     "text": [
      "100%|██████████| 367/367 [00:12<00:00, 29.56it/s]\n"
     ]
    },
    {
     "name": "stdout",
     "output_type": "stream",
     "text": [
      "epoch 16 测试结束 : avg_loss = 9.1932\n",
      "precision@1 : 83.7359 , precision@3 : 71.4811 , precision@5 : 63.0637 \n",
      "ndcg@1 : 83.7359 , ndcg@3 : 79.8127 , ndcg@5 : 77.3847 \n",
      "----epoch: 17---- \n"
     ]
    },
    {
     "name": "stderr",
     "output_type": "stream",
     "text": [
      "Batch: 100%|██████████| 1467/1467 [01:43<00:00, 14.20it/s]\n"
     ]
    },
    {
     "name": "stdout",
     "output_type": "stream",
     "text": [
      "epoch 17 训练结束 : avg_loss = 9.1193\n",
      "开始进行validation\n"
     ]
    },
    {
     "name": "stderr",
     "output_type": "stream",
     "text": [
      "100%|██████████| 367/367 [00:14<00:00, 25.67it/s]\n"
     ]
    },
    {
     "name": "stdout",
     "output_type": "stream",
     "text": [
      "epoch 17 测试结束 : avg_loss = 9.1901\n",
      "precision@1 : 83.8466 , precision@3 : 71.6623 , precision@5 : 63.0479 \n",
      "ndcg@1 : 83.8466 , ndcg@3 : 79.9633 , ndcg@5 : 77.4166 \n",
      "----epoch: 18---- \n"
     ]
    },
    {
     "name": "stderr",
     "output_type": "stream",
     "text": [
      "Batch: 100%|██████████| 1467/1467 [01:45<00:00, 13.94it/s]\n"
     ]
    },
    {
     "name": "stdout",
     "output_type": "stream",
     "text": [
      "epoch 18 训练结束 : avg_loss = 9.1062\n",
      "开始进行validation\n"
     ]
    },
    {
     "name": "stderr",
     "output_type": "stream",
     "text": [
      "100%|██████████| 367/367 [00:12<00:00, 28.32it/s]\n"
     ]
    },
    {
     "name": "stdout",
     "output_type": "stream",
     "text": [
      "epoch 18 测试结束 : avg_loss = 9.1766\n",
      "precision@1 : 83.7716 , precision@3 : 71.7659 , precision@5 : 63.1555 \n",
      "ndcg@1 : 83.7716 , ndcg@3 : 80.0400 , ndcg@5 : 77.5151 \n",
      "----epoch: 19---- \n"
     ]
    },
    {
     "name": "stderr",
     "output_type": "stream",
     "text": [
      "Batch: 100%|██████████| 1467/1467 [01:40<00:00, 14.58it/s]\n"
     ]
    },
    {
     "name": "stdout",
     "output_type": "stream",
     "text": [
      "epoch 19 训练结束 : avg_loss = 9.0904\n",
      "开始进行validation\n"
     ]
    },
    {
     "name": "stderr",
     "output_type": "stream",
     "text": [
      "100%|██████████| 367/367 [00:13<00:00, 27.60it/s]\n"
     ]
    },
    {
     "name": "stdout",
     "output_type": "stream",
     "text": [
      "epoch 19 测试结束 : avg_loss = 9.1518\n",
      "precision@1 : 83.7899 , precision@3 : 71.7205 , precision@5 : 63.1943 \n",
      "ndcg@1 : 83.7899 , ndcg@3 : 79.9820 , ndcg@5 : 77.5147 \n",
      "----epoch: 20---- \n"
     ]
    },
    {
     "name": "stderr",
     "output_type": "stream",
     "text": [
      "Batch: 100%|██████████| 1467/1467 [01:32<00:00, 15.82it/s]\n"
     ]
    },
    {
     "name": "stdout",
     "output_type": "stream",
     "text": [
      "epoch 20 训练结束 : avg_loss = 9.0794\n",
      "开始进行validation\n"
     ]
    },
    {
     "name": "stderr",
     "output_type": "stream",
     "text": [
      "100%|██████████| 367/367 [00:12<00:00, 29.97it/s]\n"
     ]
    },
    {
     "name": "stdout",
     "output_type": "stream",
     "text": [
      "epoch 20 测试结束 : avg_loss = 9.1595\n",
      "precision@1 : 83.7019 , precision@3 : 71.5790 , precision@5 : 63.1205 \n",
      "ndcg@1 : 83.7019 , ndcg@3 : 79.9199 , ndcg@5 : 77.4867 \n",
      "----epoch: 21---- \n"
     ]
    },
    {
     "name": "stderr",
     "output_type": "stream",
     "text": [
      "Batch: 100%|██████████| 1467/1467 [01:58<00:00, 12.33it/s]\n"
     ]
    },
    {
     "name": "stdout",
     "output_type": "stream",
     "text": [
      "epoch 21 训练结束 : avg_loss = 9.0675\n",
      "开始进行validation\n"
     ]
    },
    {
     "name": "stderr",
     "output_type": "stream",
     "text": [
      "100%|██████████| 367/367 [00:36<00:00, 10.00it/s]\n"
     ]
    },
    {
     "name": "stdout",
     "output_type": "stream",
     "text": [
      "epoch 21 测试结束 : avg_loss = 9.1354\n",
      "precision@1 : 83.8495 , precision@3 : 71.8141 , precision@5 : 63.2196 \n",
      "ndcg@1 : 83.8495 , ndcg@3 : 80.0310 , ndcg@5 : 77.4806 \n",
      "----epoch: 22---- \n"
     ]
    },
    {
     "name": "stderr",
     "output_type": "stream",
     "text": [
      "Batch: 100%|██████████| 1467/1467 [01:55<00:00, 12.65it/s]\n"
     ]
    },
    {
     "name": "stdout",
     "output_type": "stream",
     "text": [
      "epoch 22 训练结束 : avg_loss = 9.0565\n",
      "开始进行validation\n"
     ]
    },
    {
     "name": "stderr",
     "output_type": "stream",
     "text": [
      "100%|██████████| 367/367 [00:12<00:00, 29.03it/s]\n"
     ]
    },
    {
     "name": "stdout",
     "output_type": "stream",
     "text": [
      "epoch 22 测试结束 : avg_loss = 9.1203\n",
      "precision@1 : 83.8538 , precision@3 : 71.8312 , precision@5 : 63.2642 \n",
      "ndcg@1 : 83.8538 , ndcg@3 : 80.1089 , ndcg@5 : 77.6289 \n",
      "----epoch: 23---- \n"
     ]
    },
    {
     "name": "stderr",
     "output_type": "stream",
     "text": [
      "Batch: 100%|██████████| 1467/1467 [01:32<00:00, 15.80it/s]\n"
     ]
    },
    {
     "name": "stdout",
     "output_type": "stream",
     "text": [
      "epoch 23 训练结束 : avg_loss = 9.0457\n",
      "开始进行validation\n"
     ]
    },
    {
     "name": "stderr",
     "output_type": "stream",
     "text": [
      "100%|██████████| 367/367 [00:12<00:00, 29.05it/s]\n"
     ]
    },
    {
     "name": "stdout",
     "output_type": "stream",
     "text": [
      "epoch 23 测试结束 : avg_loss = 9.1210\n",
      "precision@1 : 83.8751 , precision@3 : 71.7985 , precision@5 : 63.2528 \n",
      "ndcg@1 : 83.8751 , ndcg@3 : 80.0910 , ndcg@5 : 77.6065 \n",
      "----epoch: 24---- \n"
     ]
    },
    {
     "name": "stderr",
     "output_type": "stream",
     "text": [
      "Batch: 100%|██████████| 1467/1467 [01:34<00:00, 15.56it/s]\n"
     ]
    },
    {
     "name": "stdout",
     "output_type": "stream",
     "text": [
      "epoch 24 训练结束 : avg_loss = 9.0332\n",
      "开始进行validation\n"
     ]
    },
    {
     "name": "stderr",
     "output_type": "stream",
     "text": [
      "100%|██████████| 367/367 [00:12<00:00, 29.81it/s]\n"
     ]
    },
    {
     "name": "stdout",
     "output_type": "stream",
     "text": [
      "epoch 24 测试结束 : avg_loss = 9.1249\n",
      "precision@1 : 83.9560 , precision@3 : 71.8822 , precision@5 : 63.3013 \n",
      "ndcg@1 : 83.9560 , ndcg@3 : 80.0821 , ndcg@5 : 77.5608 \n",
      "----epoch: 25---- \n"
     ]
    },
    {
     "name": "stderr",
     "output_type": "stream",
     "text": [
      "Batch: 100%|██████████| 1467/1467 [01:33<00:00, 15.75it/s]\n"
     ]
    },
    {
     "name": "stdout",
     "output_type": "stream",
     "text": [
      "epoch 25 训练结束 : avg_loss = 9.0233\n",
      "开始进行validation\n"
     ]
    },
    {
     "name": "stderr",
     "output_type": "stream",
     "text": [
      "100%|██████████| 367/367 [00:12<00:00, 29.33it/s]\n"
     ]
    },
    {
     "name": "stdout",
     "output_type": "stream",
     "text": [
      "epoch 25 测试结束 : avg_loss = 9.0984\n",
      "precision@1 : 83.9134 , precision@3 : 71.9206 , precision@5 : 63.3507 \n",
      "ndcg@1 : 83.9134 , ndcg@3 : 80.1774 , ndcg@5 : 77.6815 \n",
      "----epoch: 26---- \n"
     ]
    },
    {
     "name": "stderr",
     "output_type": "stream",
     "text": [
      "Batch: 100%|██████████| 1467/1467 [01:32<00:00, 15.80it/s]\n"
     ]
    },
    {
     "name": "stdout",
     "output_type": "stream",
     "text": [
      "epoch 26 训练结束 : avg_loss = 9.0122\n",
      "开始进行validation\n"
     ]
    },
    {
     "name": "stderr",
     "output_type": "stream",
     "text": [
      "100%|██████████| 367/367 [00:12<00:00, 29.66it/s]\n"
     ]
    },
    {
     "name": "stdout",
     "output_type": "stream",
     "text": [
      "epoch 26 测试结束 : avg_loss = 9.0898\n",
      "precision@1 : 83.9517 , precision@3 : 71.8383 , precision@5 : 63.3118 \n",
      "ndcg@1 : 83.9517 , ndcg@3 : 80.1740 , ndcg@5 : 77.7263 \n",
      "----epoch: 27---- \n"
     ]
    },
    {
     "name": "stderr",
     "output_type": "stream",
     "text": [
      "Batch: 100%|██████████| 1467/1467 [02:50<00:00,  8.60it/s]\n"
     ]
    },
    {
     "name": "stdout",
     "output_type": "stream",
     "text": [
      "epoch 27 训练结束 : avg_loss = 9.0035\n",
      "开始进行validation\n"
     ]
    },
    {
     "name": "stderr",
     "output_type": "stream",
     "text": [
      "100%|██████████| 367/367 [00:12<00:00, 29.56it/s]\n"
     ]
    },
    {
     "name": "stdout",
     "output_type": "stream",
     "text": [
      "epoch 27 测试结束 : avg_loss = 9.0800\n",
      "precision@1 : 84.0241 , precision@3 : 72.0714 , precision@5 : 63.3718 \n",
      "ndcg@1 : 84.0241 , ndcg@3 : 80.3770 , ndcg@5 : 77.8476 \n",
      "----epoch: 28---- \n"
     ]
    },
    {
     "name": "stderr",
     "output_type": "stream",
     "text": [
      "Batch: 100%|██████████| 1467/1467 [01:34<00:00, 15.49it/s]\n"
     ]
    },
    {
     "name": "stdout",
     "output_type": "stream",
     "text": [
      "epoch 28 训练结束 : avg_loss = 8.9929\n",
      "开始进行validation\n"
     ]
    },
    {
     "name": "stderr",
     "output_type": "stream",
     "text": [
      "100%|██████████| 367/367 [00:13<00:00, 27.03it/s]\n"
     ]
    },
    {
     "name": "stdout",
     "output_type": "stream",
     "text": [
      "epoch 28 测试结束 : avg_loss = 9.0809\n",
      "precision@1 : 83.9560 , precision@3 : 71.9802 , precision@5 : 63.4265 \n",
      "ndcg@1 : 83.9560 , ndcg@3 : 80.2000 , ndcg@5 : 77.7238 \n",
      "----epoch: 29---- \n"
     ]
    },
    {
     "name": "stderr",
     "output_type": "stream",
     "text": [
      "Batch: 100%|██████████| 1467/1467 [01:34<00:00, 15.57it/s]\n"
     ]
    },
    {
     "name": "stdout",
     "output_type": "stream",
     "text": [
      "epoch 29 训练结束 : avg_loss = 8.9822\n",
      "开始进行validation\n"
     ]
    },
    {
     "name": "stderr",
     "output_type": "stream",
     "text": [
      "100%|██████████| 367/367 [00:12<00:00, 29.03it/s]\n"
     ]
    },
    {
     "name": "stdout",
     "output_type": "stream",
     "text": [
      "epoch 29 测试结束 : avg_loss = 9.0619\n",
      "precision@1 : 84.0794 , precision@3 : 72.0838 , precision@5 : 63.4143 \n",
      "ndcg@1 : 84.0794 , ndcg@3 : 80.3661 , ndcg@5 : 77.8217 \n",
      "----epoch: 30---- \n"
     ]
    },
    {
     "name": "stderr",
     "output_type": "stream",
     "text": [
      "Batch: 100%|██████████| 1467/1467 [01:32<00:00, 15.84it/s]\n"
     ]
    },
    {
     "name": "stdout",
     "output_type": "stream",
     "text": [
      "epoch 30 训练结束 : avg_loss = 8.9723\n",
      "开始进行validation\n"
     ]
    },
    {
     "name": "stderr",
     "output_type": "stream",
     "text": [
      "100%|██████████| 367/367 [00:12<00:00, 29.64it/s]\n"
     ]
    },
    {
     "name": "stdout",
     "output_type": "stream",
     "text": [
      "epoch 30 测试结束 : avg_loss = 9.0639\n",
      "precision@1 : 83.9049 , precision@3 : 72.2285 , precision@5 : 63.4768 \n",
      "ndcg@1 : 83.9049 , ndcg@3 : 80.4346 , ndcg@5 : 77.8805 \n",
      "----epoch: 31---- \n"
     ]
    },
    {
     "name": "stderr",
     "output_type": "stream",
     "text": [
      "Batch: 100%|██████████| 1467/1467 [01:32<00:00, 15.94it/s]\n"
     ]
    },
    {
     "name": "stdout",
     "output_type": "stream",
     "text": [
      "epoch 31 训练结束 : avg_loss = 8.9647\n",
      "开始进行validation\n"
     ]
    },
    {
     "name": "stderr",
     "output_type": "stream",
     "text": [
      "100%|██████████| 367/367 [00:12<00:00, 29.33it/s]\n"
     ]
    },
    {
     "name": "stdout",
     "output_type": "stream",
     "text": [
      "epoch 31 测试结束 : avg_loss = 9.0556\n",
      "precision@1 : 84.1178 , precision@3 : 72.1306 , precision@5 : 63.5032 \n",
      "ndcg@1 : 84.1178 , ndcg@3 : 80.4167 , ndcg@5 : 77.9129 \n",
      "----epoch: 32---- \n"
     ]
    },
    {
     "name": "stderr",
     "output_type": "stream",
     "text": [
      "Batch: 100%|██████████| 1467/1467 [01:31<00:00, 15.97it/s]\n"
     ]
    },
    {
     "name": "stdout",
     "output_type": "stream",
     "text": [
      "epoch 32 训练结束 : avg_loss = 8.9550\n",
      "开始进行validation\n"
     ]
    },
    {
     "name": "stderr",
     "output_type": "stream",
     "text": [
      "100%|██████████| 367/367 [00:12<00:00, 30.18it/s]\n"
     ]
    },
    {
     "name": "stdout",
     "output_type": "stream",
     "text": [
      "epoch 32 测试结束 : avg_loss = 9.0432\n",
      "precision@1 : 83.9304 , precision@3 : 72.0568 , precision@5 : 63.4941 \n",
      "ndcg@1 : 83.9304 , ndcg@3 : 80.3130 , ndcg@5 : 77.8647 \n",
      "----epoch: 33---- \n"
     ]
    },
    {
     "name": "stderr",
     "output_type": "stream",
     "text": [
      "Batch: 100%|██████████| 1467/1467 [01:53<00:00, 12.96it/s]\n"
     ]
    },
    {
     "name": "stdout",
     "output_type": "stream",
     "text": [
      "epoch 33 训练结束 : avg_loss = 8.9451\n",
      "开始进行validation\n"
     ]
    },
    {
     "name": "stderr",
     "output_type": "stream",
     "text": [
      "100%|██████████| 367/367 [00:11<00:00, 30.93it/s]\n"
     ]
    },
    {
     "name": "stdout",
     "output_type": "stream",
     "text": [
      "epoch 33 测试结束 : avg_loss = 9.0589\n",
      "precision@1 : 83.9546 , precision@3 : 72.1258 , precision@5 : 63.4830 \n",
      "ndcg@1 : 83.9546 , ndcg@3 : 80.3216 , ndcg@5 : 77.8075 \n",
      "----epoch: 34---- \n"
     ]
    },
    {
     "name": "stderr",
     "output_type": "stream",
     "text": [
      "Batch: 100%|██████████| 1467/1467 [01:31<00:00, 15.98it/s]\n"
     ]
    },
    {
     "name": "stdout",
     "output_type": "stream",
     "text": [
      "epoch 34 训练结束 : avg_loss = 8.9358\n",
      "开始进行validation\n"
     ]
    },
    {
     "name": "stderr",
     "output_type": "stream",
     "text": [
      "100%|██████████| 367/367 [00:12<00:00, 30.10it/s]\n"
     ]
    },
    {
     "name": "stdout",
     "output_type": "stream",
     "text": [
      "epoch 34 测试结束 : avg_loss = 9.0283\n",
      "precision@1 : 83.9504 , precision@3 : 72.1448 , precision@5 : 63.5909 \n",
      "ndcg@1 : 83.9504 , ndcg@3 : 80.3259 , ndcg@5 : 77.8795 \n",
      "----epoch: 35---- \n"
     ]
    },
    {
     "name": "stderr",
     "output_type": "stream",
     "text": [
      "Batch: 100%|██████████| 1467/1467 [02:02<00:00, 12.02it/s]\n"
     ]
    },
    {
     "name": "stdout",
     "output_type": "stream",
     "text": [
      "epoch 35 训练结束 : avg_loss = 8.9287\n",
      "开始进行validation\n"
     ]
    },
    {
     "name": "stderr",
     "output_type": "stream",
     "text": [
      "100%|██████████| 367/367 [00:12<00:00, 30.58it/s]\n"
     ]
    },
    {
     "name": "stdout",
     "output_type": "stream",
     "text": [
      "epoch 35 测试结束 : avg_loss = 9.0450\n",
      "precision@1 : 84.0156 , precision@3 : 72.2063 , precision@5 : 63.5599 \n",
      "ndcg@1 : 84.0156 , ndcg@3 : 80.4030 , ndcg@5 : 77.9068 \n",
      "----epoch: 36---- \n"
     ]
    },
    {
     "name": "stderr",
     "output_type": "stream",
     "text": [
      "Batch: 100%|██████████| 1467/1467 [01:32<00:00, 15.80it/s]\n"
     ]
    },
    {
     "name": "stdout",
     "output_type": "stream",
     "text": [
      "epoch 36 训练结束 : avg_loss = 8.9201\n",
      "开始进行validation\n"
     ]
    },
    {
     "name": "stderr",
     "output_type": "stream",
     "text": [
      "100%|██████████| 367/367 [00:12<00:00, 30.40it/s]\n"
     ]
    },
    {
     "name": "stdout",
     "output_type": "stream",
     "text": [
      "epoch 36 测试结束 : avg_loss = 9.0067\n",
      "precision@1 : 84.0539 , precision@3 : 72.2938 , precision@5 : 63.5912 \n",
      "ndcg@1 : 84.0539 , ndcg@3 : 80.5424 , ndcg@5 : 78.0135 \n",
      "----epoch: 37---- \n"
     ]
    },
    {
     "name": "stderr",
     "output_type": "stream",
     "text": [
      "Batch: 100%|██████████| 1467/1467 [01:32<00:00, 15.87it/s]\n"
     ]
    },
    {
     "name": "stdout",
     "output_type": "stream",
     "text": [
      "epoch 37 训练结束 : avg_loss = 8.9102\n",
      "开始进行validation\n"
     ]
    },
    {
     "name": "stderr",
     "output_type": "stream",
     "text": [
      "100%|██████████| 367/367 [00:12<00:00, 29.83it/s]\n"
     ]
    },
    {
     "name": "stdout",
     "output_type": "stream",
     "text": [
      "epoch 37 测试结束 : avg_loss = 9.0043\n",
      "precision@1 : 84.1348 , precision@3 : 72.2228 , precision@5 : 63.6334 \n",
      "ndcg@1 : 84.1348 , ndcg@3 : 80.5187 , ndcg@5 : 78.0762 \n",
      "----epoch: 38---- \n"
     ]
    },
    {
     "name": "stderr",
     "output_type": "stream",
     "text": [
      "Batch: 100%|██████████| 1467/1467 [01:32<00:00, 15.86it/s]\n"
     ]
    },
    {
     "name": "stdout",
     "output_type": "stream",
     "text": [
      "epoch 38 训练结束 : avg_loss = 8.9034\n",
      "开始进行validation\n"
     ]
    },
    {
     "name": "stderr",
     "output_type": "stream",
     "text": [
      "100%|██████████| 367/367 [00:12<00:00, 30.40it/s]\n"
     ]
    },
    {
     "name": "stdout",
     "output_type": "stream",
     "text": [
      "epoch 38 测试结束 : avg_loss = 9.0146\n",
      "precision@1 : 83.9419 , precision@3 : 72.1859 , precision@5 : 63.5914 \n",
      "ndcg@1 : 83.9419 , ndcg@3 : 80.3647 , ndcg@5 : 77.9047 \n",
      "----epoch: 39---- \n"
     ]
    },
    {
     "name": "stderr",
     "output_type": "stream",
     "text": [
      "Batch: 100%|██████████| 1467/1467 [01:31<00:00, 15.95it/s]\n"
     ]
    },
    {
     "name": "stdout",
     "output_type": "stream",
     "text": [
      "epoch 39 训练结束 : avg_loss = 8.8949\n",
      "开始进行validation\n"
     ]
    },
    {
     "name": "stderr",
     "output_type": "stream",
     "text": [
      "100%|██████████| 367/367 [00:11<00:00, 30.89it/s]\n"
     ]
    },
    {
     "name": "stdout",
     "output_type": "stream",
     "text": [
      "epoch 39 测试结束 : avg_loss = 9.0014\n",
      "precision@1 : 84.1007 , precision@3 : 72.3094 , precision@5 : 63.5886 \n",
      "ndcg@1 : 84.1007 , ndcg@3 : 80.5771 , ndcg@5 : 78.0548 \n",
      "----epoch: 40---- \n"
     ]
    },
    {
     "name": "stderr",
     "output_type": "stream",
     "text": [
      "Batch: 100%|██████████| 1467/1467 [01:31<00:00, 16.01it/s]\n"
     ]
    },
    {
     "name": "stdout",
     "output_type": "stream",
     "text": [
      "epoch 40 训练结束 : avg_loss = 8.8842\n",
      "开始进行validation\n"
     ]
    },
    {
     "name": "stderr",
     "output_type": "stream",
     "text": [
      "100%|██████████| 367/367 [00:12<00:00, 30.31it/s]\n"
     ]
    },
    {
     "name": "stdout",
     "output_type": "stream",
     "text": [
      "epoch 40 测试结束 : avg_loss = 8.9898\n",
      "precision@1 : 84.0355 , precision@3 : 72.2924 , precision@5 : 63.6885 \n",
      "ndcg@1 : 84.0355 , ndcg@3 : 80.5296 , ndcg@5 : 78.0616 \n",
      "----epoch: 41---- \n"
     ]
    },
    {
     "name": "stderr",
     "output_type": "stream",
     "text": [
      "Batch: 100%|██████████| 1467/1467 [01:32<00:00, 15.88it/s]\n"
     ]
    },
    {
     "name": "stdout",
     "output_type": "stream",
     "text": [
      "epoch 41 训练结束 : avg_loss = 8.8739\n",
      "开始进行validation\n"
     ]
    },
    {
     "name": "stderr",
     "output_type": "stream",
     "text": [
      "100%|██████████| 367/367 [00:12<00:00, 29.66it/s]\n"
     ]
    },
    {
     "name": "stdout",
     "output_type": "stream",
     "text": [
      "epoch 41 测试结束 : avg_loss = 9.0070\n",
      "precision@1 : 83.9262 , precision@3 : 72.1495 , precision@5 : 63.7356 \n",
      "ndcg@1 : 83.9262 , ndcg@3 : 80.2436 , ndcg@5 : 77.8733 \n",
      "----epoch: 42---- \n"
     ]
    },
    {
     "name": "stderr",
     "output_type": "stream",
     "text": [
      "Batch: 100%|██████████| 1467/1467 [01:32<00:00, 15.88it/s]\n"
     ]
    },
    {
     "name": "stdout",
     "output_type": "stream",
     "text": [
      "epoch 42 训练结束 : avg_loss = 8.8677\n",
      "开始进行validation\n"
     ]
    },
    {
     "name": "stderr",
     "output_type": "stream",
     "text": [
      "100%|██████████| 367/367 [00:12<00:00, 29.07it/s]\n"
     ]
    },
    {
     "name": "stdout",
     "output_type": "stream",
     "text": [
      "epoch 42 测试结束 : avg_loss = 8.9704\n",
      "precision@1 : 84.2668 , precision@3 : 72.2361 , precision@5 : 63.7132 \n",
      "ndcg@1 : 84.2668 , ndcg@3 : 80.5073 , ndcg@5 : 78.0933 \n",
      "----epoch: 43---- \n"
     ]
    },
    {
     "name": "stderr",
     "output_type": "stream",
     "text": [
      "Batch: 100%|██████████| 1467/1467 [01:31<00:00, 16.03it/s]\n"
     ]
    },
    {
     "name": "stdout",
     "output_type": "stream",
     "text": [
      "epoch 43 训练结束 : avg_loss = 8.8610\n",
      "开始进行validation\n"
     ]
    },
    {
     "name": "stderr",
     "output_type": "stream",
     "text": [
      "100%|██████████| 367/367 [00:12<00:00, 29.59it/s]\n"
     ]
    },
    {
     "name": "stdout",
     "output_type": "stream",
     "text": [
      "epoch 43 测试结束 : avg_loss = 8.9672\n",
      "precision@1 : 84.0142 , precision@3 : 72.4187 , precision@5 : 63.7283 \n",
      "ndcg@1 : 84.0142 , ndcg@3 : 80.5828 , ndcg@5 : 78.0765 \n",
      "----epoch: 44---- \n"
     ]
    },
    {
     "name": "stderr",
     "output_type": "stream",
     "text": [
      "Batch: 100%|██████████| 1467/1467 [02:49<00:00,  8.68it/s]\n"
     ]
    },
    {
     "name": "stdout",
     "output_type": "stream",
     "text": [
      "epoch 44 训练结束 : avg_loss = 8.8539\n",
      "开始进行validation\n"
     ]
    },
    {
     "name": "stderr",
     "output_type": "stream",
     "text": [
      "100%|██████████| 367/367 [00:36<00:00, 10.17it/s]\n"
     ]
    },
    {
     "name": "stdout",
     "output_type": "stream",
     "text": [
      "epoch 44 测试结束 : avg_loss = 8.9539\n",
      "precision@1 : 84.2058 , precision@3 : 72.3591 , precision@5 : 63.7441 \n",
      "ndcg@1 : 84.2058 , ndcg@3 : 80.5959 , ndcg@5 : 78.1220 \n",
      "----epoch: 45---- \n"
     ]
    },
    {
     "name": "stderr",
     "output_type": "stream",
     "text": [
      "Batch: 100%|██████████| 1467/1467 [01:53<00:00, 12.97it/s]\n"
     ]
    },
    {
     "name": "stdout",
     "output_type": "stream",
     "text": [
      "epoch 45 训练结束 : avg_loss = 8.8455\n",
      "开始进行validation\n"
     ]
    },
    {
     "name": "stderr",
     "output_type": "stream",
     "text": [
      "100%|██████████| 367/367 [00:12<00:00, 29.34it/s]\n"
     ]
    },
    {
     "name": "stdout",
     "output_type": "stream",
     "text": [
      "epoch 45 测试结束 : avg_loss = 8.9679\n",
      "precision@1 : 84.2314 , precision@3 : 72.3392 , precision@5 : 63.7697 \n",
      "ndcg@1 : 84.2314 , ndcg@3 : 80.5923 , ndcg@5 : 78.1417 \n",
      "----epoch: 46---- \n"
     ]
    },
    {
     "name": "stderr",
     "output_type": "stream",
     "text": [
      "Batch: 100%|██████████| 1467/1467 [01:31<00:00, 16.04it/s]\n"
     ]
    },
    {
     "name": "stdout",
     "output_type": "stream",
     "text": [
      "epoch 46 训练结束 : avg_loss = 8.8359\n",
      "开始进行validation\n"
     ]
    },
    {
     "name": "stderr",
     "output_type": "stream",
     "text": [
      "100%|██████████| 367/367 [00:12<00:00, 29.69it/s]\n"
     ]
    },
    {
     "name": "stdout",
     "output_type": "stream",
     "text": [
      "epoch 46 测试结束 : avg_loss = 8.9688\n",
      "precision@1 : 84.3136 , precision@3 : 72.3042 , precision@5 : 63.7084 \n",
      "ndcg@1 : 84.3136 , ndcg@3 : 80.5622 , ndcg@5 : 78.0803 \n",
      "----epoch: 47---- \n"
     ]
    },
    {
     "name": "stderr",
     "output_type": "stream",
     "text": [
      "Batch: 100%|██████████| 1467/1467 [01:32<00:00, 15.93it/s]\n"
     ]
    },
    {
     "name": "stdout",
     "output_type": "stream",
     "text": [
      "epoch 47 训练结束 : avg_loss = 8.8254\n",
      "开始进行validation\n"
     ]
    },
    {
     "name": "stderr",
     "output_type": "stream",
     "text": [
      "100%|██████████| 367/367 [00:12<00:00, 28.67it/s]\n"
     ]
    },
    {
     "name": "stdout",
     "output_type": "stream",
     "text": [
      "epoch 47 测试结束 : avg_loss = 8.9289\n",
      "precision@1 : 84.2966 , precision@3 : 72.4400 , precision@5 : 63.8244 \n",
      "ndcg@1 : 84.2966 , ndcg@3 : 80.7235 , ndcg@5 : 78.2536 \n",
      "----epoch: 48---- \n"
     ]
    },
    {
     "name": "stderr",
     "output_type": "stream",
     "text": [
      "Batch: 100%|██████████| 1467/1467 [01:50<00:00, 13.28it/s]\n"
     ]
    },
    {
     "name": "stdout",
     "output_type": "stream",
     "text": [
      "epoch 48 训练结束 : avg_loss = 8.8181\n",
      "开始进行validation\n"
     ]
    },
    {
     "name": "stderr",
     "output_type": "stream",
     "text": [
      "100%|██████████| 367/367 [00:36<00:00, 10.19it/s]\n"
     ]
    },
    {
     "name": "stdout",
     "output_type": "stream",
     "text": [
      "epoch 48 测试结束 : avg_loss = 8.9304\n",
      "precision@1 : 84.3335 , precision@3 : 72.4925 , precision@5 : 63.8361 \n",
      "ndcg@1 : 84.3335 , ndcg@3 : 80.7527 , ndcg@5 : 78.2689 \n",
      "----epoch: 49---- \n"
     ]
    },
    {
     "name": "stderr",
     "output_type": "stream",
     "text": [
      "Batch: 100%|██████████| 1467/1467 [04:42<00:00,  5.19it/s]\n"
     ]
    },
    {
     "name": "stdout",
     "output_type": "stream",
     "text": [
      "epoch 49 训练结束 : avg_loss = 8.8123\n",
      "开始进行validation\n"
     ]
    },
    {
     "name": "stderr",
     "output_type": "stream",
     "text": [
      "100%|██████████| 367/367 [00:35<00:00, 10.46it/s]\n"
     ]
    },
    {
     "name": "stdout",
     "output_type": "stream",
     "text": [
      "epoch 49 测试结束 : avg_loss = 8.9202\n",
      "precision@1 : 84.4286 , precision@3 : 72.5663 , precision@5 : 63.8588 \n",
      "ndcg@1 : 84.4286 , ndcg@3 : 80.8826 , ndcg@5 : 78.3751 \n",
      "----epoch: 50---- \n"
     ]
    },
    {
     "name": "stderr",
     "output_type": "stream",
     "text": [
      "Batch: 100%|██████████| 1467/1467 [02:35<00:00,  9.44it/s]\n"
     ]
    },
    {
     "name": "stdout",
     "output_type": "stream",
     "text": [
      "epoch 50 训练结束 : avg_loss = 8.8041\n",
      "开始进行validation\n"
     ]
    },
    {
     "name": "stderr",
     "output_type": "stream",
     "text": [
      "100%|██████████| 367/367 [00:12<00:00, 30.43it/s]\n"
     ]
    },
    {
     "name": "stdout",
     "output_type": "stream",
     "text": [
      "epoch 50 测试结束 : avg_loss = 8.9457\n",
      "precision@1 : 84.4413 , precision@3 : 72.4097 , precision@5 : 63.7722 \n",
      "ndcg@1 : 84.4413 , ndcg@3 : 80.8010 , ndcg@5 : 78.3683 \n",
      "----epoch: 51---- \n"
     ]
    },
    {
     "name": "stderr",
     "output_type": "stream",
     "text": [
      "Batch: 100%|██████████| 1467/1467 [01:31<00:00, 16.04it/s]\n"
     ]
    },
    {
     "name": "stdout",
     "output_type": "stream",
     "text": [
      "epoch 51 训练结束 : avg_loss = 8.7966\n",
      "开始进行validation\n"
     ]
    },
    {
     "name": "stderr",
     "output_type": "stream",
     "text": [
      "100%|██████████| 367/367 [00:12<00:00, 29.33it/s]\n"
     ]
    },
    {
     "name": "stdout",
     "output_type": "stream",
     "text": [
      "epoch 51 测试结束 : avg_loss = 8.9306\n",
      "precision@1 : 84.3221 , precision@3 : 72.5175 , precision@5 : 63.8052 \n",
      "ndcg@1 : 84.3221 , ndcg@3 : 80.7887 , ndcg@5 : 78.2831 \n",
      "----epoch: 52---- \n"
     ]
    },
    {
     "name": "stderr",
     "output_type": "stream",
     "text": [
      "Batch: 100%|██████████| 1467/1467 [01:31<00:00, 15.95it/s]\n"
     ]
    },
    {
     "name": "stdout",
     "output_type": "stream",
     "text": [
      "epoch 52 训练结束 : avg_loss = 8.7863\n",
      "开始进行validation\n"
     ]
    },
    {
     "name": "stderr",
     "output_type": "stream",
     "text": [
      "100%|██████████| 367/367 [00:12<00:00, 30.02it/s]\n"
     ]
    },
    {
     "name": "stdout",
     "output_type": "stream",
     "text": [
      "epoch 52 测试结束 : avg_loss = 8.9628\n",
      "precision@1 : 84.2710 , precision@3 : 72.3108 , precision@5 : 63.6780 \n",
      "ndcg@1 : 84.2710 , ndcg@3 : 80.5640 , ndcg@5 : 78.0521 \n",
      "----epoch: 53---- \n"
     ]
    },
    {
     "name": "stderr",
     "output_type": "stream",
     "text": [
      "Batch: 100%|██████████| 1467/1467 [01:32<00:00, 15.82it/s]\n"
     ]
    },
    {
     "name": "stdout",
     "output_type": "stream",
     "text": [
      "epoch 53 训练结束 : avg_loss = 8.7813\n",
      "开始进行validation\n"
     ]
    },
    {
     "name": "stderr",
     "output_type": "stream",
     "text": [
      "100%|██████████| 367/367 [00:11<00:00, 30.88it/s]\n"
     ]
    },
    {
     "name": "stdout",
     "output_type": "stream",
     "text": [
      "epoch 53 测试结束 : avg_loss = 8.9499\n",
      "precision@1 : 84.3562 , precision@3 : 72.3709 , precision@5 : 63.8273 \n",
      "ndcg@1 : 84.3562 , ndcg@3 : 80.5817 , ndcg@5 : 78.1517 \n",
      "----epoch: 54---- \n"
     ]
    },
    {
     "name": "stderr",
     "output_type": "stream",
     "text": [
      "Batch: 100%|██████████| 1467/1467 [01:32<00:00, 15.94it/s]\n"
     ]
    },
    {
     "name": "stdout",
     "output_type": "stream",
     "text": [
      "epoch 54 训练结束 : avg_loss = 8.7734\n",
      "开始进行validation\n"
     ]
    },
    {
     "name": "stderr",
     "output_type": "stream",
     "text": [
      "100%|██████████| 367/367 [00:12<00:00, 29.36it/s]\n"
     ]
    },
    {
     "name": "stdout",
     "output_type": "stream",
     "text": [
      "epoch 54 测试结束 : avg_loss = 8.8951\n",
      "precision@1 : 84.3719 , precision@3 : 72.4475 , precision@5 : 63.8883 \n",
      "ndcg@1 : 84.3719 , ndcg@3 : 80.8232 , ndcg@5 : 78.4423 \n",
      "----epoch: 55---- \n"
     ]
    },
    {
     "name": "stderr",
     "output_type": "stream",
     "text": [
      "Batch: 100%|██████████| 1467/1467 [01:30<00:00, 16.13it/s]\n"
     ]
    },
    {
     "name": "stdout",
     "output_type": "stream",
     "text": [
      "epoch 55 训练结束 : avg_loss = 8.7672\n",
      "开始进行validation\n"
     ]
    },
    {
     "name": "stderr",
     "output_type": "stream",
     "text": [
      "100%|██████████| 367/367 [00:12<00:00, 30.13it/s]\n"
     ]
    },
    {
     "name": "stdout",
     "output_type": "stream",
     "text": [
      "epoch 55 测试结束 : avg_loss = 8.8754\n",
      "precision@1 : 84.4754 , precision@3 : 72.5724 , precision@5 : 63.9167 \n",
      "ndcg@1 : 84.4754 , ndcg@3 : 80.8769 , ndcg@5 : 78.3884 \n",
      "----epoch: 56---- \n"
     ]
    },
    {
     "name": "stderr",
     "output_type": "stream",
     "text": [
      "Batch: 100%|██████████| 1467/1467 [01:31<00:00, 15.99it/s]\n"
     ]
    },
    {
     "name": "stdout",
     "output_type": "stream",
     "text": [
      "epoch 56 训练结束 : avg_loss = 8.7590\n",
      "开始进行validation\n"
     ]
    },
    {
     "name": "stderr",
     "output_type": "stream",
     "text": [
      "100%|██████████| 367/367 [00:11<00:00, 30.59it/s]\n"
     ]
    },
    {
     "name": "stdout",
     "output_type": "stream",
     "text": [
      "epoch 56 测试结束 : avg_loss = 8.8822\n",
      "precision@1 : 84.4740 , precision@3 : 72.5317 , precision@5 : 63.9096 \n",
      "ndcg@1 : 84.4740 , ndcg@3 : 80.8543 , ndcg@5 : 78.3952 \n",
      "----epoch: 57---- \n"
     ]
    },
    {
     "name": "stderr",
     "output_type": "stream",
     "text": [
      "Batch: 100%|██████████| 1467/1467 [01:31<00:00, 16.09it/s]\n"
     ]
    },
    {
     "name": "stdout",
     "output_type": "stream",
     "text": [
      "epoch 57 训练结束 : avg_loss = 8.7502\n",
      "开始进行validation\n"
     ]
    },
    {
     "name": "stderr",
     "output_type": "stream",
     "text": [
      "100%|██████████| 367/367 [00:12<00:00, 29.62it/s]\n"
     ]
    },
    {
     "name": "stdout",
     "output_type": "stream",
     "text": [
      "epoch 57 测试结束 : avg_loss = 8.8975\n",
      "precision@1 : 84.4796 , precision@3 : 72.5658 , precision@5 : 63.9348 \n",
      "ndcg@1 : 84.4796 , ndcg@3 : 80.7976 , ndcg@5 : 78.3229 \n",
      "----epoch: 58---- \n"
     ]
    },
    {
     "name": "stderr",
     "output_type": "stream",
     "text": [
      "Batch: 100%|██████████| 1467/1467 [01:31<00:00, 16.02it/s]\n"
     ]
    },
    {
     "name": "stdout",
     "output_type": "stream",
     "text": [
      "epoch 58 训练结束 : avg_loss = 8.7416\n",
      "开始进行validation\n"
     ]
    },
    {
     "name": "stderr",
     "output_type": "stream",
     "text": [
      "100%|██████████| 367/367 [00:11<00:00, 30.74it/s]\n"
     ]
    },
    {
     "name": "stdout",
     "output_type": "stream",
     "text": [
      "epoch 58 测试结束 : avg_loss = 8.8751\n",
      "precision@1 : 84.3732 , precision@3 : 72.4631 , precision@5 : 63.9508 \n",
      "ndcg@1 : 84.3732 , ndcg@3 : 80.8400 , ndcg@5 : 78.4704 \n",
      "----epoch: 59---- \n"
     ]
    },
    {
     "name": "stderr",
     "output_type": "stream",
     "text": [
      "Batch: 100%|██████████| 1467/1467 [01:31<00:00, 16.02it/s]\n"
     ]
    },
    {
     "name": "stdout",
     "output_type": "stream",
     "text": [
      "epoch 59 训练结束 : avg_loss = 8.7317\n",
      "开始进行validation\n"
     ]
    },
    {
     "name": "stderr",
     "output_type": "stream",
     "text": [
      "100%|██████████| 367/367 [00:11<00:00, 30.60it/s]\n"
     ]
    },
    {
     "name": "stdout",
     "output_type": "stream",
     "text": [
      "epoch 59 测试结束 : avg_loss = 8.8527\n",
      "precision@1 : 84.5081 , precision@3 : 72.5454 , precision@5 : 63.9349 \n",
      "ndcg@1 : 84.5081 , ndcg@3 : 80.9232 , ndcg@5 : 78.4828 \n",
      "----epoch: 60---- \n"
     ]
    },
    {
     "name": "stderr",
     "output_type": "stream",
     "text": [
      "Batch: 100%|██████████| 1467/1467 [01:31<00:00, 16.05it/s]\n"
     ]
    },
    {
     "name": "stdout",
     "output_type": "stream",
     "text": [
      "epoch 60 训练结束 : avg_loss = 8.7270\n",
      "开始进行validation\n"
     ]
    },
    {
     "name": "stderr",
     "output_type": "stream",
     "text": [
      "100%|██████████| 367/367 [00:12<00:00, 29.82it/s]\n"
     ]
    },
    {
     "name": "stdout",
     "output_type": "stream",
     "text": [
      "epoch 60 测试结束 : avg_loss = 8.8868\n",
      "precision@1 : 84.2170 , precision@3 : 72.6552 , precision@5 : 63.9536 \n",
      "ndcg@1 : 84.2170 , ndcg@3 : 80.8114 , ndcg@5 : 78.3011 \n",
      "----epoch: 61---- \n"
     ]
    },
    {
     "name": "stderr",
     "output_type": "stream",
     "text": [
      "Batch: 100%|██████████| 1467/1467 [01:30<00:00, 16.21it/s]\n"
     ]
    },
    {
     "name": "stdout",
     "output_type": "stream",
     "text": [
      "epoch 61 训练结束 : avg_loss = 8.7160\n",
      "开始进行validation\n"
     ]
    },
    {
     "name": "stderr",
     "output_type": "stream",
     "text": [
      "100%|██████████| 367/367 [00:11<00:00, 30.59it/s]\n"
     ]
    },
    {
     "name": "stdout",
     "output_type": "stream",
     "text": [
      "epoch 61 测试结束 : avg_loss = 8.8423\n",
      "precision@1 : 84.5265 , precision@3 : 72.7048 , precision@5 : 64.0526 \n",
      "ndcg@1 : 84.5265 , ndcg@3 : 80.9698 , ndcg@5 : 78.4931 \n",
      "----epoch: 62---- \n"
     ]
    },
    {
     "name": "stderr",
     "output_type": "stream",
     "text": [
      "Batch: 100%|██████████| 1467/1467 [01:31<00:00, 16.00it/s]\n"
     ]
    },
    {
     "name": "stdout",
     "output_type": "stream",
     "text": [
      "epoch 62 训练结束 : avg_loss = 8.7090\n",
      "开始进行validation\n"
     ]
    },
    {
     "name": "stderr",
     "output_type": "stream",
     "text": [
      "100%|██████████| 367/367 [00:12<00:00, 30.20it/s]\n"
     ]
    },
    {
     "name": "stdout",
     "output_type": "stream",
     "text": [
      "epoch 62 测试结束 : avg_loss = 8.8642\n",
      "precision@1 : 84.3335 , precision@3 : 72.5175 , precision@5 : 63.9735 \n",
      "ndcg@1 : 84.3335 , ndcg@3 : 80.7621 , ndcg@5 : 78.3279 \n",
      "----epoch: 63---- \n"
     ]
    },
    {
     "name": "stderr",
     "output_type": "stream",
     "text": [
      "Batch: 100%|██████████| 1467/1467 [01:31<00:00, 15.96it/s]\n"
     ]
    },
    {
     "name": "stdout",
     "output_type": "stream",
     "text": [
      "epoch 63 训练结束 : avg_loss = 8.7041\n",
      "开始进行validation\n"
     ]
    },
    {
     "name": "stderr",
     "output_type": "stream",
     "text": [
      "100%|██████████| 367/367 [00:12<00:00, 28.96it/s]\n"
     ]
    },
    {
     "name": "stdout",
     "output_type": "stream",
     "text": [
      "epoch 63 测试结束 : avg_loss = 8.8442\n",
      "precision@1 : 84.3264 , precision@3 : 72.7384 , precision@5 : 64.0248 \n",
      "ndcg@1 : 84.3264 , ndcg@3 : 80.9181 , ndcg@5 : 78.3911 \n",
      "----epoch: 64---- \n"
     ]
    },
    {
     "name": "stderr",
     "output_type": "stream",
     "text": [
      "Batch: 100%|██████████| 1467/1467 [01:31<00:00, 16.10it/s]\n"
     ]
    },
    {
     "name": "stdout",
     "output_type": "stream",
     "text": [
      "epoch 64 训练结束 : avg_loss = 8.6955\n",
      "开始进行validation\n"
     ]
    },
    {
     "name": "stderr",
     "output_type": "stream",
     "text": [
      "100%|██████████| 367/367 [00:11<00:00, 31.46it/s]\n"
     ]
    },
    {
     "name": "stdout",
     "output_type": "stream",
     "text": [
      "epoch 64 测试结束 : avg_loss = 8.8268\n",
      "precision@1 : 84.5648 , precision@3 : 72.6390 , precision@5 : 64.0703 \n",
      "ndcg@1 : 84.5648 , ndcg@3 : 80.9190 , ndcg@5 : 78.4789 \n",
      "----epoch: 65---- \n"
     ]
    },
    {
     "name": "stderr",
     "output_type": "stream",
     "text": [
      "Batch: 100%|██████████| 1467/1467 [01:45<00:00, 13.85it/s]\n"
     ]
    },
    {
     "name": "stdout",
     "output_type": "stream",
     "text": [
      "epoch 65 训练结束 : avg_loss = 8.6876\n",
      "开始进行validation\n"
     ]
    },
    {
     "name": "stderr",
     "output_type": "stream",
     "text": [
      "100%|██████████| 367/367 [00:11<00:00, 30.77it/s]\n"
     ]
    },
    {
     "name": "stdout",
     "output_type": "stream",
     "text": [
      "epoch 65 测试结束 : avg_loss = 8.8383\n",
      "precision@1 : 84.5619 , precision@3 : 72.6608 , precision@5 : 64.0972 \n",
      "ndcg@1 : 84.5619 , ndcg@3 : 80.9367 , ndcg@5 : 78.5111 \n",
      "----epoch: 66---- \n"
     ]
    },
    {
     "name": "stderr",
     "output_type": "stream",
     "text": [
      "Batch: 100%|██████████| 1467/1467 [01:31<00:00, 16.00it/s]\n"
     ]
    },
    {
     "name": "stdout",
     "output_type": "stream",
     "text": [
      "epoch 66 训练结束 : avg_loss = 8.6800\n",
      "开始进行validation\n"
     ]
    },
    {
     "name": "stderr",
     "output_type": "stream",
     "text": [
      "100%|██████████| 367/367 [00:11<00:00, 31.37it/s]\n"
     ]
    },
    {
     "name": "stdout",
     "output_type": "stream",
     "text": [
      "epoch 66 测试结束 : avg_loss = 8.9201\n",
      "precision@1 : 83.9262 , precision@3 : 72.4546 , precision@5 : 63.8409 \n",
      "ndcg@1 : 83.9262 , ndcg@3 : 80.4983 , ndcg@5 : 78.0650 \n",
      "----epoch: 67---- \n"
     ]
    },
    {
     "name": "stderr",
     "output_type": "stream",
     "text": [
      "Batch: 100%|██████████| 1467/1467 [01:41<00:00, 14.42it/s]\n"
     ]
    },
    {
     "name": "stdout",
     "output_type": "stream",
     "text": [
      "epoch 67 训练结束 : avg_loss = 8.6720\n",
      "开始进行validation\n"
     ]
    },
    {
     "name": "stderr",
     "output_type": "stream",
     "text": [
      "100%|██████████| 367/367 [00:11<00:00, 31.34it/s]\n"
     ]
    },
    {
     "name": "stdout",
     "output_type": "stream",
     "text": [
      "epoch 67 测试结束 : avg_loss = 8.8116\n",
      "precision@1 : 84.5294 , precision@3 : 72.6490 , precision@5 : 64.0390 \n",
      "ndcg@1 : 84.5294 , ndcg@3 : 81.0044 , ndcg@5 : 78.5803 \n",
      "----epoch: 68---- \n"
     ]
    },
    {
     "name": "stderr",
     "output_type": "stream",
     "text": [
      "Batch: 100%|██████████| 1467/1467 [01:41<00:00, 14.45it/s]\n"
     ]
    },
    {
     "name": "stdout",
     "output_type": "stream",
     "text": [
      "epoch 68 训练结束 : avg_loss = 8.6646\n",
      "开始进行validation\n"
     ]
    },
    {
     "name": "stderr",
     "output_type": "stream",
     "text": [
      "100%|██████████| 367/367 [00:12<00:00, 29.52it/s]\n"
     ]
    },
    {
     "name": "stdout",
     "output_type": "stream",
     "text": [
      "epoch 68 测试结束 : avg_loss = 8.7936\n",
      "precision@1 : 84.5733 , precision@3 : 72.7824 , precision@5 : 64.1384 \n",
      "ndcg@1 : 84.5733 , ndcg@3 : 81.0959 , ndcg@5 : 78.6480 \n",
      "----epoch: 69---- \n"
     ]
    },
    {
     "name": "stderr",
     "output_type": "stream",
     "text": [
      "Batch: 100%|██████████| 1467/1467 [01:30<00:00, 16.20it/s]\n"
     ]
    },
    {
     "name": "stdout",
     "output_type": "stream",
     "text": [
      "epoch 69 训练结束 : avg_loss = 8.6556\n",
      "开始进行validation\n"
     ]
    },
    {
     "name": "stderr",
     "output_type": "stream",
     "text": [
      "100%|██████████| 367/367 [00:12<00:00, 29.45it/s]\n"
     ]
    },
    {
     "name": "stdout",
     "output_type": "stream",
     "text": [
      "epoch 69 测试结束 : avg_loss = 8.8149\n",
      "precision@1 : 84.5307 , precision@3 : 72.5525 , precision@5 : 64.0067 \n",
      "ndcg@1 : 84.5307 , ndcg@3 : 80.9292 , ndcg@5 : 78.5370 \n",
      "----epoch: 70---- \n"
     ]
    },
    {
     "name": "stderr",
     "output_type": "stream",
     "text": [
      "Batch: 100%|██████████| 1467/1467 [01:32<00:00, 15.83it/s]\n"
     ]
    },
    {
     "name": "stdout",
     "output_type": "stream",
     "text": [
      "epoch 70 训练结束 : avg_loss = 8.6512\n",
      "开始进行validation\n"
     ]
    },
    {
     "name": "stderr",
     "output_type": "stream",
     "text": [
      "100%|██████████| 367/367 [00:12<00:00, 30.17it/s]\n"
     ]
    },
    {
     "name": "stdout",
     "output_type": "stream",
     "text": [
      "epoch 70 测试结束 : avg_loss = 8.7974\n",
      "precision@1 : 84.5052 , precision@3 : 72.6945 , precision@5 : 64.1605 \n",
      "ndcg@1 : 84.5052 , ndcg@3 : 80.9204 , ndcg@5 : 78.4869 \n",
      "----epoch: 71---- \n"
     ]
    },
    {
     "name": "stderr",
     "output_type": "stream",
     "text": [
      "Batch: 100%|██████████| 1467/1467 [01:32<00:00, 15.84it/s]\n"
     ]
    },
    {
     "name": "stdout",
     "output_type": "stream",
     "text": [
      "epoch 71 训练结束 : avg_loss = 8.6428\n",
      "开始进行validation\n"
     ]
    },
    {
     "name": "stderr",
     "output_type": "stream",
     "text": [
      "100%|██████████| 367/367 [00:12<00:00, 29.98it/s]\n"
     ]
    },
    {
     "name": "stdout",
     "output_type": "stream",
     "text": [
      "epoch 71 测试结束 : avg_loss = 8.7702\n",
      "precision@1 : 84.6486 , precision@3 : 72.8766 , precision@5 : 64.2017 \n",
      "ndcg@1 : 84.6486 , ndcg@3 : 81.1981 , ndcg@5 : 78.7452 \n",
      "----epoch: 72---- \n"
     ]
    },
    {
     "name": "stderr",
     "output_type": "stream",
     "text": [
      "Batch: 100%|██████████| 1467/1467 [01:30<00:00, 16.12it/s]\n"
     ]
    },
    {
     "name": "stdout",
     "output_type": "stream",
     "text": [
      "epoch 72 训练结束 : avg_loss = 8.6354\n",
      "开始进行validation\n"
     ]
    },
    {
     "name": "stderr",
     "output_type": "stream",
     "text": [
      "100%|██████████| 367/367 [00:12<00:00, 30.18it/s]\n"
     ]
    },
    {
     "name": "stdout",
     "output_type": "stream",
     "text": [
      "epoch 72 测试结束 : avg_loss = 8.7755\n",
      "precision@1 : 84.5236 , precision@3 : 72.8103 , precision@5 : 64.2749 \n",
      "ndcg@1 : 84.5236 , ndcg@3 : 81.0840 , ndcg@5 : 78.7159 \n",
      "----epoch: 73---- \n"
     ]
    },
    {
     "name": "stderr",
     "output_type": "stream",
     "text": [
      "Batch: 100%|██████████| 1467/1467 [01:39<00:00, 14.76it/s]\n"
     ]
    },
    {
     "name": "stdout",
     "output_type": "stream",
     "text": [
      "epoch 73 训练结束 : avg_loss = 8.6256\n",
      "开始进行validation\n"
     ]
    },
    {
     "name": "stderr",
     "output_type": "stream",
     "text": [
      "100%|██████████| 367/367 [00:16<00:00, 22.78it/s]\n"
     ]
    },
    {
     "name": "stdout",
     "output_type": "stream",
     "text": [
      "epoch 73 测试结束 : avg_loss = 8.8181\n",
      "precision@1 : 84.2795 , precision@3 : 72.6552 , precision@5 : 64.0980 \n",
      "ndcg@1 : 84.2795 , ndcg@3 : 80.7616 , ndcg@5 : 78.3551 \n",
      "----epoch: 74---- \n"
     ]
    },
    {
     "name": "stderr",
     "output_type": "stream",
     "text": [
      "Batch: 100%|██████████| 1467/1467 [01:47<00:00, 13.63it/s]\n"
     ]
    },
    {
     "name": "stdout",
     "output_type": "stream",
     "text": [
      "epoch 74 训练结束 : avg_loss = 8.6183\n",
      "开始进行validation\n"
     ]
    },
    {
     "name": "stderr",
     "output_type": "stream",
     "text": [
      "100%|██████████| 367/367 [00:11<00:00, 31.02it/s]\n"
     ]
    },
    {
     "name": "stdout",
     "output_type": "stream",
     "text": [
      "epoch 74 测试结束 : avg_loss = 8.7621\n",
      "precision@1 : 84.6968 , precision@3 : 72.8808 , precision@5 : 64.2811 \n",
      "ndcg@1 : 84.6968 , ndcg@3 : 81.2100 , ndcg@5 : 78.8157 \n",
      "----epoch: 75---- \n"
     ]
    },
    {
     "name": "stderr",
     "output_type": "stream",
     "text": [
      "Batch: 100%|██████████| 1467/1467 [01:31<00:00, 16.11it/s]\n"
     ]
    },
    {
     "name": "stdout",
     "output_type": "stream",
     "text": [
      "epoch 75 训练结束 : avg_loss = 8.6131\n",
      "开始进行validation\n"
     ]
    },
    {
     "name": "stderr",
     "output_type": "stream",
     "text": [
      "100%|██████████| 367/367 [00:12<00:00, 30.46it/s]\n"
     ]
    },
    {
     "name": "stdout",
     "output_type": "stream",
     "text": [
      "epoch 75 测试结束 : avg_loss = 8.7591\n",
      "precision@1 : 84.5733 , precision@3 : 72.9362 , precision@5 : 64.3249 \n",
      "ndcg@1 : 84.5733 , ndcg@3 : 81.2241 , ndcg@5 : 78.8454 \n",
      "----epoch: 76---- \n"
     ]
    },
    {
     "name": "stderr",
     "output_type": "stream",
     "text": [
      "Batch: 100%|██████████| 1467/1467 [01:31<00:00, 15.96it/s]\n"
     ]
    },
    {
     "name": "stdout",
     "output_type": "stream",
     "text": [
      "epoch 76 训练结束 : avg_loss = 8.6048\n",
      "开始进行validation\n"
     ]
    },
    {
     "name": "stderr",
     "output_type": "stream",
     "text": [
      "100%|██████████| 367/367 [00:12<00:00, 30.25it/s]\n"
     ]
    },
    {
     "name": "stdout",
     "output_type": "stream",
     "text": [
      "epoch 76 测试结束 : avg_loss = 8.7406\n",
      "precision@1 : 84.7692 , precision@3 : 72.9191 , precision@5 : 64.3251 \n",
      "ndcg@1 : 84.7692 , ndcg@3 : 81.3004 , ndcg@5 : 78.9110 \n",
      "----epoch: 77---- \n"
     ]
    },
    {
     "name": "stderr",
     "output_type": "stream",
     "text": [
      "Batch: 100%|██████████| 1467/1467 [01:34<00:00, 15.47it/s]\n"
     ]
    },
    {
     "name": "stdout",
     "output_type": "stream",
     "text": [
      "epoch 77 训练结束 : avg_loss = 8.5985\n",
      "开始进行validation\n"
     ]
    },
    {
     "name": "stderr",
     "output_type": "stream",
     "text": [
      "100%|██████████| 367/367 [00:17<00:00, 21.39it/s]\n"
     ]
    },
    {
     "name": "stdout",
     "output_type": "stream",
     "text": [
      "epoch 77 测试结束 : avg_loss = 8.7624\n",
      "precision@1 : 84.7279 , precision@3 : 72.8845 , precision@5 : 64.2368 \n",
      "ndcg@1 : 84.7279 , ndcg@3 : 81.1980 , ndcg@5 : 78.7692 \n",
      "----epoch: 78---- \n"
     ]
    },
    {
     "name": "stderr",
     "output_type": "stream",
     "text": [
      "Batch: 100%|██████████| 1467/1467 [02:09<00:00, 11.34it/s]\n"
     ]
    },
    {
     "name": "stdout",
     "output_type": "stream",
     "text": [
      "epoch 78 训练结束 : avg_loss = 8.5896\n",
      "开始进行validation\n"
     ]
    },
    {
     "name": "stderr",
     "output_type": "stream",
     "text": [
      "100%|██████████| 367/367 [00:12<00:00, 30.46it/s]\n"
     ]
    },
    {
     "name": "stdout",
     "output_type": "stream",
     "text": [
      "epoch 78 测试结束 : avg_loss = 8.7648\n",
      "precision@1 : 84.8046 , precision@3 : 72.7739 , precision@5 : 64.2596 \n",
      "ndcg@1 : 84.8046 , ndcg@3 : 81.1034 , ndcg@5 : 78.7266 \n",
      "----epoch: 79---- \n"
     ]
    },
    {
     "name": "stderr",
     "output_type": "stream",
     "text": [
      "Batch: 100%|██████████| 1467/1467 [02:29<00:00,  9.82it/s]\n"
     ]
    },
    {
     "name": "stdout",
     "output_type": "stream",
     "text": [
      "epoch 79 训练结束 : avg_loss = 8.5832\n",
      "开始进行validation\n"
     ]
    },
    {
     "name": "stderr",
     "output_type": "stream",
     "text": [
      "100%|██████████| 367/367 [00:13<00:00, 27.93it/s]\n"
     ]
    },
    {
     "name": "stdout",
     "output_type": "stream",
     "text": [
      "epoch 79 测试结束 : avg_loss = 8.7286\n",
      "precision@1 : 84.8245 , precision@3 : 72.8946 , precision@5 : 64.3070 \n",
      "ndcg@1 : 84.8245 , ndcg@3 : 81.3121 , ndcg@5 : 78.9195 \n",
      "----epoch: 80---- \n"
     ]
    },
    {
     "name": "stderr",
     "output_type": "stream",
     "text": [
      "Batch: 100%|██████████| 1467/1467 [02:24<00:00, 10.12it/s]\n"
     ]
    },
    {
     "name": "stdout",
     "output_type": "stream",
     "text": [
      "epoch 80 训练结束 : avg_loss = 8.5725\n",
      "开始进行validation\n"
     ]
    },
    {
     "name": "stderr",
     "output_type": "stream",
     "text": [
      "100%|██████████| 367/367 [00:12<00:00, 30.50it/s]\n"
     ]
    },
    {
     "name": "stdout",
     "output_type": "stream",
     "text": [
      "epoch 80 测试结束 : avg_loss = 8.7253\n",
      "precision@1 : 84.6656 , precision@3 : 72.8751 , precision@5 : 64.3456 \n",
      "ndcg@1 : 84.6656 , ndcg@3 : 81.2513 , ndcg@5 : 78.9123 \n",
      "----epoch: 81---- \n"
     ]
    },
    {
     "name": "stderr",
     "output_type": "stream",
     "text": [
      "Batch: 100%|██████████| 1467/1467 [01:31<00:00, 15.98it/s]\n"
     ]
    },
    {
     "name": "stdout",
     "output_type": "stream",
     "text": [
      "epoch 81 训练结束 : avg_loss = 8.5667\n",
      "开始进行validation\n"
     ]
    },
    {
     "name": "stderr",
     "output_type": "stream",
     "text": [
      "100%|██████████| 367/367 [00:12<00:00, 29.69it/s]\n"
     ]
    },
    {
     "name": "stdout",
     "output_type": "stream",
     "text": [
      "epoch 81 测试结束 : avg_loss = 8.7352\n",
      "precision@1 : 84.6316 , precision@3 : 73.0057 , precision@5 : 64.3796 \n",
      "ndcg@1 : 84.6316 , ndcg@3 : 81.2373 , ndcg@5 : 78.8334 \n",
      "----epoch: 82---- \n"
     ]
    },
    {
     "name": "stderr",
     "output_type": "stream",
     "text": [
      "Batch: 100%|██████████| 1467/1467 [01:31<00:00, 16.00it/s]\n"
     ]
    },
    {
     "name": "stdout",
     "output_type": "stream",
     "text": [
      "epoch 82 训练结束 : avg_loss = 8.5554\n",
      "开始进行validation\n"
     ]
    },
    {
     "name": "stderr",
     "output_type": "stream",
     "text": [
      "100%|██████████| 367/367 [00:12<00:00, 30.14it/s]\n"
     ]
    },
    {
     "name": "stdout",
     "output_type": "stream",
     "text": [
      "epoch 82 测试结束 : avg_loss = 8.7395\n",
      "precision@1 : 84.7748 , precision@3 : 72.8278 , precision@5 : 64.3654 \n",
      "ndcg@1 : 84.7748 , ndcg@3 : 81.1335 , ndcg@5 : 78.7932 \n",
      "----epoch: 83---- \n"
     ]
    },
    {
     "name": "stderr",
     "output_type": "stream",
     "text": [
      "Batch: 100%|██████████| 1467/1467 [02:18<00:00, 10.58it/s]\n"
     ]
    },
    {
     "name": "stdout",
     "output_type": "stream",
     "text": [
      "epoch 83 训练结束 : avg_loss = 8.5513\n",
      "开始进行validation\n"
     ]
    },
    {
     "name": "stderr",
     "output_type": "stream",
     "text": [
      "100%|██████████| 367/367 [00:13<00:00, 26.42it/s]\n"
     ]
    },
    {
     "name": "stdout",
     "output_type": "stream",
     "text": [
      "epoch 83 测试结束 : avg_loss = 8.7084\n",
      "precision@1 : 84.6784 , precision@3 : 72.8893 , precision@5 : 64.3280 \n",
      "ndcg@1 : 84.6784 , ndcg@3 : 81.2600 , ndcg@5 : 78.8955 \n",
      "----epoch: 84---- \n"
     ]
    },
    {
     "name": "stderr",
     "output_type": "stream",
     "text": [
      "Batch: 100%|██████████| 1467/1467 [01:31<00:00, 16.05it/s]\n"
     ]
    },
    {
     "name": "stdout",
     "output_type": "stream",
     "text": [
      "epoch 84 训练结束 : avg_loss = 8.5425\n",
      "开始进行validation\n"
     ]
    },
    {
     "name": "stderr",
     "output_type": "stream",
     "text": [
      "100%|██████████| 367/367 [00:12<00:00, 30.00it/s]\n"
     ]
    },
    {
     "name": "stdout",
     "output_type": "stream",
     "text": [
      "epoch 84 测试结束 : avg_loss = 8.6764\n",
      "precision@1 : 84.8317 , precision@3 : 73.0587 , precision@5 : 64.4494 \n",
      "ndcg@1 : 84.8317 , ndcg@3 : 81.3875 , ndcg@5 : 78.9929 \n",
      "----epoch: 85---- \n"
     ]
    },
    {
     "name": "stderr",
     "output_type": "stream",
     "text": [
      "Batch: 100%|██████████| 1467/1467 [01:47<00:00, 13.64it/s]\n"
     ]
    },
    {
     "name": "stdout",
     "output_type": "stream",
     "text": [
      "epoch 85 训练结束 : avg_loss = 8.5366\n",
      "开始进行validation\n"
     ]
    },
    {
     "name": "stderr",
     "output_type": "stream",
     "text": [
      "100%|██████████| 367/367 [00:32<00:00, 11.39it/s]\n"
     ]
    },
    {
     "name": "stdout",
     "output_type": "stream",
     "text": [
      "epoch 85 测试结束 : avg_loss = 8.7128\n",
      "precision@1 : 84.6188 , precision@3 : 72.9324 , precision@5 : 64.4123 \n",
      "ndcg@1 : 84.6188 , ndcg@3 : 81.3100 , ndcg@5 : 78.9896 \n",
      "----epoch: 86---- \n"
     ]
    },
    {
     "name": "stderr",
     "output_type": "stream",
     "text": [
      "Batch: 100%|██████████| 1467/1467 [03:07<00:00,  7.83it/s]\n"
     ]
    },
    {
     "name": "stdout",
     "output_type": "stream",
     "text": [
      "epoch 86 训练结束 : avg_loss = 8.5283\n",
      "开始进行validation\n"
     ]
    },
    {
     "name": "stderr",
     "output_type": "stream",
     "text": [
      "100%|██████████| 367/367 [00:14<00:00, 25.27it/s]\n"
     ]
    },
    {
     "name": "stdout",
     "output_type": "stream",
     "text": [
      "epoch 86 测试结束 : avg_loss = 8.6824\n",
      "precision@1 : 84.7947 , precision@3 : 73.1150 , precision@5 : 64.5042 \n",
      "ndcg@1 : 84.7947 , ndcg@3 : 81.4838 , ndcg@5 : 79.1066 \n",
      "----epoch: 87---- \n"
     ]
    },
    {
     "name": "stderr",
     "output_type": "stream",
     "text": [
      "Batch: 100%|██████████| 1467/1467 [01:58<00:00, 12.34it/s]\n"
     ]
    },
    {
     "name": "stdout",
     "output_type": "stream",
     "text": [
      "epoch 87 训练结束 : avg_loss = 8.5202\n",
      "开始进行validation\n"
     ]
    },
    {
     "name": "stderr",
     "output_type": "stream",
     "text": [
      "100%|██████████| 367/367 [00:36<00:00,  9.92it/s]\n"
     ]
    },
    {
     "name": "stdout",
     "output_type": "stream",
     "text": [
      "epoch 87 测试结束 : avg_loss = 8.6772\n",
      "precision@1 : 84.5989 , precision@3 : 72.9262 , precision@5 : 64.3966 \n",
      "ndcg@1 : 84.5989 , ndcg@3 : 81.2669 , ndcg@5 : 78.9256 \n",
      "----epoch: 88---- \n"
     ]
    },
    {
     "name": "stderr",
     "output_type": "stream",
     "text": [
      "Batch: 100%|██████████| 1467/1467 [02:47<00:00,  8.77it/s]\n"
     ]
    },
    {
     "name": "stdout",
     "output_type": "stream",
     "text": [
      "epoch 88 训练结束 : avg_loss = 8.5130\n",
      "开始进行validation\n"
     ]
    },
    {
     "name": "stderr",
     "output_type": "stream",
     "text": [
      "100%|██████████| 367/367 [00:12<00:00, 29.93it/s]\n"
     ]
    },
    {
     "name": "stdout",
     "output_type": "stream",
     "text": [
      "epoch 88 测试结束 : avg_loss = 8.6809\n",
      "precision@1 : 84.6954 , precision@3 : 73.1046 , precision@5 : 64.5570 \n",
      "ndcg@1 : 84.6954 , ndcg@3 : 81.3247 , ndcg@5 : 78.9399 \n",
      "----epoch: 89---- \n"
     ]
    },
    {
     "name": "stderr",
     "output_type": "stream",
     "text": [
      "Batch: 100%|██████████| 1467/1467 [01:42<00:00, 14.34it/s]\n"
     ]
    },
    {
     "name": "stdout",
     "output_type": "stream",
     "text": [
      "epoch 89 训练结束 : avg_loss = 8.5019\n",
      "开始进行validation\n"
     ]
    },
    {
     "name": "stderr",
     "output_type": "stream",
     "text": [
      "100%|██████████| 367/367 [00:17<00:00, 21.12it/s]\n"
     ]
    },
    {
     "name": "stdout",
     "output_type": "stream",
     "text": [
      "epoch 89 测试结束 : avg_loss = 8.6750\n",
      "precision@1 : 84.8005 , precision@3 : 73.2125 , precision@5 : 64.5633 \n",
      "ndcg@1 : 84.8005 , ndcg@3 : 81.5549 , ndcg@5 : 79.1844 \n",
      "----epoch: 90---- \n"
     ]
    },
    {
     "name": "stderr",
     "output_type": "stream",
     "text": [
      "Batch: 100%|██████████| 1467/1467 [04:31<00:00,  5.41it/s]\n"
     ]
    },
    {
     "name": "stdout",
     "output_type": "stream",
     "text": [
      "epoch 90 训练结束 : avg_loss = 8.4974\n",
      "开始进行validation\n"
     ]
    },
    {
     "name": "stderr",
     "output_type": "stream",
     "text": [
      "100%|██████████| 367/367 [00:38<00:00,  9.46it/s]\n"
     ]
    },
    {
     "name": "stdout",
     "output_type": "stream",
     "text": [
      "epoch 90 测试结束 : avg_loss = 8.6637\n",
      "precision@1 : 84.8104 , precision@3 : 73.0317 , precision@5 : 64.5999 \n",
      "ndcg@1 : 84.8104 , ndcg@3 : 81.4563 , ndcg@5 : 79.2211 \n",
      "----epoch: 91---- \n"
     ]
    },
    {
     "name": "stderr",
     "output_type": "stream",
     "text": [
      "Batch: 100%|██████████| 1467/1467 [04:51<00:00,  5.04it/s]\n"
     ]
    },
    {
     "name": "stdout",
     "output_type": "stream",
     "text": [
      "epoch 91 训练结束 : avg_loss = 8.4849\n",
      "开始进行validation\n"
     ]
    },
    {
     "name": "stderr",
     "output_type": "stream",
     "text": [
      "100%|██████████| 367/367 [00:36<00:00, 10.02it/s]\n"
     ]
    },
    {
     "name": "stdout",
     "output_type": "stream",
     "text": [
      "epoch 91 测试结束 : avg_loss = 8.6628\n",
      "precision@1 : 84.8742 , precision@3 : 73.0795 , precision@5 : 64.5723 \n",
      "ndcg@1 : 84.8742 , ndcg@3 : 81.5190 , ndcg@5 : 79.2385 \n",
      "----epoch: 92---- \n"
     ]
    },
    {
     "name": "stderr",
     "output_type": "stream",
     "text": [
      "Batch: 100%|██████████| 1467/1467 [04:35<00:00,  5.33it/s]\n"
     ]
    },
    {
     "name": "stdout",
     "output_type": "stream",
     "text": [
      "epoch 92 训练结束 : avg_loss = 8.4740\n",
      "开始进行validation\n"
     ]
    },
    {
     "name": "stderr",
     "output_type": "stream",
     "text": [
      "100%|██████████| 367/367 [00:35<00:00, 10.40it/s]\n"
     ]
    },
    {
     "name": "stdout",
     "output_type": "stream",
     "text": [
      "epoch 92 测试结束 : avg_loss = 8.6390\n",
      "precision@1 : 84.9424 , precision@3 : 73.2616 , precision@5 : 64.6493 \n",
      "ndcg@1 : 84.9424 , ndcg@3 : 81.5581 , ndcg@5 : 79.1711 \n",
      "----epoch: 93---- \n"
     ]
    },
    {
     "name": "stderr",
     "output_type": "stream",
     "text": [
      "Batch: 100%|██████████| 1467/1467 [04:36<00:00,  5.31it/s]\n"
     ]
    },
    {
     "name": "stdout",
     "output_type": "stream",
     "text": [
      "epoch 93 训练结束 : avg_loss = 8.4691\n",
      "开始进行validation\n"
     ]
    },
    {
     "name": "stderr",
     "output_type": "stream",
     "text": [
      "100%|██████████| 367/367 [00:35<00:00, 10.34it/s]\n"
     ]
    },
    {
     "name": "stdout",
     "output_type": "stream",
     "text": [
      "epoch 93 测试结束 : avg_loss = 8.6216\n",
      "precision@1 : 84.9466 , precision@3 : 73.2649 , precision@5 : 64.7174 \n",
      "ndcg@1 : 84.9466 , ndcg@3 : 81.6276 , ndcg@5 : 79.3222 \n",
      "----epoch: 94---- \n"
     ]
    },
    {
     "name": "stderr",
     "output_type": "stream",
     "text": [
      "Batch: 100%|██████████| 1467/1467 [04:37<00:00,  5.29it/s]\n"
     ]
    },
    {
     "name": "stdout",
     "output_type": "stream",
     "text": [
      "epoch 94 训练结束 : avg_loss = 8.4605\n",
      "开始进行validation\n"
     ]
    },
    {
     "name": "stderr",
     "output_type": "stream",
     "text": [
      "100%|██████████| 367/367 [00:35<00:00, 10.36it/s]\n"
     ]
    },
    {
     "name": "stdout",
     "output_type": "stream",
     "text": [
      "epoch 94 测试结束 : avg_loss = 8.6418\n",
      "precision@1 : 84.8841 , precision@3 : 73.0283 , precision@5 : 64.5204 \n",
      "ndcg@1 : 84.8841 , ndcg@3 : 81.4285 , ndcg@5 : 79.1304 \n",
      "----epoch: 95---- \n"
     ]
    },
    {
     "name": "stderr",
     "output_type": "stream",
     "text": [
      "Batch: 100%|██████████| 1467/1467 [03:37<00:00,  6.73it/s]\n"
     ]
    },
    {
     "name": "stdout",
     "output_type": "stream",
     "text": [
      "epoch 95 训练结束 : avg_loss = 8.4535\n",
      "开始进行validation\n"
     ]
    },
    {
     "name": "stderr",
     "output_type": "stream",
     "text": [
      "100%|██████████| 367/367 [00:12<00:00, 30.33it/s]\n"
     ]
    },
    {
     "name": "stdout",
     "output_type": "stream",
     "text": [
      "epoch 95 测试结束 : avg_loss = 8.6136\n",
      "precision@1 : 84.8572 , precision@3 : 73.2176 , precision@5 : 64.6391 \n",
      "ndcg@1 : 84.8572 , ndcg@3 : 81.5254 , ndcg@5 : 79.1577 \n",
      "----epoch: 96---- \n"
     ]
    },
    {
     "name": "stderr",
     "output_type": "stream",
     "text": [
      "Batch: 100%|██████████| 1467/1467 [02:28<00:00,  9.87it/s]\n"
     ]
    },
    {
     "name": "stdout",
     "output_type": "stream",
     "text": [
      "epoch 96 训练结束 : avg_loss = 8.4469\n",
      "开始进行validation\n"
     ]
    },
    {
     "name": "stderr",
     "output_type": "stream",
     "text": [
      "100%|██████████| 367/367 [00:12<00:00, 29.35it/s]\n"
     ]
    },
    {
     "name": "stdout",
     "output_type": "stream",
     "text": [
      "epoch 96 测试结束 : avg_loss = 8.5912\n",
      "precision@1 : 84.7862 , precision@3 : 73.2701 , precision@5 : 64.6989 \n",
      "ndcg@1 : 84.7862 , ndcg@3 : 81.5270 , ndcg@5 : 79.1828 \n",
      "----epoch: 97---- \n"
     ]
    },
    {
     "name": "stderr",
     "output_type": "stream",
     "text": [
      "Batch: 100%|██████████| 1467/1467 [01:34<00:00, 15.55it/s]\n"
     ]
    },
    {
     "name": "stdout",
     "output_type": "stream",
     "text": [
      "epoch 97 训练结束 : avg_loss = 8.4406\n",
      "开始进行validation\n"
     ]
    },
    {
     "name": "stderr",
     "output_type": "stream",
     "text": [
      "100%|██████████| 367/367 [00:15<00:00, 22.94it/s]\n"
     ]
    },
    {
     "name": "stdout",
     "output_type": "stream",
     "text": [
      "epoch 97 测试结束 : avg_loss = 8.5878\n",
      "precision@1 : 84.9480 , precision@3 : 73.2895 , precision@5 : 64.7549 \n",
      "ndcg@1 : 84.9480 , ndcg@3 : 81.6327 , ndcg@5 : 79.3379 \n",
      "----epoch: 98---- \n"
     ]
    },
    {
     "name": "stderr",
     "output_type": "stream",
     "text": [
      "Batch: 100%|██████████| 1467/1467 [04:09<00:00,  5.88it/s]\n"
     ]
    },
    {
     "name": "stdout",
     "output_type": "stream",
     "text": [
      "epoch 98 训练结束 : avg_loss = 8.4286\n",
      "开始进行validation\n"
     ]
    },
    {
     "name": "stderr",
     "output_type": "stream",
     "text": [
      "100%|██████████| 367/367 [00:36<00:00, 10.19it/s]\n"
     ]
    },
    {
     "name": "stdout",
     "output_type": "stream",
     "text": [
      "epoch 98 测试结束 : avg_loss = 8.6419\n",
      "precision@1 : 84.9126 , precision@3 : 73.2824 , precision@5 : 64.6643 \n",
      "ndcg@1 : 84.9126 , ndcg@3 : 81.5531 , ndcg@5 : 79.1980 \n",
      "----epoch: 99---- \n"
     ]
    },
    {
     "name": "stderr",
     "output_type": "stream",
     "text": [
      "Batch: 100%|██████████| 1467/1467 [03:14<00:00,  7.53it/s]\n"
     ]
    },
    {
     "name": "stdout",
     "output_type": "stream",
     "text": [
      "epoch 99 训练结束 : avg_loss = 8.4253\n",
      "开始进行validation\n"
     ]
    },
    {
     "name": "stderr",
     "output_type": "stream",
     "text": [
      "100%|██████████| 367/367 [00:12<00:00, 29.87it/s]\n"
     ]
    },
    {
     "name": "stdout",
     "output_type": "stream",
     "text": [
      "epoch 99 测试结束 : avg_loss = 8.5857\n",
      "precision@1 : 84.9253 , precision@3 : 73.1670 , precision@5 : 64.7069 \n",
      "ndcg@1 : 84.9253 , ndcg@3 : 81.5854 , ndcg@5 : 79.3193 \n",
      "----epoch: 100---- \n"
     ]
    },
    {
     "name": "stderr",
     "output_type": "stream",
     "text": [
      "Batch: 100%|██████████| 1467/1467 [01:31<00:00, 16.02it/s]\n"
     ]
    },
    {
     "name": "stdout",
     "output_type": "stream",
     "text": [
      "epoch 100 训练结束 : avg_loss = 8.4151\n",
      "开始进行validation\n"
     ]
    },
    {
     "name": "stderr",
     "output_type": "stream",
     "text": [
      "100%|██████████| 367/367 [00:12<00:00, 29.11it/s]"
     ]
    },
    {
     "name": "stdout",
     "output_type": "stream",
     "text": [
      "epoch 100 测试结束 : avg_loss = 8.5819\n",
      "precision@1 : 84.8444 , precision@3 : 73.2796 , precision@5 : 64.7302 \n",
      "ndcg@1 : 84.8444 , ndcg@3 : 81.6193 , ndcg@5 : 79.3110 \n"
     ]
    },
    {
     "name": "stderr",
     "output_type": "stream",
     "text": [
      "\n"
     ]
    }
   ],
   "source": [
    "optimizer = torch.optim.Adam(filter(lambda p: p.requires_grad, model.parameters()), lr=0.001, weight_decay=4e-5)\n",
    "criterion = torch.nn.BCELoss(reduction='sum')\n",
    "epoch = 100\n",
    "best_acc = 0.0\n",
    "pre_acc = 0.0\n",
    "\n",
    "# if not os.path.isdir('./rcv_log'):\n",
    "#     os.makedirs('./rcv_log')\n",
    "# trace_file='./rcv_log/trace_rcv.txt'\n",
    "\n",
    "for ep in range(1, epoch + 1):\n",
    "    train_loss = 0\n",
    "    print(\"----epoch: %2d---- \" % ep)\n",
    "    model.train()\n",
    "    for i, (data, labels) in enumerate(tqdm(train_loader, desc='Batch: ')):\n",
    "        optimizer.zero_grad()\n",
    "\n",
    "        # data = data.cuda()\n",
    "        # labels = labels.cuda()\n",
    "\n",
    "        pred = model(data)\n",
    "        loss = criterion(pred, labels.float()) / pred.size(0)\n",
    "        loss.backward()\n",
    "        optimizer.step()\n",
    "\n",
    "        train_loss += float(loss)\n",
    "    batch_num = i + 1\n",
    "    train_loss /= batch_num\n",
    "\n",
    "    print(\"epoch %2d 训练结束 : avg_loss = %.4f\" % (ep, train_loss))\n",
    "    print(\"开始进行validation\")\n",
    "    test_loss = 0\n",
    "    test_p1, test_p3, test_p5 = 0, 0, 0\n",
    "    test_ndcg1, test_ndcg3, test_ndcg5 = 0, 0, 0\n",
    "    model.eval()\n",
    "    for i, (data, labels) in enumerate(tqdm(test_loader)):\n",
    "        # data = data.cuda()\n",
    "        # labels = labels.cuda()\n",
    "        pred = model(data)\n",
    "        loss = criterion(pred, labels.float()) / pred.size(0)\n",
    "\n",
    "        # 计算metric\n",
    "        labels_cpu = labels.data.cpu()\n",
    "        pred_cpu = pred.data.cpu()\n",
    "\n",
    "        _p1, _p3, _p5 = precision_k(pred_cpu.topk(k=5)[1].numpy(), labels_cpu.numpy(), k=[1, 3, 5])\n",
    "        test_p1 += _p1\n",
    "        test_p3 += _p3\n",
    "        test_p5 += _p5\n",
    "\n",
    "        _ndcg1, _ndcg3, _ndcg5 = ndcg_k(pred_cpu.topk(k=5)[1].numpy(), labels_cpu.numpy(), k=[1, 3, 5])\n",
    "        test_ndcg1 += _ndcg1\n",
    "        test_ndcg3 += _ndcg3\n",
    "        test_ndcg5 += _ndcg5\n",
    "\n",
    "        test_loss += float(loss)\n",
    "    batch_num = i + 1\n",
    "    test_loss /= batch_num\n",
    "\n",
    "    test_p1 /= batch_num\n",
    "    test_p3 /= batch_num\n",
    "    test_p5 /= batch_num\n",
    "\n",
    "    test_ndcg1 /= batch_num\n",
    "    test_ndcg3 /= batch_num\n",
    "    test_ndcg5 /= batch_num\n",
    "\n",
    "    print(\"epoch %2d 测试结束 : avg_loss = %.4f\" % (ep, test_loss))\n",
    "    print(\"precision@1 : %.4f , precision@3 : %.4f , precision@5 : %.4f \" % (test_p1, test_p3, test_p5))\n",
    "    print(\"ndcg@1 : %.4f , ndcg@3 : %.4f , ndcg@5 : %.4f \" % (test_ndcg1, test_ndcg3, test_ndcg5))\n",
    "\n",
    "    if test_p3 < pre_acc:\n",
    "        for param_group in optimizer.param_groups:\n",
    "            param_group['lr'] = 0.0001\n",
    "    pre_acc = test_p3"
   ]
  },
  {
   "cell_type": "code",
   "execution_count": 98,
   "id": "80dcedcd",
   "metadata": {},
   "outputs": [
    {
     "name": "stderr",
     "output_type": "stream",
     "text": [
      "  0%|                                                                                          | 0/157 [00:00<?, ?it/s]"
     ]
    },
    {
     "name": "stdout",
     "output_type": "stream",
     "text": [
      "tensor([[141632, 236289, 428078,  ...,      0,      0,      0],\n",
      "        [385728,  70288,  84518,  ...,      0,      0,      0],\n",
      "        [  4558, 345890, 205374,  ...,      0,      0,      0],\n",
      "        ...,\n",
      "        [303372, 199293, 386063,  ...,      0,      0,      0],\n",
      "        [  1822, 431470, 299190,  ...,      0,      0,      0],\n",
      "        [197196, 378696, 376918,  ...,      0,      0,      0]])\n"
     ]
    },
    {
     "name": "stderr",
     "output_type": "stream",
     "text": [
      "  0%|                                                                                          | 0/157 [00:00<?, ?it/s]"
     ]
    },
    {
     "name": "stdout",
     "output_type": "stream",
     "text": [
      "(64, 52, 104)\n"
     ]
    },
    {
     "name": "stderr",
     "output_type": "stream",
     "text": [
      "\n"
     ]
    },
    {
     "ename": "AssertionError",
     "evalue": "",
     "output_type": "error",
     "traceback": [
      "\u001b[1;31m---------------------------------------------------------------------------\u001b[0m",
      "\u001b[1;31mAssertionError\u001b[0m                            Traceback (most recent call last)",
      "Cell \u001b[1;32mIn[98], line 6\u001b[0m\n\u001b[0;32m      4\u001b[0m pred \u001b[38;5;241m=\u001b[39m model(data, embedding_generation\u001b[38;5;241m=\u001b[39m\u001b[38;5;28;01mTrue\u001b[39;00m)\n\u001b[0;32m      5\u001b[0m \u001b[38;5;28mprint\u001b[39m(pred\u001b[38;5;241m.\u001b[39mdetach()\u001b[38;5;241m.\u001b[39mnumpy()\u001b[38;5;241m.\u001b[39mshape)\n\u001b[1;32m----> 6\u001b[0m \u001b[38;5;28;01massert\u001b[39;00m \u001b[38;5;28;01mFalse\u001b[39;00m\n",
      "\u001b[1;31mAssertionError\u001b[0m: "
     ]
    }
   ],
   "source": [
    "model.eval()\n",
    "for i, (data, labels) in enumerate(tqdm(test_loader)):\n",
    "    print(data)\n",
    "    pred = model(data, embedding_generation=True)\n",
    "    print(pred.detach().numpy().shape)\n",
    "    assert False\n"
   ]
  },
  {
   "cell_type": "code",
   "execution_count": 124,
   "id": "63a92e36",
   "metadata": {},
   "outputs": [],
   "source": [
    "torch.save(model, cc_path(f'models/xml_embedding/word_embeddings_{pretrain}_20230411_all_data.txt'))\n"
   ]
  },
  {
   "cell_type": "code",
   "execution_count": 54,
   "id": "fc652522-769a-4759-9f31-20daddcd2ec1",
   "metadata": {},
   "outputs": [],
   "source": [
    "model = torch.load(cc_path(f'models/xml_embedding/word_embeddings_{pretrain}_20230408_all_data.txt'))\n"
   ]
  },
  {
   "cell_type": "code",
   "execution_count": null,
   "id": "d3166a08",
   "metadata": {},
   "outputs": [],
   "source": [
    "del embedding_df, processed_df, "
   ]
  },
  {
   "cell_type": "code",
   "execution_count": 125,
   "id": "da81aca7",
   "metadata": {},
   "outputs": [],
   "source": [
    "emb_batch_size = 1024\n",
    "abstracts_to_embed = np.array(abstracts_df.loc[:, 'abstract'].to_list(), dtype=int)\n",
    "puis_to_embed = np.array(abstracts_df.loc[:, 'pui'].to_list(), dtype=int)\n",
    "\n",
    "embedding_data = data_utils.TensorDataset(torch.from_numpy(abstracts_to_embed).type(torch.LongTensor), \n",
    "                                          torch.from_numpy(puis_to_embed).type(torch.LongTensor))\n",
    "final_data = data_utils.DataLoader(embedding_data, emb_batch_size, drop_last=False)"
   ]
  },
  {
   "cell_type": "code",
   "execution_count": 56,
   "id": "192bbe08",
   "metadata": {},
   "outputs": [],
   "source": [
    "import pandas as pd"
   ]
  },
  {
   "cell_type": "code",
   "execution_count": 57,
   "id": "a2a57370-9ae7-4225-b9f4-bc523d4bbe43",
   "metadata": {},
   "outputs": [
    {
     "data": {
      "text/plain": [
       "117310"
      ]
     },
     "execution_count": 57,
     "metadata": {},
     "output_type": "execute_result"
    }
   ],
   "source": [
    "len(abstracts_df['pui'].to_numpy(dtype=int))"
   ]
  },
  {
   "cell_type": "code",
   "execution_count": null,
   "id": "e1b9ffcf",
   "metadata": {},
   "outputs": [
    {
     "name": "stderr",
     "output_type": "stream",
     "text": [
      " 79%|███████▉  | 91/115 [6:56:21<2:36:28, 391.21s/it]"
     ]
    }
   ],
   "source": [
    "num_of_embedding_dim = 104\n",
    "\n",
    "embedding_columns =  [f'd_{i}' for i in range(52)]\n",
    "xml_embedding_df = pd.DataFrame(columns=embedding_columns, index=abstracts_df['pui'].to_numpy(dtype=str))\n",
    "# xml_embedding_df['embedding'] = xml_embedding_df['embedding'].astype(object)\n",
    "np.set_printoptions(threshold = 100000000000000)\n",
    "\n",
    "for i, (data, pui) in enumerate(tqdm(final_data)):\n",
    "    pred = model(data, embedding_generation=True)\n",
    "    \n",
    "    right_puis =  list(pui.detach().numpy())\n",
    "    \n",
    "    numpy_preds = pred.detach().numpy()\n",
    "    for idx_batch in range(numpy_preds.shape[0]):\n",
    "        for idx_label in range(numpy_preds.shape[1]):\n",
    "            xml_embedding_df.loc[right_puis[idx_batch], embedding_columns[idx_label]] = numpy_preds[idx_batch, \n",
    "                                                                                             idx_label, \n",
    "                                                                                             :]\n",
    "\n"
   ]
  },
  {
   "cell_type": "code",
   "execution_count": 102,
   "id": "5eb9a7c7",
   "metadata": {},
   "outputs": [],
   "source": [
    "xml_embedding_df.reset_index(names='pui', inplace=True)\n"
   ]
  },
  {
   "cell_type": "code",
   "execution_count": null,
   "id": "1ddde897",
   "metadata": {},
   "outputs": [],
   "source": [
    "\n",
    "xml_embedding_df.to_feather(cc_path('data/processed/canary/embeddings_xml_20230411.ftr'))"
   ]
  },
  {
   "cell_type": "code",
   "execution_count": 61,
   "id": "2c3eb69c-5e4e-4b0b-a91d-edc62b635922",
   "metadata": {},
   "outputs": [],
   "source": [
    "pd.options.display.width = 1000"
   ]
  },
  {
   "cell_type": "code",
   "execution_count": 100,
   "id": "8b088b0b-49e6-4ed4-8a88-6d6e32c90241",
   "metadata": {},
   "outputs": [
    {
     "data": {
      "text/html": [
       "<div>\n",
       "<style scoped>\n",
       "    .dataframe tbody tr th:only-of-type {\n",
       "        vertical-align: middle;\n",
       "    }\n",
       "\n",
       "    .dataframe tbody tr th {\n",
       "        vertical-align: top;\n",
       "    }\n",
       "\n",
       "    .dataframe thead th {\n",
       "        text-align: right;\n",
       "    }\n",
       "</style>\n",
       "<table border=\"1\" class=\"dataframe\">\n",
       "  <thead>\n",
       "    <tr style=\"text-align: right;\">\n",
       "      <th></th>\n",
       "      <th>d_0</th>\n",
       "      <th>d_1</th>\n",
       "      <th>d_2</th>\n",
       "      <th>d_3</th>\n",
       "      <th>d_4</th>\n",
       "      <th>d_5</th>\n",
       "      <th>d_6</th>\n",
       "      <th>d_7</th>\n",
       "      <th>d_8</th>\n",
       "      <th>d_9</th>\n",
       "      <th>...</th>\n",
       "      <th>d_42</th>\n",
       "      <th>d_43</th>\n",
       "      <th>d_44</th>\n",
       "      <th>d_45</th>\n",
       "      <th>d_46</th>\n",
       "      <th>d_47</th>\n",
       "      <th>d_48</th>\n",
       "      <th>d_49</th>\n",
       "      <th>d_50</th>\n",
       "      <th>d_51</th>\n",
       "    </tr>\n",
       "  </thead>\n",
       "  <tbody>\n",
       "    <tr>\n",
       "      <th>624531411</th>\n",
       "      <td>[-0.016383378, -0.11197758, -0.037253555, -0.2...</td>\n",
       "      <td>[0.010617012, -0.09705223, -0.01200425, -0.120...</td>\n",
       "      <td>[0.028110279, -0.08243386, -0.016131265, -0.18...</td>\n",
       "      <td>[0.0022158436, -0.11320748, -0.010183357, -0.1...</td>\n",
       "      <td>[0.005926796, -0.10500478, -0.010475147, -0.12...</td>\n",
       "      <td>[0.0113420375, -0.09601049, -0.014044623, -0.1...</td>\n",
       "      <td>[0.016601732, -0.09619771, -0.009100688, -0.14...</td>\n",
       "      <td>[0.11544543, -0.005443737, -0.005527966, -0.18...</td>\n",
       "      <td>[0.02586015, -0.086351044, -0.010884014, -0.16...</td>\n",
       "      <td>[0.009882777, -0.09707534, -0.021866538, -0.18...</td>\n",
       "      <td>...</td>\n",
       "      <td>[0.18155344, 0.026362767, -0.01475883, -0.2147...</td>\n",
       "      <td>[0.0069437977, -0.09799223, -0.02816795, -0.23...</td>\n",
       "      <td>[0.18892401, 0.041114308, -0.00097465096, -0.1...</td>\n",
       "      <td>[0.11469094, -0.015334345, 0.006475803, -0.087...</td>\n",
       "      <td>[0.027374564, -0.08158906, -0.01762917, -0.206...</td>\n",
       "      <td>[0.04705087, -0.065758094, -0.018019354, -0.21...</td>\n",
       "      <td>[0.3474198, 0.15047382, 0.0039090053, -0.13961...</td>\n",
       "      <td>[0.11787519, -0.0064049475, -0.0025091413, -0....</td>\n",
       "      <td>[0.069682136, -0.054890573, -0.011223326, -0.1...</td>\n",
       "      <td>[-0.011351064, -0.100169934, -0.034848228, -0....</td>\n",
       "    </tr>\n",
       "    <tr>\n",
       "      <th>625340088</th>\n",
       "      <td>[0.06821822, -0.05620522, -0.065800205, -0.222...</td>\n",
       "      <td>[0.10693053, -0.017095909, -0.044121563, -0.09...</td>\n",
       "      <td>[0.10340122, -0.019759048, -0.055330824, -0.16...</td>\n",
       "      <td>[0.044841465, -0.09599258, -0.047074445, -0.14...</td>\n",
       "      <td>[0.042860292, -0.08393292, -0.043275695, -0.10...</td>\n",
       "      <td>[0.038487554, -0.07838504, -0.053617507, -0.16...</td>\n",
       "      <td>[0.05473292, -0.075368986, -0.042547263, -0.12...</td>\n",
       "      <td>[0.18368945, 0.09457679, -0.079515636, -0.1797...</td>\n",
       "      <td>[0.1327912, 0.019922812, -0.06676929, -0.15574...</td>\n",
       "      <td>[0.1424106, 0.018941574, -0.052223623, -0.1458...</td>\n",
       "      <td>...</td>\n",
       "      <td>[0.24319527, 0.12634419, -0.05570019, -0.18991...</td>\n",
       "      <td>[0.12861286, 0.009207115, -0.063367575, -0.198...</td>\n",
       "      <td>[0.24438602, 0.14896263, -0.07208059, -0.14055...</td>\n",
       "      <td>[0.1749304, 0.08700106, -0.05070314, -0.066946...</td>\n",
       "      <td>[0.100104034, -0.02964319, -0.0711903, -0.2004...</td>\n",
       "      <td>[0.13491955, 0.01794957, -0.067108504, -0.1916...</td>\n",
       "      <td>[0.41909015, 0.33678198, -0.07781066, -0.12629...</td>\n",
       "      <td>[0.17230125, 0.06469397, -0.08423577, -0.16590...</td>\n",
       "      <td>[0.15537813, 0.036530755, -0.06381854, -0.1704...</td>\n",
       "      <td>[0.02809963, -0.08056283, -0.07836892, -0.2682...</td>\n",
       "    </tr>\n",
       "    <tr>\n",
       "      <th>625805682</th>\n",
       "      <td>[0.028528668, -0.060206894, 0.07548873, -0.348...</td>\n",
       "      <td>[0.042353593, -0.07522996, 0.045501076, -0.324...</td>\n",
       "      <td>[0.043712128, -0.07069669, 0.053283475, -0.341...</td>\n",
       "      <td>[0.0912251, -0.05125811, 0.106232695, -0.31711...</td>\n",
       "      <td>[0.071796775, -0.050604787, 0.09280021, -0.337...</td>\n",
       "      <td>[0.076959535, -0.04865962, 0.090105645, -0.341...</td>\n",
       "      <td>[0.077228464, -0.051366046, 0.099378556, -0.32...</td>\n",
       "      <td>[0.051017053, -0.06567388, 0.10099919, -0.2431...</td>\n",
       "      <td>[0.04003511, -0.047263972, 0.09858238, -0.3281...</td>\n",
       "      <td>[0.054769102, -0.05078943, 0.08115368, -0.2868...</td>\n",
       "      <td>...</td>\n",
       "      <td>[0.18210159, 0.063631855, 0.05955499, -0.32273...</td>\n",
       "      <td>[0.057935737, -0.034007467, 0.08288933, -0.324...</td>\n",
       "      <td>[0.21283509, 0.080757335, 0.084314525, -0.2392...</td>\n",
       "      <td>[0.099942975, -0.049863294, 0.13453224, -0.256...</td>\n",
       "      <td>[0.046176944, -0.0769093, 0.06805101, -0.29428...</td>\n",
       "      <td>[0.037154716, -0.05500753, 0.088356555, -0.317...</td>\n",
       "      <td>[0.33445185, 0.20716941, 0.06621084, -0.234082...</td>\n",
       "      <td>[0.07703457, -0.032216277, 0.1353079, -0.22812...</td>\n",
       "      <td>[0.06902366, -0.051700268, 0.06834428, -0.3177...</td>\n",
       "      <td>[0.03009884, -0.06154553, 0.08346843, -0.34348...</td>\n",
       "    </tr>\n",
       "    <tr>\n",
       "      <th>626662493</th>\n",
       "      <td>[0.059955165, -0.02994335, -0.03311316, -0.143...</td>\n",
       "      <td>[0.10139962, 0.009669423, -0.022478202, -0.038...</td>\n",
       "      <td>[0.0790334, -0.01266022, -0.02287779, -0.10124...</td>\n",
       "      <td>[0.030228794, -0.07793985, -0.028091416, -0.13...</td>\n",
       "      <td>[0.036995795, -0.06270175, -0.0315825, -0.1039...</td>\n",
       "      <td>[0.027064249, -0.0709749, -0.031441428, -0.146...</td>\n",
       "      <td>[0.043158136, -0.059222713, -0.027855176, -0.1...</td>\n",
       "      <td>[0.13726412, 0.05951462, 0.010710327, -0.14864...</td>\n",
       "      <td>[0.083741456, 0.0010779575, 0.00037083589, -0....</td>\n",
       "      <td>[0.12572579, 0.037525304, -0.019792218, -0.073...</td>\n",
       "      <td>...</td>\n",
       "      <td>[0.15025625, 0.0521947, -0.026349314, -0.17327...</td>\n",
       "      <td>[0.11670811, 0.030976295, -0.02641234, -0.1190...</td>\n",
       "      <td>[0.19017154, 0.094812796, -0.003392328, -0.117...</td>\n",
       "      <td>[0.13538006, 0.04384046, 0.006757291, -0.05630...</td>\n",
       "      <td>[0.07334437, -0.024985045, -0.021543493, -0.13...</td>\n",
       "      <td>[0.097782776, 0.006623201, -0.026629627, -0.12...</td>\n",
       "      <td>[0.3373683, 0.24063022, -0.0021311226, -0.1236...</td>\n",
       "      <td>[0.15725388, 0.042757872, -0.008270113, -0.101...</td>\n",
       "      <td>[0.12123768, 0.029323883, -0.025152106, -0.115...</td>\n",
       "      <td>[0.022587577, -0.067165665, -0.03826805, -0.19...</td>\n",
       "    </tr>\n",
       "    <tr>\n",
       "      <th>626822402</th>\n",
       "      <td>[0.27494726, -0.061647326, 0.18791562, -0.2993...</td>\n",
       "      <td>[0.3305084, -0.046140015, 0.18127444, -0.38189...</td>\n",
       "      <td>[0.30549046, -0.052407146, 0.18561853, -0.3563...</td>\n",
       "      <td>[0.33089703, -0.05900829, 0.19056454, -0.28315...</td>\n",
       "      <td>[0.3212989, -0.053632278, 0.18682936, -0.28965...</td>\n",
       "      <td>[0.33208808, -0.05664587, 0.18075578, -0.28696...</td>\n",
       "      <td>[0.32238388, -0.05355747, 0.18911934, -0.28512...</td>\n",
       "      <td>[0.2843451, -0.075362384, 0.17306942, -0.26655...</td>\n",
       "      <td>[0.26771063, -0.066218354, 0.17441167, -0.2618...</td>\n",
       "      <td>[0.28459507, -0.07167025, 0.17930306, -0.29999...</td>\n",
       "      <td>...</td>\n",
       "      <td>[0.34554872, -0.114436746, 0.16829908, -0.2782...</td>\n",
       "      <td>[0.25267428, -0.080995634, 0.17711401, -0.2627...</td>\n",
       "      <td>[0.3340537, -0.093892336, 0.1561747, -0.314642...</td>\n",
       "      <td>[0.3147732, -0.065012425, 0.17388539, -0.25686...</td>\n",
       "      <td>[0.29047766, -0.05335179, 0.18333776, -0.34369...</td>\n",
       "      <td>[0.2530854, -0.07009541, 0.18177888, -0.267674...</td>\n",
       "      <td>[0.3673926, -0.15189306, 0.14653346, -0.250014...</td>\n",
       "      <td>[0.27901053, -0.060020022, 0.20105505, -0.2875...</td>\n",
       "      <td>[0.2838174, -0.074696735, 0.17902729, -0.29193...</td>\n",
       "      <td>[0.25677127, -0.058577746, 0.19382006, -0.2792...</td>\n",
       "    </tr>\n",
       "    <tr>\n",
       "      <th>...</th>\n",
       "      <td>...</td>\n",
       "      <td>...</td>\n",
       "      <td>...</td>\n",
       "      <td>...</td>\n",
       "      <td>...</td>\n",
       "      <td>...</td>\n",
       "      <td>...</td>\n",
       "      <td>...</td>\n",
       "      <td>...</td>\n",
       "      <td>...</td>\n",
       "      <td>...</td>\n",
       "      <td>...</td>\n",
       "      <td>...</td>\n",
       "      <td>...</td>\n",
       "      <td>...</td>\n",
       "      <td>...</td>\n",
       "      <td>...</td>\n",
       "      <td>...</td>\n",
       "      <td>...</td>\n",
       "      <td>...</td>\n",
       "      <td>...</td>\n",
       "    </tr>\n",
       "    <tr>\n",
       "      <th>2011621972</th>\n",
       "      <td>NaN</td>\n",
       "      <td>NaN</td>\n",
       "      <td>NaN</td>\n",
       "      <td>NaN</td>\n",
       "      <td>NaN</td>\n",
       "      <td>NaN</td>\n",
       "      <td>NaN</td>\n",
       "      <td>NaN</td>\n",
       "      <td>NaN</td>\n",
       "      <td>NaN</td>\n",
       "      <td>...</td>\n",
       "      <td>NaN</td>\n",
       "      <td>NaN</td>\n",
       "      <td>NaN</td>\n",
       "      <td>NaN</td>\n",
       "      <td>NaN</td>\n",
       "      <td>NaN</td>\n",
       "      <td>NaN</td>\n",
       "      <td>NaN</td>\n",
       "      <td>NaN</td>\n",
       "      <td>NaN</td>\n",
       "    </tr>\n",
       "    <tr>\n",
       "      <th>2011622024</th>\n",
       "      <td>NaN</td>\n",
       "      <td>NaN</td>\n",
       "      <td>NaN</td>\n",
       "      <td>NaN</td>\n",
       "      <td>NaN</td>\n",
       "      <td>NaN</td>\n",
       "      <td>NaN</td>\n",
       "      <td>NaN</td>\n",
       "      <td>NaN</td>\n",
       "      <td>NaN</td>\n",
       "      <td>...</td>\n",
       "      <td>NaN</td>\n",
       "      <td>NaN</td>\n",
       "      <td>NaN</td>\n",
       "      <td>NaN</td>\n",
       "      <td>NaN</td>\n",
       "      <td>NaN</td>\n",
       "      <td>NaN</td>\n",
       "      <td>NaN</td>\n",
       "      <td>NaN</td>\n",
       "      <td>NaN</td>\n",
       "    </tr>\n",
       "    <tr>\n",
       "      <th>2011622065</th>\n",
       "      <td>NaN</td>\n",
       "      <td>NaN</td>\n",
       "      <td>NaN</td>\n",
       "      <td>NaN</td>\n",
       "      <td>NaN</td>\n",
       "      <td>NaN</td>\n",
       "      <td>NaN</td>\n",
       "      <td>NaN</td>\n",
       "      <td>NaN</td>\n",
       "      <td>NaN</td>\n",
       "      <td>...</td>\n",
       "      <td>NaN</td>\n",
       "      <td>NaN</td>\n",
       "      <td>NaN</td>\n",
       "      <td>NaN</td>\n",
       "      <td>NaN</td>\n",
       "      <td>NaN</td>\n",
       "      <td>NaN</td>\n",
       "      <td>NaN</td>\n",
       "      <td>NaN</td>\n",
       "      <td>NaN</td>\n",
       "    </tr>\n",
       "    <tr>\n",
       "      <th>2011626864</th>\n",
       "      <td>NaN</td>\n",
       "      <td>NaN</td>\n",
       "      <td>NaN</td>\n",
       "      <td>NaN</td>\n",
       "      <td>NaN</td>\n",
       "      <td>NaN</td>\n",
       "      <td>NaN</td>\n",
       "      <td>NaN</td>\n",
       "      <td>NaN</td>\n",
       "      <td>NaN</td>\n",
       "      <td>...</td>\n",
       "      <td>NaN</td>\n",
       "      <td>NaN</td>\n",
       "      <td>NaN</td>\n",
       "      <td>NaN</td>\n",
       "      <td>NaN</td>\n",
       "      <td>NaN</td>\n",
       "      <td>NaN</td>\n",
       "      <td>NaN</td>\n",
       "      <td>NaN</td>\n",
       "      <td>NaN</td>\n",
       "    </tr>\n",
       "    <tr>\n",
       "      <th>2011632199</th>\n",
       "      <td>NaN</td>\n",
       "      <td>NaN</td>\n",
       "      <td>NaN</td>\n",
       "      <td>NaN</td>\n",
       "      <td>NaN</td>\n",
       "      <td>NaN</td>\n",
       "      <td>NaN</td>\n",
       "      <td>NaN</td>\n",
       "      <td>NaN</td>\n",
       "      <td>NaN</td>\n",
       "      <td>...</td>\n",
       "      <td>NaN</td>\n",
       "      <td>NaN</td>\n",
       "      <td>NaN</td>\n",
       "      <td>NaN</td>\n",
       "      <td>NaN</td>\n",
       "      <td>NaN</td>\n",
       "      <td>NaN</td>\n",
       "      <td>NaN</td>\n",
       "      <td>NaN</td>\n",
       "      <td>NaN</td>\n",
       "    </tr>\n",
       "  </tbody>\n",
       "</table>\n",
       "<p>117310 rows × 52 columns</p>\n",
       "</div>"
      ],
      "text/plain": [
       "                                                          d_0   \n",
       "624531411   [-0.016383378, -0.11197758, -0.037253555, -0.2...  \\\n",
       "625340088   [0.06821822, -0.05620522, -0.065800205, -0.222...   \n",
       "625805682   [0.028528668, -0.060206894, 0.07548873, -0.348...   \n",
       "626662493   [0.059955165, -0.02994335, -0.03311316, -0.143...   \n",
       "626822402   [0.27494726, -0.061647326, 0.18791562, -0.2993...   \n",
       "...                                                       ...   \n",
       "2011621972                                                NaN   \n",
       "2011622024                                                NaN   \n",
       "2011622065                                                NaN   \n",
       "2011626864                                                NaN   \n",
       "2011632199                                                NaN   \n",
       "\n",
       "                                                          d_1   \n",
       "624531411   [0.010617012, -0.09705223, -0.01200425, -0.120...  \\\n",
       "625340088   [0.10693053, -0.017095909, -0.044121563, -0.09...   \n",
       "625805682   [0.042353593, -0.07522996, 0.045501076, -0.324...   \n",
       "626662493   [0.10139962, 0.009669423, -0.022478202, -0.038...   \n",
       "626822402   [0.3305084, -0.046140015, 0.18127444, -0.38189...   \n",
       "...                                                       ...   \n",
       "2011621972                                                NaN   \n",
       "2011622024                                                NaN   \n",
       "2011622065                                                NaN   \n",
       "2011626864                                                NaN   \n",
       "2011632199                                                NaN   \n",
       "\n",
       "                                                          d_2   \n",
       "624531411   [0.028110279, -0.08243386, -0.016131265, -0.18...  \\\n",
       "625340088   [0.10340122, -0.019759048, -0.055330824, -0.16...   \n",
       "625805682   [0.043712128, -0.07069669, 0.053283475, -0.341...   \n",
       "626662493   [0.0790334, -0.01266022, -0.02287779, -0.10124...   \n",
       "626822402   [0.30549046, -0.052407146, 0.18561853, -0.3563...   \n",
       "...                                                       ...   \n",
       "2011621972                                                NaN   \n",
       "2011622024                                                NaN   \n",
       "2011622065                                                NaN   \n",
       "2011626864                                                NaN   \n",
       "2011632199                                                NaN   \n",
       "\n",
       "                                                          d_3   \n",
       "624531411   [0.0022158436, -0.11320748, -0.010183357, -0.1...  \\\n",
       "625340088   [0.044841465, -0.09599258, -0.047074445, -0.14...   \n",
       "625805682   [0.0912251, -0.05125811, 0.106232695, -0.31711...   \n",
       "626662493   [0.030228794, -0.07793985, -0.028091416, -0.13...   \n",
       "626822402   [0.33089703, -0.05900829, 0.19056454, -0.28315...   \n",
       "...                                                       ...   \n",
       "2011621972                                                NaN   \n",
       "2011622024                                                NaN   \n",
       "2011622065                                                NaN   \n",
       "2011626864                                                NaN   \n",
       "2011632199                                                NaN   \n",
       "\n",
       "                                                          d_4   \n",
       "624531411   [0.005926796, -0.10500478, -0.010475147, -0.12...  \\\n",
       "625340088   [0.042860292, -0.08393292, -0.043275695, -0.10...   \n",
       "625805682   [0.071796775, -0.050604787, 0.09280021, -0.337...   \n",
       "626662493   [0.036995795, -0.06270175, -0.0315825, -0.1039...   \n",
       "626822402   [0.3212989, -0.053632278, 0.18682936, -0.28965...   \n",
       "...                                                       ...   \n",
       "2011621972                                                NaN   \n",
       "2011622024                                                NaN   \n",
       "2011622065                                                NaN   \n",
       "2011626864                                                NaN   \n",
       "2011632199                                                NaN   \n",
       "\n",
       "                                                          d_5   \n",
       "624531411   [0.0113420375, -0.09601049, -0.014044623, -0.1...  \\\n",
       "625340088   [0.038487554, -0.07838504, -0.053617507, -0.16...   \n",
       "625805682   [0.076959535, -0.04865962, 0.090105645, -0.341...   \n",
       "626662493   [0.027064249, -0.0709749, -0.031441428, -0.146...   \n",
       "626822402   [0.33208808, -0.05664587, 0.18075578, -0.28696...   \n",
       "...                                                       ...   \n",
       "2011621972                                                NaN   \n",
       "2011622024                                                NaN   \n",
       "2011622065                                                NaN   \n",
       "2011626864                                                NaN   \n",
       "2011632199                                                NaN   \n",
       "\n",
       "                                                          d_6   \n",
       "624531411   [0.016601732, -0.09619771, -0.009100688, -0.14...  \\\n",
       "625340088   [0.05473292, -0.075368986, -0.042547263, -0.12...   \n",
       "625805682   [0.077228464, -0.051366046, 0.099378556, -0.32...   \n",
       "626662493   [0.043158136, -0.059222713, -0.027855176, -0.1...   \n",
       "626822402   [0.32238388, -0.05355747, 0.18911934, -0.28512...   \n",
       "...                                                       ...   \n",
       "2011621972                                                NaN   \n",
       "2011622024                                                NaN   \n",
       "2011622065                                                NaN   \n",
       "2011626864                                                NaN   \n",
       "2011632199                                                NaN   \n",
       "\n",
       "                                                          d_7   \n",
       "624531411   [0.11544543, -0.005443737, -0.005527966, -0.18...  \\\n",
       "625340088   [0.18368945, 0.09457679, -0.079515636, -0.1797...   \n",
       "625805682   [0.051017053, -0.06567388, 0.10099919, -0.2431...   \n",
       "626662493   [0.13726412, 0.05951462, 0.010710327, -0.14864...   \n",
       "626822402   [0.2843451, -0.075362384, 0.17306942, -0.26655...   \n",
       "...                                                       ...   \n",
       "2011621972                                                NaN   \n",
       "2011622024                                                NaN   \n",
       "2011622065                                                NaN   \n",
       "2011626864                                                NaN   \n",
       "2011632199                                                NaN   \n",
       "\n",
       "                                                          d_8   \n",
       "624531411   [0.02586015, -0.086351044, -0.010884014, -0.16...  \\\n",
       "625340088   [0.1327912, 0.019922812, -0.06676929, -0.15574...   \n",
       "625805682   [0.04003511, -0.047263972, 0.09858238, -0.3281...   \n",
       "626662493   [0.083741456, 0.0010779575, 0.00037083589, -0....   \n",
       "626822402   [0.26771063, -0.066218354, 0.17441167, -0.2618...   \n",
       "...                                                       ...   \n",
       "2011621972                                                NaN   \n",
       "2011622024                                                NaN   \n",
       "2011622065                                                NaN   \n",
       "2011626864                                                NaN   \n",
       "2011632199                                                NaN   \n",
       "\n",
       "                                                          d_9  ...   \n",
       "624531411   [0.009882777, -0.09707534, -0.021866538, -0.18...  ...  \\\n",
       "625340088   [0.1424106, 0.018941574, -0.052223623, -0.1458...  ...   \n",
       "625805682   [0.054769102, -0.05078943, 0.08115368, -0.2868...  ...   \n",
       "626662493   [0.12572579, 0.037525304, -0.019792218, -0.073...  ...   \n",
       "626822402   [0.28459507, -0.07167025, 0.17930306, -0.29999...  ...   \n",
       "...                                                       ...  ...   \n",
       "2011621972                                                NaN  ...   \n",
       "2011622024                                                NaN  ...   \n",
       "2011622065                                                NaN  ...   \n",
       "2011626864                                                NaN  ...   \n",
       "2011632199                                                NaN  ...   \n",
       "\n",
       "                                                         d_42   \n",
       "624531411   [0.18155344, 0.026362767, -0.01475883, -0.2147...  \\\n",
       "625340088   [0.24319527, 0.12634419, -0.05570019, -0.18991...   \n",
       "625805682   [0.18210159, 0.063631855, 0.05955499, -0.32273...   \n",
       "626662493   [0.15025625, 0.0521947, -0.026349314, -0.17327...   \n",
       "626822402   [0.34554872, -0.114436746, 0.16829908, -0.2782...   \n",
       "...                                                       ...   \n",
       "2011621972                                                NaN   \n",
       "2011622024                                                NaN   \n",
       "2011622065                                                NaN   \n",
       "2011626864                                                NaN   \n",
       "2011632199                                                NaN   \n",
       "\n",
       "                                                         d_43   \n",
       "624531411   [0.0069437977, -0.09799223, -0.02816795, -0.23...  \\\n",
       "625340088   [0.12861286, 0.009207115, -0.063367575, -0.198...   \n",
       "625805682   [0.057935737, -0.034007467, 0.08288933, -0.324...   \n",
       "626662493   [0.11670811, 0.030976295, -0.02641234, -0.1190...   \n",
       "626822402   [0.25267428, -0.080995634, 0.17711401, -0.2627...   \n",
       "...                                                       ...   \n",
       "2011621972                                                NaN   \n",
       "2011622024                                                NaN   \n",
       "2011622065                                                NaN   \n",
       "2011626864                                                NaN   \n",
       "2011632199                                                NaN   \n",
       "\n",
       "                                                         d_44   \n",
       "624531411   [0.18892401, 0.041114308, -0.00097465096, -0.1...  \\\n",
       "625340088   [0.24438602, 0.14896263, -0.07208059, -0.14055...   \n",
       "625805682   [0.21283509, 0.080757335, 0.084314525, -0.2392...   \n",
       "626662493   [0.19017154, 0.094812796, -0.003392328, -0.117...   \n",
       "626822402   [0.3340537, -0.093892336, 0.1561747, -0.314642...   \n",
       "...                                                       ...   \n",
       "2011621972                                                NaN   \n",
       "2011622024                                                NaN   \n",
       "2011622065                                                NaN   \n",
       "2011626864                                                NaN   \n",
       "2011632199                                                NaN   \n",
       "\n",
       "                                                         d_45   \n",
       "624531411   [0.11469094, -0.015334345, 0.006475803, -0.087...  \\\n",
       "625340088   [0.1749304, 0.08700106, -0.05070314, -0.066946...   \n",
       "625805682   [0.099942975, -0.049863294, 0.13453224, -0.256...   \n",
       "626662493   [0.13538006, 0.04384046, 0.006757291, -0.05630...   \n",
       "626822402   [0.3147732, -0.065012425, 0.17388539, -0.25686...   \n",
       "...                                                       ...   \n",
       "2011621972                                                NaN   \n",
       "2011622024                                                NaN   \n",
       "2011622065                                                NaN   \n",
       "2011626864                                                NaN   \n",
       "2011632199                                                NaN   \n",
       "\n",
       "                                                         d_46   \n",
       "624531411   [0.027374564, -0.08158906, -0.01762917, -0.206...  \\\n",
       "625340088   [0.100104034, -0.02964319, -0.0711903, -0.2004...   \n",
       "625805682   [0.046176944, -0.0769093, 0.06805101, -0.29428...   \n",
       "626662493   [0.07334437, -0.024985045, -0.021543493, -0.13...   \n",
       "626822402   [0.29047766, -0.05335179, 0.18333776, -0.34369...   \n",
       "...                                                       ...   \n",
       "2011621972                                                NaN   \n",
       "2011622024                                                NaN   \n",
       "2011622065                                                NaN   \n",
       "2011626864                                                NaN   \n",
       "2011632199                                                NaN   \n",
       "\n",
       "                                                         d_47   \n",
       "624531411   [0.04705087, -0.065758094, -0.018019354, -0.21...  \\\n",
       "625340088   [0.13491955, 0.01794957, -0.067108504, -0.1916...   \n",
       "625805682   [0.037154716, -0.05500753, 0.088356555, -0.317...   \n",
       "626662493   [0.097782776, 0.006623201, -0.026629627, -0.12...   \n",
       "626822402   [0.2530854, -0.07009541, 0.18177888, -0.267674...   \n",
       "...                                                       ...   \n",
       "2011621972                                                NaN   \n",
       "2011622024                                                NaN   \n",
       "2011622065                                                NaN   \n",
       "2011626864                                                NaN   \n",
       "2011632199                                                NaN   \n",
       "\n",
       "                                                         d_48   \n",
       "624531411   [0.3474198, 0.15047382, 0.0039090053, -0.13961...  \\\n",
       "625340088   [0.41909015, 0.33678198, -0.07781066, -0.12629...   \n",
       "625805682   [0.33445185, 0.20716941, 0.06621084, -0.234082...   \n",
       "626662493   [0.3373683, 0.24063022, -0.0021311226, -0.1236...   \n",
       "626822402   [0.3673926, -0.15189306, 0.14653346, -0.250014...   \n",
       "...                                                       ...   \n",
       "2011621972                                                NaN   \n",
       "2011622024                                                NaN   \n",
       "2011622065                                                NaN   \n",
       "2011626864                                                NaN   \n",
       "2011632199                                                NaN   \n",
       "\n",
       "                                                         d_49   \n",
       "624531411   [0.11787519, -0.0064049475, -0.0025091413, -0....  \\\n",
       "625340088   [0.17230125, 0.06469397, -0.08423577, -0.16590...   \n",
       "625805682   [0.07703457, -0.032216277, 0.1353079, -0.22812...   \n",
       "626662493   [0.15725388, 0.042757872, -0.008270113, -0.101...   \n",
       "626822402   [0.27901053, -0.060020022, 0.20105505, -0.2875...   \n",
       "...                                                       ...   \n",
       "2011621972                                                NaN   \n",
       "2011622024                                                NaN   \n",
       "2011622065                                                NaN   \n",
       "2011626864                                                NaN   \n",
       "2011632199                                                NaN   \n",
       "\n",
       "                                                         d_50   \n",
       "624531411   [0.069682136, -0.054890573, -0.011223326, -0.1...  \\\n",
       "625340088   [0.15537813, 0.036530755, -0.06381854, -0.1704...   \n",
       "625805682   [0.06902366, -0.051700268, 0.06834428, -0.3177...   \n",
       "626662493   [0.12123768, 0.029323883, -0.025152106, -0.115...   \n",
       "626822402   [0.2838174, -0.074696735, 0.17902729, -0.29193...   \n",
       "...                                                       ...   \n",
       "2011621972                                                NaN   \n",
       "2011622024                                                NaN   \n",
       "2011622065                                                NaN   \n",
       "2011626864                                                NaN   \n",
       "2011632199                                                NaN   \n",
       "\n",
       "                                                         d_51  \n",
       "624531411   [-0.011351064, -0.100169934, -0.034848228, -0....  \n",
       "625340088   [0.02809963, -0.08056283, -0.07836892, -0.2682...  \n",
       "625805682   [0.03009884, -0.06154553, 0.08346843, -0.34348...  \n",
       "626662493   [0.022587577, -0.067165665, -0.03826805, -0.19...  \n",
       "626822402   [0.25677127, -0.058577746, 0.19382006, -0.2792...  \n",
       "...                                                       ...  \n",
       "2011621972                                                NaN  \n",
       "2011622024                                                NaN  \n",
       "2011622065                                                NaN  \n",
       "2011626864                                                NaN  \n",
       "2011632199                                                NaN  \n",
       "\n",
       "[117310 rows x 52 columns]"
      ]
     },
     "execution_count": 100,
     "metadata": {},
     "output_type": "execute_result"
    }
   ],
   "source": [
    "xml_embedding_df"
   ]
  },
  {
   "cell_type": "code",
   "execution_count": null,
   "id": "002dbdf1-0b3b-4f9f-874c-375e13b2f82f",
   "metadata": {},
   "outputs": [],
   "source": []
  }
 ],
 "metadata": {
  "kernelspec": {
   "display_name": ".conda-articleclassifier [Python]",
   "language": "python",
   "name": "conda-env-.conda-articleclassifier-py"
  },
  "language_info": {
   "codemirror_mode": {
    "name": "ipython",
    "version": 3
   },
   "file_extension": ".py",
   "mimetype": "text/x-python",
   "name": "python",
   "nbconvert_exporter": "python",
   "pygments_lexer": "ipython3",
   "version": "3.9.16"
  }
 },
 "nbformat": 4,
 "nbformat_minor": 5
}
