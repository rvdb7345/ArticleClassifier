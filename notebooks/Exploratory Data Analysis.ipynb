{
 "cells": [
  {
   "cell_type": "markdown",
   "id": "5e25ea09-74d6-47e6-bad6-e922f52c3532",
   "metadata": {},
   "source": [
    "# Personal Information\n",
    "Name: Robin van den Berg\n",
    "\n",
    "StudentID: 11317345\n",
    "\n",
    "Email: [**robin.vanden.berg@student.uva.nl**](robin.vanden.berg@student.uva.nl)\n",
    "\n",
    "Submitted on: 15-03-2023"
   ]
  },
  {
   "cell_type": "markdown",
   "id": "e3cf6243-adfe-4eb8-bba3-bb2835079abd",
   "metadata": {},
   "source": [
    "# Data Context\n",
    "**In this section you should introduce the datasources and datasets which you will be working with. Explain where they are from as well as their domain. Give an overview of what the context of the data is. You should not spend more than 1 to 2 paragraphs here as the core information will be in the next section.**"
   ]
  },
  {
   "cell_type": "markdown",
   "id": "b9d6d350",
   "metadata": {},
   "source": [
    "The data presented in this EDA is from Elsevier and is named Canary. The dataset is a subset of the Embase database. The Embase database is a biomedical research database maintained by the published Elsevier. The datbase is indexed by Emtree indexing terms, Elsevier’s authoritative life science thesaurus. The dataset contains the abstracts, keywords, titles and some supplemental information about articles present in this database in combination with the Emtree terms that are linked in to articles.\n",
    "\n",
    "In this project, the Emtree terms are the labels that we want to assign to the papers. The Emtree terms are polyhierarchical, meaning that we have multiple tree structures that link the terms, while terms can still occur in two (or more) hierarchies at the same time. The Emtree terms index the entire text and pose a multilabel classification problem where the labels are not independent."
   ]
  },
  {
   "cell_type": "markdown",
   "id": "a833d964-56e1-49c7-8172-7435357624aa",
   "metadata": {},
   "source": [
    "# Data Description\n",
    "\n",
    "**Present here the results of your exploratory data analysis. Note that there is no need to have a \"story line\" - it is more important that you show your understanding of the data and the methods that you will be using in your experiments (i.e. your methodology).**\n",
    "\n",
    "**As an example, you could show data, label, or group balances, skewness, and basic characterizations of the data. Information about data frequency and distributions as well as results from reduction mechanisms such as PCA could be useful. Furthermore, indicate outliers and how/why you are taking them out of your samples, if you do so.**\n",
    "\n",
    "**The idea is, that you conduct this analysis to a) understand the data better but b) also to verify the shapes of the distributions and whether they meet the assumptions of the methods that you will attempt to use. Finally, make good use of images, diagrams, and tables to showcase what information you have extracted from your data.**\n",
    "\n",
    "As you can see, you are in a jupyter notebook environment here. This means that you should focus little on writing text and more on actually exploring your data. If you need to, you can use the amsmath environment in-line: $e=mc^2$ or also in separate equations such as here:\n",
    "\n",
    "\\begin{equation}\n",
    "    e=mc^2 \\mathrm{\\space where \\space} e,m,c\\in \\mathbb{R}\n",
    "\\end{equation}\n",
    "\n",
    "Furthermore, you can insert images such as your data aggregation diagrams like this:\n",
    "\n",
    "![image](example.png)"
   ]
  },
  {
   "cell_type": "code",
   "execution_count": 2,
   "id": "534317db-d881-4e33-a358-754e2881e8bd",
   "metadata": {},
   "outputs": [],
   "source": [
    "# Imports\n",
    "import ast\n",
    "import os\n",
    "import sys\n",
    "import itertools\n",
    "from itertools import combinations\n",
    "from collections import Counter\n",
    "import seaborn as sns\n",
    "import matplotlib.pyplot as plt\n",
    "import numpy as np\n",
    "import pandas as pd\n",
    "from gensim.test.utils import common_texts\n",
    "from gensim.models.doc2vec import Doc2Vec, TaggedDocument\n",
    "from sklearn.neighbors import KNeighborsClassifier\n",
    "from sklearn.metrics import precision_score, recall_score, confusion_matrix, f1_score\n",
    "from tqdm import tqdm"
   ]
  },
  {
   "cell_type": "code",
   "execution_count": 3,
   "id": "d53eafb7",
   "metadata": {},
   "outputs": [],
   "source": [
    "sys.path.append(\n",
    "  os.path.abspath(os.path.join(os.path.dirname('data_loader.py'), os.path.pardir)))\n",
    "from src.data.data_loader import DataLoader"
   ]
  },
  {
   "cell_type": "code",
   "execution_count": 4,
   "id": "9719f7a7",
   "metadata": {},
   "outputs": [],
   "source": [
    "pd.set_option('display.max_rows', 500)\n",
    "pd.set_option('display.max_columns', 500)\n",
    "pd.set_option('display.width', 1000)"
   ]
  },
  {
   "cell_type": "markdown",
   "id": "b582b299-f599-4140-a454-bcbfdeeb273f",
   "metadata": {},
   "source": [
    "### Data Loading"
   ]
  },
  {
   "cell_type": "code",
   "execution_count": 5,
   "id": "198cca81",
   "metadata": {},
   "outputs": [],
   "source": [
    "loc_dict = {\n",
    "    'train': '../data/raw/canary/set_B_train_kw.csv',\n",
    "    'val': '../data/raw/canary/set_B_val_kw.csv',\n",
    "    'test': '../data/raw/canary/set_B_test_kw.csv',\n",
    "    'xml':  '../data/raw/canary/original_xml_files/20210210_11422_194_1.xml',\n",
    "    'xml_csv':  '../data/raw/canary/original_xml_files/all_articles_diff_labels.csv'\n",
    "}\n",
    "data_loader = DataLoader(loc_dict)"
   ]
  },
  {
   "cell_type": "code",
   "execution_count": 6,
   "id": "9f0cf9be-2cac-4227-957f-ad893212e70c",
   "metadata": {},
   "outputs": [],
   "source": [
    "data_df = data_loader.load_xml_csv()"
   ]
  },
  {
   "cell_type": "markdown",
   "id": "b4df9546-a6d7-4678-aca6-cd13d5f3c79a",
   "metadata": {},
   "source": [
    "### Analysis 1: \n",
    "Explore content of the data. What is in there, and what are the mistakes.\n",
    "\n",
    "Side note: The data was originally structured as separate XML files. This files have subsequently been parsed to csv, extracting the information that is likely to be useful and that we want to use for the research."
   ]
  },
  {
   "cell_type": "code",
   "execution_count": null,
   "id": "a889a6c7-aed8-4a0f-9925-c4f8e2fce1d5",
   "metadata": {},
   "outputs": [],
   "source": [
    "# what does the data look like?\n",
    "print(f\"The shape of the data: {data_df.shape}\")\n",
    "print(f\"The columns that we have for each article: \\n {data_df.columns.tolist()}\")\n",
    "print(f\"A sample of the data:\")\n",
    "data_df.head()"
   ]
  },
  {
   "cell_type": "code",
   "execution_count": null,
   "id": "18c9d487",
   "metadata": {
    "scrolled": true
   },
   "outputs": [],
   "source": [
    "# check the missing data for each column\n",
    "percent_missing = data_df.isnull().sum() * 100 / len(data_df)\n",
    "\n",
    "print(percent_missing.sort_values(ascending=False)[:10])"
   ]
  },
  {
   "cell_type": "code",
   "execution_count": 6,
   "id": "d93ab358",
   "metadata": {},
   "outputs": [],
   "source": [
    "# see structure of author and organisation information\n",
    "data_df['authors'] = data_df['authors'].apply(lambda x: ast.literal_eval(x))\n",
    "data_df['organization'] = data_df['organization'].apply(lambda x: ast.literal_eval(x))"
   ]
  },
  {
   "cell_type": "markdown",
   "id": "0a578ba1",
   "metadata": {},
   "source": [
    "### Visualise the structure of the labels"
   ]
  },
  {
   "cell_type": "code",
   "execution_count": null,
   "id": "0563827d",
   "metadata": {},
   "outputs": [],
   "source": [
    "label_structure_df = pd.read_csv('../data/raw/canary/original_xml_files/paulas_labels.csv', sep=';')"
   ]
  },
  {
   "cell_type": "code",
   "execution_count": null,
   "id": "ecc8ef8f",
   "metadata": {
    "scrolled": true
   },
   "outputs": [],
   "source": [
    "label_structure_df.head()"
   ]
  },
  {
   "cell_type": "markdown",
   "id": "c2b796dc-f69d-4686-b802-bd0d8f679ee8",
   "metadata": {},
   "source": [
    "### Evaluate the occurrence and the co-occurrence of the different labels \n"
   ]
  },
  {
   "cell_type": "code",
   "execution_count": null,
   "id": "c33b453f-1bc2-4cad-8021-e548d307f154",
   "metadata": {},
   "outputs": [],
   "source": [
    "def get_labels(row):\n",
    "    \"\"\"De-onehot encode a row.\"\"\"\n",
    "    return(list(row.index[row==1]))"
   ]
  },
  {
   "cell_type": "code",
   "execution_count": null,
   "id": "647592f2",
   "metadata": {},
   "outputs": [],
   "source": [
    "# get all labels in separate dataframe\n",
    "label_columns = data_df.loc[:, ~data_df.columns.isin(['file_name', 'pui', 'title', 'keywords', 'abstract', 'abstract_2', 'authors', 'organization', 'chemicals', 'num_refs', 'date-delivered', 'labels_m', 'labels_a'])]\n",
    "label_columns = label_columns.astype(int)"
   ]
  },
  {
   "cell_type": "code",
   "execution_count": null,
   "id": "d64c9f1e",
   "metadata": {},
   "outputs": [],
   "source": [
    "label_occurrences = label_columns.sum().sort_values(ascending=False)\n",
    "plt.figure(figsize = (10,5))\n",
    "label_occurrences.plot(kind='bar')"
   ]
  },
  {
   "cell_type": "code",
   "execution_count": null,
   "id": "c9f97d6a",
   "metadata": {},
   "outputs": [],
   "source": [
    "# inspect correlation between labels\n",
    "corr = data_df.corr(numeric_only=True)\n",
    "mask = np.triu(np.ones_like(corr, dtype=bool))\n",
    "\n",
    "f, ax = plt.subplots(figsize=(11, 9))\n",
    "cmap = sns.diverging_palette(230, 20, as_cmap=True)\n",
    "sns.heatmap(corr, mask=mask, cmap=cmap, vmax=.3, center=0,\n",
    "            square=True, linewidths=.5, cbar_kws={\"shrink\": .5})"
   ]
  },
  {
   "cell_type": "code",
   "execution_count": null,
   "id": "c879c387",
   "metadata": {},
   "outputs": [],
   "source": [
    "def collect_pairs(lines, combination_size):\n",
    "    \"\"\"Count the co-occurrences of labels.\"\"\"\n",
    "    pair_counter = Counter()\n",
    "    for line in lines:\n",
    "        unique_tokens = sorted(set(line))  # exclude duplicates in same line and sort to ensure one word is always before other\n",
    "        combos = combinations(unique_tokens, combination_size)\n",
    "        pair_counter += Counter(combos)\n",
    "    return pair_counter"
   ]
  },
  {
   "cell_type": "code",
   "execution_count": null,
   "id": "9bdd6b4c",
   "metadata": {},
   "outputs": [],
   "source": [
    "# get all the label combinations\n",
    "label_columns.loc[:, 'label'] = label_columns.apply(lambda row:get_labels(row[label_columns.columns]), axis=1)\n",
    "all_label_combinations = label_columns['label'].to_list()"
   ]
  },
  {
   "cell_type": "code",
   "execution_count": null,
   "id": "36acce6b",
   "metadata": {},
   "outputs": [],
   "source": [
    "# the average number of labels:\n",
    "print('This is the average number of labels: ', sum([len(l) for l in all_label_combinations])/len(all_label_combinations))\n",
    "# print('The occurrence of each label: \\n', label_columns.sum())"
   ]
  },
  {
   "cell_type": "code",
   "execution_count": null,
   "id": "5569bb45",
   "metadata": {},
   "outputs": [],
   "source": [
    "# check the 30 most occurring label combinations\n",
    "pairs = collect_pairs(all_label_combinations, combination_size=3)\n",
    "pairs.most_common(10)"
   ]
  },
  {
   "cell_type": "markdown",
   "id": "48810b90",
   "metadata": {},
   "source": [
    "### Check the occurrence and co-occurrence of different author assigned keywords"
   ]
  },
  {
   "cell_type": "code",
   "execution_count": null,
   "id": "d230dc59",
   "metadata": {},
   "outputs": [],
   "source": [
    "# get the average number of keywords\n",
    "keywords_df = \\\n",
    "    data_df['keywords'].\\\n",
    "    dropna().\\\n",
    "    str.replace('[^|\\w\\s]','', regex=True).\\\n",
    "    str.lower().\\\n",
    "    str.split('|')\n",
    "\n",
    "keywords_np = keywords_df.to_numpy()\n",
    "\n",
    "keywords_list_merged = list(itertools.chain.from_iterable(keywords_np))\n",
    "\n",
    "print(f'The number of unique keywords: {len(np.unique(keywords_list_merged))}')\n",
    "unique, counts = np.unique(keywords_list_merged, return_counts=True)\n",
    "print(\"The most occurring keywords in the dataset: \", sorted(list(zip(unique, counts)), key=lambda x: x[1], reverse=True)[:100])"
   ]
  },
  {
   "cell_type": "markdown",
   "id": "89d657e0",
   "metadata": {},
   "source": [
    "### Check the author occurrences"
   ]
  },
  {
   "cell_type": "code",
   "execution_count": null,
   "id": "0891caac",
   "metadata": {},
   "outputs": [],
   "source": [
    "# first create a pivotted table with the article and the authors individually in a second column\n",
    "author_df = data_df[['pui', 'authors']]\n",
    "author_df = author_df.explode('authors').reset_index(drop=True)\n",
    "author_qs = pd.json_normalize(author_df['authors']).reset_index(drop=True)\n",
    "author_df = pd.concat([author_df, author_qs], axis=1)"
   ]
  },
  {
   "cell_type": "code",
   "execution_count": null,
   "id": "268d9b45",
   "metadata": {},
   "outputs": [],
   "source": [
    "# look at the identifiable orcid ids and the occurrences there\n",
    "print(f'The occurrences of orcid ids in the current dataset: \\n', author_df[\"orcid\"].value_counts()[:15])\n",
    "print(f'The number of authors with only one article under their orcid: ', (author_df[\"orcid\"].value_counts() == 1).sum())\n",
    "print(f'The occurrences of index names (to see whether name matching would make sense, disclaimer it would not...): \\n', author_df[\"indexed-name\"].value_counts()[:20])\n",
    "single_author_paper = author_df.drop_duplicates(subset=[\"instance-id\", \"author-id\"])\n",
    "print(f'The occurrences of authors ids in the current dataset: \\n', single_author_paper['author-id'].value_counts()[:15])\n"
   ]
  },
  {
   "cell_type": "markdown",
   "id": "f273bea3-ecaa-4fac-83d0-5fe547b7873d",
   "metadata": {},
   "source": [
    "### Clean text data"
   ]
  },
  {
   "cell_type": "code",
   "execution_count": null,
   "id": "b43d6398",
   "metadata": {},
   "outputs": [],
   "source": [
    "from gensim.parsing.preprocessing import remove_stopwords\n"
   ]
  },
  {
   "cell_type": "code",
   "execution_count": null,
   "id": "60074a1b-1ae5-46e8-971f-100199861c9c",
   "metadata": {},
   "outputs": [],
   "source": [
    "data_df['abstract'] = data_df['abstract'].fillna(data_df['abstract_2'])\n",
    "text_df = data_df['abstract'].\\\n",
    "    dropna().\\\n",
    "    str.lower().\\\n",
    "    str.replace('[^|\\w\\s]','', regex=True).\\\n",
    "    apply(lambda x: remove_stopwords(x))\n",
    "\n",
    "text_df\n"
   ]
  },
  {
   "cell_type": "markdown",
   "id": "da907a9a",
   "metadata": {},
   "source": [
    "### Check the correlation of the labels with the keywords and the authors"
   ]
  },
  {
   "cell_type": "code",
   "execution_count": null,
   "id": "76bc13fa",
   "metadata": {
    "scrolled": true
   },
   "outputs": [],
   "source": [
    "most_common_keywords = sorted(list(zip(unique, counts)), key=lambda x: x[1], reverse=True)\n",
    "most_common_keywords = [keyword[0] for keyword in most_common_keywords[:100]]\n",
    "onehot_keyword_df = pd.DataFrame(columns=most_common_keywords, index=data_df.index)\n",
    "\n",
    "for column in onehot_keyword_df.columns:\n",
    "    onehot_keyword_df[column] = data_df['keywords'].str.contains(column)"
   ]
  },
  {
   "cell_type": "code",
   "execution_count": null,
   "id": "84b7f5ab",
   "metadata": {},
   "outputs": [],
   "source": [
    "keywords_labels = pd.concat([onehot_keyword_df.reset_index(drop=True), \n",
    "                             label_columns.reset_index(drop=True)], axis=1)\n",
    "keywords_labels.fillna(0, inplace=True)\n",
    "keywords_labels = keywords_labels.replace({True: 1, False: 0})\n"
   ]
  },
  {
   "cell_type": "code",
   "execution_count": null,
   "id": "da7d6ff7",
   "metadata": {},
   "outputs": [],
   "source": [
    "# inspect correlation between labels\n",
    "keywords_labels_corr = keywords_labels.corr(numeric_only=True)"
   ]
  },
  {
   "cell_type": "code",
   "execution_count": null,
   "id": "1b96359e",
   "metadata": {},
   "outputs": [],
   "source": [
    "s = keywords_labels_corr.abs().unstack()\n",
    "so = s.sort_values(kind=\"quicksort\", ascending=False)\n",
    "\n",
    "correlations = so.loc[(so != 1)].reset_index()\n",
    "only_keywords_label_combinations = correlations.loc[(correlations['level_0'].isin(label_columns.columns)) & \n",
    "                                                    (correlations['level_1'].isin(onehot_keyword_df.columns))] \n",
    "print(f'These are the strongest correlations: \\n{only_keywords_label_combinations[:25]}')\n",
    "mask = np.triu(np.ones_like(keywords_labels_corr, dtype=bool))\n",
    "\n",
    "f, ax = plt.subplots(figsize=(11, 9))\n",
    "cmap = sns.diverging_palette(230, 20, as_cmap=True)\n",
    "sns.heatmap(keywords_labels_corr, mask=mask, cmap=cmap, vmax=.3, center=0,\n",
    "            square=True, linewidths=.5, cbar_kws={\"shrink\": .5})"
   ]
  },
  {
   "cell_type": "markdown",
   "id": "d35f6b21",
   "metadata": {},
   "source": [
    "### Check the KNN capabilities for assigning multi-labels based on sematic similarity"
   ]
  },
  {
   "cell_type": "markdown",
   "id": "889bfd4c",
   "metadata": {},
   "source": [
    "Get the embeddings ready for the abstracts only."
   ]
  },
  {
   "cell_type": "code",
   "execution_count": null,
   "id": "6b9a34b2",
   "metadata": {},
   "outputs": [],
   "source": [
    "data_for_embedding = data_df.dropna(subset=['abstract'])\n",
    "data_for_embedding.loc[:, 'labels_m'] = data_for_embedding['labels_m'].fillna('')\n",
    "data_for_embedding.loc[:, 'list_label'] = data_for_embedding['labels_m'].str.split(',')"
   ]
  },
  {
   "cell_type": "code",
   "execution_count": null,
   "id": "58db3a02",
   "metadata": {},
   "outputs": [],
   "source": [
    "n = 15000"
   ]
  },
  {
   "cell_type": "code",
   "execution_count": null,
   "id": "d9a78dcb",
   "metadata": {},
   "outputs": [],
   "source": [
    "# tag the documents with all the labels\n",
    "documents = [TaggedDocument(doc['abstract'], tags=[label]) \n",
    "             for i, doc in data_for_embedding[:n].iterrows()\n",
    "             for label in doc['list_label']]"
   ]
  },
  {
   "cell_type": "code",
   "execution_count": null,
   "id": "25edec1a",
   "metadata": {},
   "outputs": [],
   "source": [
    "print(len(documents))\n"
   ]
  },
  {
   "cell_type": "code",
   "execution_count": null,
   "id": "5f2b8b6d",
   "metadata": {},
   "outputs": [],
   "source": [
    "# spin up doc2vec model with the first n documents\n",
    "model = Doc2Vec(documents, vector_size=256, window=5, min_count=10, workers=4)"
   ]
  },
  {
   "cell_type": "code",
   "execution_count": null,
   "id": "bc781ac1",
   "metadata": {},
   "outputs": [],
   "source": [
    "train_embedded_docs = np.array([model.infer_vector(doc) for i, doc in data_for_embedding.loc[:n, ['abstract']].iterrows()])\n",
    "val_embedded_docs = np.array([model.infer_vector(doc) for i, doc in data_for_embedding.loc[n:n+10000, ['abstract']].iterrows()])"
   ]
  },
  {
   "cell_type": "markdown",
   "id": "e0b34c48",
   "metadata": {},
   "source": [
    "Check how easily we can predict labels based on semantic similarity. We shift the classification threshold and see how this effects the different metrics."
   ]
  },
  {
   "cell_type": "code",
   "execution_count": null,
   "id": "5e219fba",
   "metadata": {
    "scrolled": true
   },
   "outputs": [],
   "source": [
    "knn = KNeighborsClassifier(n_neighbors=25, n_jobs=-1)\n",
    "\n",
    "thresholds = np.arange(0.1, 0.9, 0.2)\n",
    "thresholds = [round(threshold, 2) for threshold in thresholds]\n",
    "scorers = {'recall': recall_score, 'f1_score': f1_score, 'precision': precision_score}\n",
    "\n",
    "print(thresholds)\n",
    "scores = {scorer: {key: {} for key in thresholds} for scorer in scorers.keys()}\n",
    "for label in label_columns.columns.difference(['label']):\n",
    "    knn.fit(train_embedded_docs, data_for_embedding.loc[:n, label])\n",
    "    prob_preds = knn.predict_proba(val_embedded_docs)[:,1]\n",
    "    \n",
    "    for threshold in thresholds:\n",
    "        predictions = (prob_preds >= threshold).astype(bool)\n",
    "#         print(f\"Confusion matrix for {label}: \\n\", confusion_matrix(predictions, val_subset_df[label]))\n",
    "        \n",
    "        for scorer_name, scorer in scorers.items():\n",
    "            score = scorer(predictions, data_for_embedding.loc[n:n+10000, label], zero_division=0)\n",
    "#             print(f'{label}-{threshold:.1f}: \\t \\t The {scorer_name}: {score:.2f}')\n",
    "            scores[scorer_name][threshold][label] = score"
   ]
  },
  {
   "cell_type": "code",
   "execution_count": null,
   "id": "abebf989",
   "metadata": {},
   "outputs": [],
   "source": [
    "# check the effect of the prediction threshold on the different scores\n",
    "for scorer_name, scorer in scorers.items():\n",
    "    df = pd.DataFrame(list(scores[scorer_name].values()), index=list(scores[scorer_name].keys())).transpose()\n",
    "#     print(df.columns)\n",
    "#     print(df.sort_values(by=0.1))\n",
    "    fig, ax= plt.subplots(1,1, figsize=(10,5))\n",
    "    ax.set_title(f'{scorer_name}')\n",
    "    df.sort_values(by=0.1).plot.bar(ax=ax)\n",
    "    ax.set_xlabel('Label')\n",
    "    plt.legend(bbox_to_anchor = (1.35, 0.6), loc='center right')\n",
    "    fig.tight_layout()\n",
    "    fig.show()"
   ]
  },
  {
   "cell_type": "markdown",
   "id": "d038fd7e",
   "metadata": {},
   "source": [
    "### Compose different networks"
   ]
  },
  {
   "cell_type": "code",
   "execution_count": 7,
   "id": "218f94fe",
   "metadata": {},
   "outputs": [],
   "source": [
    "import itertools\n",
    "import networkx as nx"
   ]
  },
  {
   "cell_type": "markdown",
   "id": "cf42854e",
   "metadata": {},
   "source": [
    "#### Create author network"
   ]
  },
  {
   "cell_type": "code",
   "execution_count": null,
   "id": "34691b4a",
   "metadata": {},
   "outputs": [],
   "source": [
    "author_grouped_df = author_df[['pui', 'author-id']].groupby('author-id')\n",
    "author_grouped_sizes_df = author_grouped_df.size()\n",
    "author_grouped_get_combinations_df = author_grouped_df.apply(lambda x: list(itertools.combinations(x['pui'].tolist(), 2)))"
   ]
  },
  {
   "cell_type": "code",
   "execution_count": null,
   "id": "bc4f9811",
   "metadata": {},
   "outputs": [],
   "source": [
    "author_grouped_get_combinations_not_empty = author_grouped_get_combinations_df[author_grouped_get_combinations_df.map(lambda d: len(d)) > 0]\n",
    "\n",
    "all_author_links = author_grouped_get_combinations_not_empty.to_frame().explode(0)\n",
    "all_author_links[['from', 'to']] = pd.DataFrame(all_author_links[0].tolist(), index=all_author_links.index)\n",
    "all_author_links.drop(0, inplace=True, axis=1)"
   ]
  },
  {
   "cell_type": "code",
   "execution_count": null,
   "id": "3cbba18f",
   "metadata": {},
   "outputs": [],
   "source": [
    "all_author_links"
   ]
  },
  {
   "cell_type": "code",
   "execution_count": null,
   "id": "8ec01b7f",
   "metadata": {},
   "outputs": [],
   "source": [
    "author_graph = nx.from_pandas_edgelist(all_author_links, source='from', target='to')"
   ]
  },
  {
   "cell_type": "code",
   "execution_count": null,
   "id": "2028f7f3",
   "metadata": {},
   "outputs": [],
   "source": [
    "all_degrees = [v for _, v in nx.degree(author_graph)]\n",
    "print(f'Average degree: {sum(all_degrees)/len(all_degrees)}')\n",
    "plt.figure()\n",
    "plt.xlim(0,50)\n",
    "plt.hist(all_degrees, bins=1000)\n",
    "plt.grid()"
   ]
  },
  {
   "cell_type": "markdown",
   "id": "6416ffe7",
   "metadata": {},
   "source": [
    "#### Create author-assigned keyword network \n",
    "Here, we create a network in which the edges are assigned based on matching keywords assigned by the authors.\n",
    "\n",
    "Some of the articles are without keywords and are therefore isolated."
   ]
  },
  {
   "cell_type": "code",
   "execution_count": 8,
   "id": "408cac43",
   "metadata": {},
   "outputs": [],
   "source": [
    "keywords_df = data_df.copy(deep=True)\n",
    "keywords_df['keyword_lists'] = \\\n",
    "    keywords_df['keywords'].\\\n",
    "    dropna().\\\n",
    "    str.replace('[^|\\w\\s]','', regex=True).\\\n",
    "    str.replace(r'\\r+|\\n+|\\t+', '', regex=True).\\\n",
    "    str.replace(r' +', ' ', regex=True).\\\n",
    "    str.lower().\\\n",
    "    str.split('|')"
   ]
  },
  {
   "cell_type": "code",
   "execution_count": 9,
   "id": "cff79799",
   "metadata": {},
   "outputs": [],
   "source": [
    "keywords_df = keywords_df[['pui', 'keyword_lists']]\n",
    "keywords_df = keywords_df.explode('keyword_lists').reset_index(drop=True)\n",
    "keywords_df.rename({'keyword_lists': 'keyword'}, inplace=True, axis=1)"
   ]
  },
  {
   "cell_type": "code",
   "execution_count": 10,
   "id": "b9bf8657",
   "metadata": {},
   "outputs": [],
   "source": [
    "keywords_df.dropna(subset=['keyword'], inplace=True)"
   ]
  },
  {
   "cell_type": "code",
   "execution_count": 11,
   "id": "d0370d2d",
   "metadata": {},
   "outputs": [],
   "source": [
    "keywords_df = keywords_df[keywords_df['keyword'] != '']\n",
    "keywords_df = keywords_df[keywords_df['keyword'] != ' ']\n",
    "keywords_df = keywords_df[keywords_df['keyword'] != '\\n']"
   ]
  },
  {
   "cell_type": "code",
   "execution_count": 12,
   "id": "9e6dc3da",
   "metadata": {},
   "outputs": [
    {
     "data": {
      "text/plain": [
       "Series([], Name: keyword, dtype: object)"
      ]
     },
     "execution_count": 12,
     "metadata": {},
     "output_type": "execute_result"
    }
   ],
   "source": [
    "keywords_df.loc[keywords_df['keyword'] == ' ', 'keyword']"
   ]
  },
  {
   "cell_type": "code",
   "execution_count": 13,
   "id": "d665f8ac",
   "metadata": {},
   "outputs": [],
   "source": [
    "keywords_grouped_df = keywords_df.groupby('keyword')\n",
    "keywords_grouped_sizes_df = keywords_grouped_df.size()\n",
    "keywords_grouped_get_combinations_df = keywords_grouped_df.apply(lambda x: list(itertools.combinations(x['pui'].tolist(), 2)))"
   ]
  },
  {
   "cell_type": "code",
   "execution_count": 14,
   "id": "473da99a",
   "metadata": {},
   "outputs": [],
   "source": [
    "keywords_grouped_get_combinations_not_empty = \\\n",
    "    keywords_grouped_get_combinations_df[keywords_grouped_get_combinations_df.map(lambda d: len(d)) > 0]\n",
    "\n",
    "all_keyword_links = keywords_grouped_get_combinations_not_empty.to_frame().explode(0)\n",
    "all_keyword_links[['from', 'to']] = pd.DataFrame(all_keyword_links[0].tolist(), index=all_keyword_links.index)\n",
    "all_keyword_links.drop(0, inplace=True, axis=1)"
   ]
  },
  {
   "cell_type": "code",
   "execution_count": 15,
   "id": "78181c04",
   "metadata": {},
   "outputs": [
    {
     "data": {
      "text/html": [
       "<div>\n",
       "<style scoped>\n",
       "    .dataframe tbody tr th:only-of-type {\n",
       "        vertical-align: middle;\n",
       "    }\n",
       "\n",
       "    .dataframe tbody tr th {\n",
       "        vertical-align: top;\n",
       "    }\n",
       "\n",
       "    .dataframe thead th {\n",
       "        text-align: right;\n",
       "    }\n",
       "</style>\n",
       "<table border=\"1\" class=\"dataframe\">\n",
       "  <thead>\n",
       "    <tr style=\"text-align: right;\">\n",
       "      <th></th>\n",
       "      <th>from</th>\n",
       "      <th>to</th>\n",
       "    </tr>\n",
       "    <tr>\n",
       "      <th>keyword</th>\n",
       "      <th></th>\n",
       "      <th></th>\n",
       "    </tr>\n",
       "  </thead>\n",
       "  <tbody>\n",
       "    <tr>\n",
       "      <th>adaptive sampling</th>\n",
       "      <td>2010405649</td>\n",
       "      <td>2010405716</td>\n",
       "    </tr>\n",
       "    <tr>\n",
       "      <th>agentbased simulation</th>\n",
       "      <td>2010405679</td>\n",
       "      <td>2010405740</td>\n",
       "    </tr>\n",
       "    <tr>\n",
       "      <th>aragonite</th>\n",
       "      <td>2010405659</td>\n",
       "      <td>2010405698</td>\n",
       "    </tr>\n",
       "    <tr>\n",
       "      <th>biomineral</th>\n",
       "      <td>2010405659</td>\n",
       "      <td>2010405698</td>\n",
       "    </tr>\n",
       "    <tr>\n",
       "      <th>competitive binding assay</th>\n",
       "      <td>2010405649</td>\n",
       "      <td>2010405716</td>\n",
       "    </tr>\n",
       "    <tr>\n",
       "      <th>...</th>\n",
       "      <td>...</td>\n",
       "      <td>...</td>\n",
       "    </tr>\n",
       "    <tr>\n",
       "      <th>εpolyllysine</th>\n",
       "      <td>2005483177</td>\n",
       "      <td>2010822363</td>\n",
       "    </tr>\n",
       "    <tr>\n",
       "      <th>μct</th>\n",
       "      <td>2007794477</td>\n",
       "      <td>2007434409</td>\n",
       "    </tr>\n",
       "    <tr>\n",
       "      <th>μct</th>\n",
       "      <td>2007794477</td>\n",
       "      <td>2006879601</td>\n",
       "    </tr>\n",
       "    <tr>\n",
       "      <th>μct</th>\n",
       "      <td>2007434409</td>\n",
       "      <td>2006879601</td>\n",
       "    </tr>\n",
       "    <tr>\n",
       "      <th>σ factors</th>\n",
       "      <td>2010047934</td>\n",
       "      <td>2006795905</td>\n",
       "    </tr>\n",
       "  </tbody>\n",
       "</table>\n",
       "<p>29794231 rows × 2 columns</p>\n",
       "</div>"
      ],
      "text/plain": [
       "                                  from          to\n",
       "keyword                                           \n",
       " adaptive sampling          2010405649  2010405716\n",
       " agentbased simulation      2010405679  2010405740\n",
       " aragonite                  2010405659  2010405698\n",
       " biomineral                 2010405659  2010405698\n",
       " competitive binding assay  2010405649  2010405716\n",
       "...                                ...         ...\n",
       "εpolyllysine                2005483177  2010822363\n",
       "μct                         2007794477  2007434409\n",
       "μct                         2007794477  2006879601\n",
       "μct                         2007434409  2006879601\n",
       "σ factors                   2010047934  2006795905\n",
       "\n",
       "[29794231 rows x 2 columns]"
      ]
     },
     "execution_count": 15,
     "metadata": {},
     "output_type": "execute_result"
    }
   ],
   "source": [
    "all_keyword_links"
   ]
  },
  {
   "cell_type": "code",
   "execution_count": 23,
   "id": "8954b48c",
   "metadata": {},
   "outputs": [],
   "source": [
    "keyword_graph = nx.from_pandas_edgelist(all_keyword_links.iloc[:3000000], source='from', target='to')"
   ]
  },
  {
   "cell_type": "code",
   "execution_count": 24,
   "id": "61a0aa9e",
   "metadata": {},
   "outputs": [
    {
     "name": "stdout",
     "output_type": "stream",
     "text": [
      "Average degree: 154.769681416388\n"
     ]
    },
    {
     "data": {
      "image/png": "[encoded data removed]",
      "text/plain": [
       "<Figure size 640x480 with 1 Axes>"
      ]
     },
     "metadata": {},
     "output_type": "display_data"
    }
   ],
   "source": [
    "all_degrees = [v for _, v in nx.degree(keyword_graph)]\n",
    "print(f'Average degree: {sum(all_degrees)/len(all_degrees)}')\n",
    "plt.figure()\n",
    "plt.xlim(0,50)\n",
    "plt.hist(all_degrees, bins=1000)\n",
    "plt.grid()"
   ]
  },
  {
   "cell_type": "code",
   "execution_count": null,
   "id": "a9e8d7db",
   "metadata": {},
   "outputs": [],
   "source": []
  }
 ],
 "metadata": {
  "kernelspec": {
   "display_name": "Python 3 (ipykernel)",
   "language": "python",
   "name": "python3"
  },
  "language_info": {
   "codemirror_mode": {
    "name": "ipython",
    "version": 3
   },
   "file_extension": ".py",
   "mimetype": "text/x-python",
   "name": "python",
   "nbconvert_exporter": "python",
   "pygments_lexer": "ipython3",
   "version": "3.9.2"
  },
  "vscode": {
   "interpreter": {
    "hash": "f4bc7a400e35f160b13ed52195005e41b219907c1be09b125a1c17e685484faa"
   }
  }
 },
 "nbformat": 4,
 "nbformat_minor": 5
}
