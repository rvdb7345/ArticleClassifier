{
 "cells": [
  {
   "cell_type": "markdown",
   "id": "435895cc",
   "metadata": {},
   "source": [
    "# Analysis of the XML information"
   ]
  },
  {
   "cell_type": "markdown",
   "id": "a7115717",
   "metadata": {},
   "source": [
    "## Load the necessary libraries"
   ]
  },
  {
   "cell_type": "code",
   "execution_count": 3,
   "id": "b809eb3d",
   "metadata": {},
   "outputs": [],
   "source": [
    "import pandas as pd\n",
    "import sys\n",
    "import os"
   ]
  },
  {
   "cell_type": "code",
   "execution_count": 4,
   "id": "0245e6f9",
   "metadata": {},
   "outputs": [],
   "source": [
    "sys.path.append(\n",
    "  os.path.abspath(os.path.join(os.path.dirname('data_loader.py'), os.path.pardir)))\n",
    "from src.data.data_loader import DataLoader"
   ]
  },
  {
   "cell_type": "code",
   "execution_count": null,
   "id": "c5c80900",
   "metadata": {},
   "outputs": [],
   "source": [
    "pd.read_xml()"
   ]
  }
 ],
 "metadata": {
  "kernelspec": {
   "display_name": "Python 3 (ipykernel)",
   "language": "python",
   "name": "python3"
  },
  "language_info": {
   "codemirror_mode": {
    "name": "ipython",
    "version": 3
   },
   "file_extension": ".py",
   "mimetype": "text/x-python",
   "name": "python",
   "nbconvert_exporter": "python",
   "pygments_lexer": "ipython3",
   "version": "3.9.2"
  }
 },
 "nbformat": 4,
 "nbformat_minor": 5
}
